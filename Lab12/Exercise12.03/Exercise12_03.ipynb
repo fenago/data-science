{
 "cells": [
  {
   "cell_type": "code",
   "execution_count": null,
   "metadata": {
    "colab": {},
    "colab_type": "code",
    "id": "HEiOAwQPW0qb"
   },
   "outputs": [],
   "source": [
    "import pandas as pd"
   ]
  },
  {
   "cell_type": "code",
   "execution_count": null,
   "metadata": {
    "colab": {},
    "colab_type": "code",
    "id": "j7whidfaYjns"
   },
   "outputs": [],
   "source": [
    "file_url = '../Dataset/Consumer_Complaints.csv'"
   ]
  },
  {
   "cell_type": "code",
   "execution_count": null,
   "metadata": {
    "colab": {
     "base_uri": "https://localhost:8080/",
     "height": 71
    },
    "colab_type": "code",
    "executionInfo": {
     "elapsed": 2810,
     "status": "ok",
     "timestamp": 1574650648591,
     "user": {
      "displayName": "Anthony So",
      "photoUrl": "https://lh3.googleusercontent.com/a-/AAuE7mCYY-iGjUIqBSnlLoszfZTN7rU7FRNg05Rdt9Ii3A=s64",
      "userId": "11809607246124237079"
     },
     "user_tz": -660
    },
    "id": "nFMz2jNVt-xy",
    "outputId": "6b73edfd-944a-4e99-bd4e-47d3ac2fcfc2"
   },
   "outputs": [],
   "source": [
    "df = pd.read_csv(file_url)"
   ]
  },
  {
   "cell_type": "code",
   "execution_count": null,
   "metadata": {
    "colab": {
     "base_uri": "https://localhost:8080/",
     "height": 442
    },
    "colab_type": "code",
    "executionInfo": {
     "elapsed": 2804,
     "status": "ok",
     "timestamp": 1574650648592,
     "user": {
      "displayName": "Anthony So",
      "photoUrl": "https://lh3.googleusercontent.com/a-/AAuE7mCYY-iGjUIqBSnlLoszfZTN7rU7FRNg05Rdt9Ii3A=s64",
      "userId": "11809607246124237079"
     },
     "user_tz": -660
    },
    "id": "Lp9Bk6AWlK0n",
    "outputId": "9a40e910-db36-4fab-fad0-233b35d89711"
   },
   "outputs": [],
   "source": [
    "df.head()"
   ]
  },
  {
   "cell_type": "code",
   "execution_count": null,
   "metadata": {
    "colab": {
     "base_uri": "https://localhost:8080/",
     "height": 272
    },
    "colab_type": "code",
    "executionInfo": {
     "elapsed": 2798,
     "status": "ok",
     "timestamp": 1574650648593,
     "user": {
      "displayName": "Anthony So",
      "photoUrl": "https://lh3.googleusercontent.com/a-/AAuE7mCYY-iGjUIqBSnlLoszfZTN7rU7FRNg05Rdt9Ii3A=s64",
      "userId": "11809607246124237079"
     },
     "user_tz": -660
    },
    "id": "hM9cgvPzRVPG",
    "outputId": "d12cecc1-2fb7-4ec6-cab5-155b1779995c"
   },
   "outputs": [],
   "source": [
    "df.dtypes"
   ]
  },
  {
   "cell_type": "code",
   "execution_count": null,
   "metadata": {
    "colab": {},
    "colab_type": "code",
    "id": "eVzF48N25VHN"
   },
   "outputs": [],
   "source": [
    "df['Date received'] = pd.to_datetime(df['Date received'])\n",
    "df['Date sent to company'] = pd.to_datetime(df['Date sent to company'])"
   ]
  },
  {
   "cell_type": "code",
   "execution_count": null,
   "metadata": {
    "colab": {
     "base_uri": "https://localhost:8080/",
     "height": 272
    },
    "colab_type": "code",
    "executionInfo": {
     "elapsed": 2791,
     "status": "ok",
     "timestamp": 1574650648594,
     "user": {
      "displayName": "Anthony So",
      "photoUrl": "https://lh3.googleusercontent.com/a-/AAuE7mCYY-iGjUIqBSnlLoszfZTN7rU7FRNg05Rdt9Ii3A=s64",
      "userId": "11809607246124237079"
     },
     "user_tz": -660
    },
    "id": "cuCg7Fl35qY5",
    "outputId": "0317099c-63ec-4b5d-e40c-e2de701d7a3d"
   },
   "outputs": [],
   "source": [
    "df.dtypes"
   ]
  },
  {
   "cell_type": "code",
   "execution_count": null,
   "metadata": {
    "colab": {},
    "colab_type": "code",
    "id": "ncFHpgqP5r53"
   },
   "outputs": [],
   "source": [
    "df['YearReceived'] = df['Date received'].dt.year"
   ]
  },
  {
   "cell_type": "code",
   "execution_count": null,
   "metadata": {
    "colab": {},
    "colab_type": "code",
    "id": "TLlkJRSh5r_4"
   },
   "outputs": [],
   "source": [
    "df['MonthReceived'] = df['Date received'].dt.month"
   ]
  },
  {
   "cell_type": "code",
   "execution_count": null,
   "metadata": {
    "colab": {},
    "colab_type": "code",
    "id": "qJT6m__I5VNZ"
   },
   "outputs": [],
   "source": [
    "df['DomReceived'] = df['Date received'].dt.day"
   ]
  },
  {
   "cell_type": "code",
   "execution_count": null,
   "metadata": {
    "colab": {},
    "colab_type": "code",
    "id": "ZSUq-9-cRVZ1"
   },
   "outputs": [],
   "source": [
    "df['DowReceived'] = df['Date received'].dt.dayofweek"
   ]
  },
  {
   "cell_type": "code",
   "execution_count": null,
   "metadata": {
    "colab": {
     "base_uri": "https://localhost:8080/",
     "height": 547
    },
    "colab_type": "code",
    "executionInfo": {
     "elapsed": 3047,
     "status": "ok",
     "timestamp": 1574650648869,
     "user": {
      "displayName": "Anthony So",
      "photoUrl": "https://lh3.googleusercontent.com/a-/AAuE7mCYY-iGjUIqBSnlLoszfZTN7rU7FRNg05Rdt9Ii3A=s64",
      "userId": "11809607246124237079"
     },
     "user_tz": -660
    },
    "id": "cW9rsR3K7tFG",
    "outputId": "280c0248-c734-4d9e-be42-1a3f85631ed1"
   },
   "outputs": [],
   "source": [
    "df.head()"
   ]
  },
  {
   "cell_type": "code",
   "execution_count": null,
   "metadata": {
    "colab": {},
    "colab_type": "code",
    "id": "Vw31m8n77cGi"
   },
   "outputs": [],
   "source": [
    "df['IsWeekendReceived'] = df['DowReceived'] >= 5"
   ]
  },
  {
   "cell_type": "code",
   "execution_count": null,
   "metadata": {
    "colab": {
     "base_uri": "https://localhost:8080/",
     "height": 547
    },
    "colab_type": "code",
    "executionInfo": {
     "elapsed": 3040,
     "status": "ok",
     "timestamp": 1574650648871,
     "user": {
      "displayName": "Anthony So",
      "photoUrl": "https://lh3.googleusercontent.com/a-/AAuE7mCYY-iGjUIqBSnlLoszfZTN7rU7FRNg05Rdt9Ii3A=s64",
      "userId": "11809607246124237079"
     },
     "user_tz": -660
    },
    "id": "bwnjNCRK7WLW",
    "outputId": "350b387f-a5c7-40f2-97c1-df6b1f1c942f"
   },
   "outputs": [],
   "source": [
    "df.head()"
   ]
  },
  {
   "cell_type": "code",
   "execution_count": null,
   "metadata": {
    "colab": {},
    "colab_type": "code",
    "id": "L4rg5BlH7yuF"
   },
   "outputs": [],
   "source": [
    "df['RoutingDays'] = df['Date sent to company'] - df['Date received']"
   ]
  },
  {
   "cell_type": "code",
   "execution_count": null,
   "metadata": {
    "colab": {
     "base_uri": "https://localhost:8080/",
     "height": 34
    },
    "colab_type": "code",
    "executionInfo": {
     "elapsed": 3033,
     "status": "ok",
     "timestamp": 1574650648872,
     "user": {
      "displayName": "Anthony So",
      "photoUrl": "https://lh3.googleusercontent.com/a-/AAuE7mCYY-iGjUIqBSnlLoszfZTN7rU7FRNg05Rdt9Ii3A=s64",
      "userId": "11809607246124237079"
     },
     "user_tz": -660
    },
    "id": "6A_aUaHG9M7h",
    "outputId": "44118d25-a966-41cc-df96-d1864eaecd3a"
   },
   "outputs": [],
   "source": [
    "df['RoutingDays'].dtype"
   ]
  },
  {
   "cell_type": "code",
   "execution_count": null,
   "metadata": {
    "colab": {},
    "colab_type": "code",
    "id": "zIkuLI1o8YNx"
   },
   "outputs": [],
   "source": [
    "df['RoutingDays'] = df['RoutingDays'].dt.days"
   ]
  },
  {
   "cell_type": "code",
   "execution_count": null,
   "metadata": {
    "colab": {
     "base_uri": "https://localhost:8080/",
     "height": 547
    },
    "colab_type": "code",
    "executionInfo": {
     "elapsed": 3025,
     "status": "ok",
     "timestamp": 1574650648873,
     "user": {
      "displayName": "Anthony So",
      "photoUrl": "https://lh3.googleusercontent.com/a-/AAuE7mCYY-iGjUIqBSnlLoszfZTN7rU7FRNg05Rdt9Ii3A=s64",
      "userId": "11809607246124237079"
     },
     "user_tz": -660
    },
    "id": "M_cyl9349U6j",
    "outputId": "9b38e401-3056-4df5-c118-8742e84bf76c"
   },
   "outputs": [],
   "source": [
    "df.head()\n"
   ]
  }
 ],
 "metadata": {
  "colab": {
   "collapsed_sections": [],
   "name": "Exercise12_03.ipynb",
   "provenance": []
  },
  "kernelspec": {
   "display_name": "Python 3",
   "language": "python",
   "name": "python3"
  },
  "language_info": {
   "codemirror_mode": {
    "name": "ipython",
    "version": 3
   },
   "file_extension": ".py",
   "mimetype": "text/x-python",
   "name": "python",
   "nbconvert_exporter": "python",
   "pygments_lexer": "ipython3",
   "version": "3.8.6"
  }
 },
 "nbformat": 4,
 "nbformat_minor": 1
}
