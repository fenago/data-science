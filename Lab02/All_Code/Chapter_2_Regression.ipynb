{
 "cells": [
  {
   "cell_type": "markdown",
   "metadata": {
    "colab_type": "text",
    "id": "o_xWRbP9oeJo"
   },
   "source": [
    "### **Exercise 2.01: Loading and preparing the data for analysis**"
   ]
  },
  {
   "cell_type": "code",
   "execution_count": 1,
   "metadata": {
    "colab": {},
    "colab_type": "code",
    "id": "S_e0RsA-fBKd"
   },
   "outputs": [],
   "source": [
    "# Import necessary modules\n",
    "\n",
    "%matplotlib inline\n",
    "import matplotlib as mpl\n",
    "import seaborn as sns\n",
    "import matplotlib.pyplot as plt\n",
    "import statsmodels.formula.api as smf\n",
    "import statsmodels.graphics.api as smg\n",
    "import pandas as pd\n",
    "import numpy as np\n",
    "import patsy\n",
    "from statsmodels.graphics.correlation import plot_corr\n",
    "from sklearn.model_selection import train_test_split\n",
    "plt.style.use('seaborn')"
   ]
  },
  {
   "cell_type": "code",
   "execution_count": 2,
   "metadata": {},
   "outputs": [],
   "source": [
    "# Load the dataset into a pandas dataframe\n",
    "\n",
    "rawBostonData = pd.read_csv('https://raw.githubusercontent.com/PacktWorkshops/The-Data-Science-Workshop/master/Chapter02/Dataset/Boston.csv')"
   ]
  },
  {
   "cell_type": "code",
   "execution_count": 3,
   "metadata": {
    "colab": {
     "base_uri": "https://localhost:8080/",
     "height": 204
    },
    "colab_type": "code",
    "id": "YEO5woBrpYci",
    "outputId": "8eb44eb8-87a6-432a-cf97-a01e0727d68a"
   },
   "outputs": [
    {
     "data": {
      "text/html": [
       "<div>\n",
       "<style scoped>\n",
       "    .dataframe tbody tr th:only-of-type {\n",
       "        vertical-align: middle;\n",
       "    }\n",
       "\n",
       "    .dataframe tbody tr th {\n",
       "        vertical-align: top;\n",
       "    }\n",
       "\n",
       "    .dataframe thead th {\n",
       "        text-align: right;\n",
       "    }\n",
       "</style>\n",
       "<table border=\"1\" class=\"dataframe\">\n",
       "  <thead>\n",
       "    <tr style=\"text-align: right;\">\n",
       "      <th></th>\n",
       "      <th>CRIM</th>\n",
       "      <th>ZN</th>\n",
       "      <th>INDUS</th>\n",
       "      <th>CHAS</th>\n",
       "      <th>NOX</th>\n",
       "      <th>RM</th>\n",
       "      <th>AGE</th>\n",
       "      <th>DIS</th>\n",
       "      <th>RAD</th>\n",
       "      <th>TAX</th>\n",
       "      <th>PTRATIO</th>\n",
       "      <th>LSTAT</th>\n",
       "      <th>MEDV</th>\n",
       "    </tr>\n",
       "  </thead>\n",
       "  <tbody>\n",
       "    <tr>\n",
       "      <td>0</td>\n",
       "      <td>0.00632</td>\n",
       "      <td>18.0</td>\n",
       "      <td>2.31</td>\n",
       "      <td>0</td>\n",
       "      <td>0.538</td>\n",
       "      <td>6.575</td>\n",
       "      <td>65.2</td>\n",
       "      <td>4.0900</td>\n",
       "      <td>1</td>\n",
       "      <td>296</td>\n",
       "      <td>15.3</td>\n",
       "      <td>4.98</td>\n",
       "      <td>24.0</td>\n",
       "    </tr>\n",
       "    <tr>\n",
       "      <td>1</td>\n",
       "      <td>0.02731</td>\n",
       "      <td>0.0</td>\n",
       "      <td>7.07</td>\n",
       "      <td>0</td>\n",
       "      <td>0.469</td>\n",
       "      <td>6.421</td>\n",
       "      <td>78.9</td>\n",
       "      <td>4.9671</td>\n",
       "      <td>2</td>\n",
       "      <td>242</td>\n",
       "      <td>17.8</td>\n",
       "      <td>9.14</td>\n",
       "      <td>21.6</td>\n",
       "    </tr>\n",
       "    <tr>\n",
       "      <td>2</td>\n",
       "      <td>0.02729</td>\n",
       "      <td>0.0</td>\n",
       "      <td>7.07</td>\n",
       "      <td>0</td>\n",
       "      <td>0.469</td>\n",
       "      <td>7.185</td>\n",
       "      <td>61.1</td>\n",
       "      <td>4.9671</td>\n",
       "      <td>2</td>\n",
       "      <td>242</td>\n",
       "      <td>17.8</td>\n",
       "      <td>4.03</td>\n",
       "      <td>34.7</td>\n",
       "    </tr>\n",
       "    <tr>\n",
       "      <td>3</td>\n",
       "      <td>0.03237</td>\n",
       "      <td>0.0</td>\n",
       "      <td>2.18</td>\n",
       "      <td>0</td>\n",
       "      <td>0.458</td>\n",
       "      <td>6.998</td>\n",
       "      <td>45.8</td>\n",
       "      <td>6.0622</td>\n",
       "      <td>3</td>\n",
       "      <td>222</td>\n",
       "      <td>18.7</td>\n",
       "      <td>2.94</td>\n",
       "      <td>33.4</td>\n",
       "    </tr>\n",
       "    <tr>\n",
       "      <td>4</td>\n",
       "      <td>0.06905</td>\n",
       "      <td>0.0</td>\n",
       "      <td>2.18</td>\n",
       "      <td>0</td>\n",
       "      <td>0.458</td>\n",
       "      <td>7.147</td>\n",
       "      <td>54.2</td>\n",
       "      <td>6.0622</td>\n",
       "      <td>3</td>\n",
       "      <td>222</td>\n",
       "      <td>18.7</td>\n",
       "      <td>5.33</td>\n",
       "      <td>36.2</td>\n",
       "    </tr>\n",
       "  </tbody>\n",
       "</table>\n",
       "</div>"
      ],
      "text/plain": [
       "      CRIM   ZN   INDUS   CHAS    NOX     RM   AGE     DIS  RAD  TAX  PTRATIO  \\\n",
       "0  0.00632  18.0    2.31     0  0.538  6.575  65.2  4.0900    1  296     15.3   \n",
       "1  0.02731   0.0    7.07     0  0.469  6.421  78.9  4.9671    2  242     17.8   \n",
       "2  0.02729   0.0    7.07     0  0.469  7.185  61.1  4.9671    2  242     17.8   \n",
       "3  0.03237   0.0    2.18     0  0.458  6.998  45.8  6.0622    3  222     18.7   \n",
       "4  0.06905   0.0    2.18     0  0.458  7.147  54.2  6.0622    3  222     18.7   \n",
       "\n",
       "   LSTAT  MEDV  \n",
       "0   4.98  24.0  \n",
       "1   9.14  21.6  \n",
       "2   4.03  34.7  \n",
       "3   2.94  33.4  \n",
       "4   5.33  36.2  "
      ]
     },
     "execution_count": 3,
     "metadata": {},
     "output_type": "execute_result"
    }
   ],
   "source": [
    "# Inspect the dataframe\n",
    "\n",
    "rawBostonData.head() "
   ]
  },
  {
   "cell_type": "code",
   "execution_count": 4,
   "metadata": {
    "colab": {},
    "colab_type": "code",
    "id": "Zz23WUNNpx6c"
   },
   "outputs": [],
   "source": [
    "# Drop missing values from the dataframe\n",
    "\n",
    "rawBostonData = rawBostonData.dropna()"
   ]
  },
  {
   "cell_type": "code",
   "execution_count": 5,
   "metadata": {
    "colab": {},
    "colab_type": "code",
    "id": "gDCUyRscp43W"
   },
   "outputs": [],
   "source": [
    "# Drop duplicate records from the dataframe\n",
    "\n",
    "rawBostonData = rawBostonData.drop_duplicates()"
   ]
  },
  {
   "cell_type": "code",
   "execution_count": 6,
   "metadata": {
    "colab": {
     "base_uri": "https://localhost:8080/",
     "height": 238
    },
    "colab_type": "code",
    "id": "Q9GyOY_9p5Pt",
    "outputId": "bcae4407-2c54-4027-9fff-48de3b803c3d"
   },
   "outputs": [
    {
     "data": {
      "text/plain": [
       "['CRIM',\n",
       " ' ZN ',\n",
       " 'INDUS ',\n",
       " 'CHAS',\n",
       " 'NOX',\n",
       " 'RM',\n",
       " 'AGE',\n",
       " 'DIS',\n",
       " 'RAD',\n",
       " 'TAX',\n",
       " 'PTRATIO',\n",
       " 'LSTAT',\n",
       " 'MEDV']"
      ]
     },
     "execution_count": 6,
     "metadata": {},
     "output_type": "execute_result"
    }
   ],
   "source": [
    "# List the dataframe column names\n",
    "\n",
    "list(rawBostonData.columns)"
   ]
  },
  {
   "cell_type": "code",
   "execution_count": 7,
   "metadata": {
    "colab": {},
    "colab_type": "code",
    "id": "BFydSue8qKaZ"
   },
   "outputs": [],
   "source": [
    "# Rename the dataframe column headings\n",
    "\n",
    "renamedBostonData = rawBostonData.rename(columns = {'CRIM':'crimeRatePerCapita',\n",
    " ' ZN ':'landOver25K_sqft',\n",
    " 'INDUS ':'non-retailLandProptn',\n",
    " 'CHAS':'riverDummy',\n",
    " 'NOX':'nitrixOxide_pp10m',\n",
    " 'RM':'AvgNo.RoomsPerDwelling',\n",
    " 'AGE':'ProptnOwnerOccupied',\n",
    " 'DIS':'weightedDist',\n",
    " 'RAD':'radialHighwaysAccess',\n",
    " 'TAX':'propTaxRate_per10K',\n",
    " 'PTRATIO':'pupilTeacherRatio',\n",
    " 'LSTAT':'pctLowerStatus',\n",
    " 'MEDV':'medianValue_Ks'})"
   ]
  },
  {
   "cell_type": "code",
   "execution_count": 8,
   "metadata": {
    "colab": {
     "base_uri": "https://localhost:8080/",
     "height": 323
    },
    "colab_type": "code",
    "id": "792LNU-3qKn9",
    "outputId": "63f9cca7-24ed-42dd-ab07-d43a29499393"
   },
   "outputs": [
    {
     "name": "stdout",
     "output_type": "stream",
     "text": [
      "<class 'pandas.core.frame.DataFrame'>\n",
      "Int64Index: 506 entries, 0 to 505\n",
      "Data columns (total 13 columns):\n",
      "crimeRatePerCapita        506 non-null float64\n",
      "landOver25K_sqft          506 non-null float64\n",
      "non-retailLandProptn      506 non-null float64\n",
      "riverDummy                506 non-null int64\n",
      "nitrixOxide_pp10m         506 non-null float64\n",
      "AvgNo.RoomsPerDwelling    506 non-null float64\n",
      "ProptnOwnerOccupied       506 non-null float64\n",
      "weightedDist              506 non-null float64\n",
      "radialHighwaysAccess      506 non-null int64\n",
      "propTaxRate_per10K        506 non-null int64\n",
      "pupilTeacherRatio         506 non-null float64\n",
      "pctLowerStatus            506 non-null float64\n",
      "medianValue_Ks            506 non-null float64\n",
      "dtypes: float64(10), int64(3)\n",
      "memory usage: 55.3 KB\n"
     ]
    }
   ],
   "source": [
    "# Inspect the types of data in the dataframe\n",
    "\n",
    "renamedBostonData.info()"
   ]
  },
  {
   "cell_type": "code",
   "execution_count": 9,
   "metadata": {
    "colab": {
     "base_uri": "https://localhost:8080/",
     "height": 452
    },
    "colab_type": "code",
    "id": "ZEyhe_JeqKyg",
    "outputId": "9dda9806-e319-45e5-a3e5-06df3ed90550"
   },
   "outputs": [
    {
     "data": {
      "text/html": [
       "<div>\n",
       "<style scoped>\n",
       "    .dataframe tbody tr th:only-of-type {\n",
       "        vertical-align: middle;\n",
       "    }\n",
       "\n",
       "    .dataframe tbody tr th {\n",
       "        vertical-align: top;\n",
       "    }\n",
       "\n",
       "    .dataframe thead th {\n",
       "        text-align: right;\n",
       "    }\n",
       "</style>\n",
       "<table border=\"1\" class=\"dataframe\">\n",
       "  <thead>\n",
       "    <tr style=\"text-align: right;\">\n",
       "      <th></th>\n",
       "      <th>count</th>\n",
       "      <th>mean</th>\n",
       "      <th>std</th>\n",
       "      <th>min</th>\n",
       "      <th>25%</th>\n",
       "      <th>50%</th>\n",
       "      <th>75%</th>\n",
       "      <th>max</th>\n",
       "    </tr>\n",
       "  </thead>\n",
       "  <tbody>\n",
       "    <tr>\n",
       "      <td>crimeRatePerCapita</td>\n",
       "      <td>506.0</td>\n",
       "      <td>3.613524</td>\n",
       "      <td>8.601545</td>\n",
       "      <td>0.00632</td>\n",
       "      <td>0.082045</td>\n",
       "      <td>0.25651</td>\n",
       "      <td>3.677082</td>\n",
       "      <td>88.9762</td>\n",
       "    </tr>\n",
       "    <tr>\n",
       "      <td>landOver25K_sqft</td>\n",
       "      <td>506.0</td>\n",
       "      <td>11.363636</td>\n",
       "      <td>23.322453</td>\n",
       "      <td>0.00000</td>\n",
       "      <td>0.000000</td>\n",
       "      <td>0.00000</td>\n",
       "      <td>12.500000</td>\n",
       "      <td>100.0000</td>\n",
       "    </tr>\n",
       "    <tr>\n",
       "      <td>non-retailLandProptn</td>\n",
       "      <td>506.0</td>\n",
       "      <td>11.136779</td>\n",
       "      <td>6.860353</td>\n",
       "      <td>0.46000</td>\n",
       "      <td>5.190000</td>\n",
       "      <td>9.69000</td>\n",
       "      <td>18.100000</td>\n",
       "      <td>27.7400</td>\n",
       "    </tr>\n",
       "    <tr>\n",
       "      <td>riverDummy</td>\n",
       "      <td>506.0</td>\n",
       "      <td>0.069170</td>\n",
       "      <td>0.253994</td>\n",
       "      <td>0.00000</td>\n",
       "      <td>0.000000</td>\n",
       "      <td>0.00000</td>\n",
       "      <td>0.000000</td>\n",
       "      <td>1.0000</td>\n",
       "    </tr>\n",
       "    <tr>\n",
       "      <td>nitrixOxide_pp10m</td>\n",
       "      <td>506.0</td>\n",
       "      <td>0.554695</td>\n",
       "      <td>0.115878</td>\n",
       "      <td>0.38500</td>\n",
       "      <td>0.449000</td>\n",
       "      <td>0.53800</td>\n",
       "      <td>0.624000</td>\n",
       "      <td>0.8710</td>\n",
       "    </tr>\n",
       "    <tr>\n",
       "      <td>AvgNo.RoomsPerDwelling</td>\n",
       "      <td>506.0</td>\n",
       "      <td>6.284634</td>\n",
       "      <td>0.702617</td>\n",
       "      <td>3.56100</td>\n",
       "      <td>5.885500</td>\n",
       "      <td>6.20850</td>\n",
       "      <td>6.623500</td>\n",
       "      <td>8.7800</td>\n",
       "    </tr>\n",
       "    <tr>\n",
       "      <td>ProptnOwnerOccupied</td>\n",
       "      <td>506.0</td>\n",
       "      <td>68.574901</td>\n",
       "      <td>28.148861</td>\n",
       "      <td>2.90000</td>\n",
       "      <td>45.025000</td>\n",
       "      <td>77.50000</td>\n",
       "      <td>94.075000</td>\n",
       "      <td>100.0000</td>\n",
       "    </tr>\n",
       "    <tr>\n",
       "      <td>weightedDist</td>\n",
       "      <td>506.0</td>\n",
       "      <td>3.795043</td>\n",
       "      <td>2.105710</td>\n",
       "      <td>1.12960</td>\n",
       "      <td>2.100175</td>\n",
       "      <td>3.20745</td>\n",
       "      <td>5.188425</td>\n",
       "      <td>12.1265</td>\n",
       "    </tr>\n",
       "    <tr>\n",
       "      <td>radialHighwaysAccess</td>\n",
       "      <td>506.0</td>\n",
       "      <td>9.549407</td>\n",
       "      <td>8.707259</td>\n",
       "      <td>1.00000</td>\n",
       "      <td>4.000000</td>\n",
       "      <td>5.00000</td>\n",
       "      <td>24.000000</td>\n",
       "      <td>24.0000</td>\n",
       "    </tr>\n",
       "    <tr>\n",
       "      <td>propTaxRate_per10K</td>\n",
       "      <td>506.0</td>\n",
       "      <td>408.237154</td>\n",
       "      <td>168.537116</td>\n",
       "      <td>187.00000</td>\n",
       "      <td>279.000000</td>\n",
       "      <td>330.00000</td>\n",
       "      <td>666.000000</td>\n",
       "      <td>711.0000</td>\n",
       "    </tr>\n",
       "    <tr>\n",
       "      <td>pupilTeacherRatio</td>\n",
       "      <td>506.0</td>\n",
       "      <td>18.455534</td>\n",
       "      <td>2.164946</td>\n",
       "      <td>12.60000</td>\n",
       "      <td>17.400000</td>\n",
       "      <td>19.05000</td>\n",
       "      <td>20.200000</td>\n",
       "      <td>22.0000</td>\n",
       "    </tr>\n",
       "    <tr>\n",
       "      <td>pctLowerStatus</td>\n",
       "      <td>506.0</td>\n",
       "      <td>12.653063</td>\n",
       "      <td>7.141062</td>\n",
       "      <td>1.73000</td>\n",
       "      <td>6.950000</td>\n",
       "      <td>11.36000</td>\n",
       "      <td>16.955000</td>\n",
       "      <td>37.9700</td>\n",
       "    </tr>\n",
       "    <tr>\n",
       "      <td>medianValue_Ks</td>\n",
       "      <td>506.0</td>\n",
       "      <td>22.532806</td>\n",
       "      <td>9.197104</td>\n",
       "      <td>5.00000</td>\n",
       "      <td>17.025000</td>\n",
       "      <td>21.20000</td>\n",
       "      <td>25.000000</td>\n",
       "      <td>50.0000</td>\n",
       "    </tr>\n",
       "  </tbody>\n",
       "</table>\n",
       "</div>"
      ],
      "text/plain": [
       "                        count        mean         std        min         25%  \\\n",
       "crimeRatePerCapita      506.0    3.613524    8.601545    0.00632    0.082045   \n",
       "landOver25K_sqft        506.0   11.363636   23.322453    0.00000    0.000000   \n",
       "non-retailLandProptn    506.0   11.136779    6.860353    0.46000    5.190000   \n",
       "riverDummy              506.0    0.069170    0.253994    0.00000    0.000000   \n",
       "nitrixOxide_pp10m       506.0    0.554695    0.115878    0.38500    0.449000   \n",
       "AvgNo.RoomsPerDwelling  506.0    6.284634    0.702617    3.56100    5.885500   \n",
       "ProptnOwnerOccupied     506.0   68.574901   28.148861    2.90000   45.025000   \n",
       "weightedDist            506.0    3.795043    2.105710    1.12960    2.100175   \n",
       "radialHighwaysAccess    506.0    9.549407    8.707259    1.00000    4.000000   \n",
       "propTaxRate_per10K      506.0  408.237154  168.537116  187.00000  279.000000   \n",
       "pupilTeacherRatio       506.0   18.455534    2.164946   12.60000   17.400000   \n",
       "pctLowerStatus          506.0   12.653063    7.141062    1.73000    6.950000   \n",
       "medianValue_Ks          506.0   22.532806    9.197104    5.00000   17.025000   \n",
       "\n",
       "                              50%         75%       max  \n",
       "crimeRatePerCapita        0.25651    3.677082   88.9762  \n",
       "landOver25K_sqft          0.00000   12.500000  100.0000  \n",
       "non-retailLandProptn      9.69000   18.100000   27.7400  \n",
       "riverDummy                0.00000    0.000000    1.0000  \n",
       "nitrixOxide_pp10m         0.53800    0.624000    0.8710  \n",
       "AvgNo.RoomsPerDwelling    6.20850    6.623500    8.7800  \n",
       "ProptnOwnerOccupied      77.50000   94.075000  100.0000  \n",
       "weightedDist              3.20745    5.188425   12.1265  \n",
       "radialHighwaysAccess      5.00000   24.000000   24.0000  \n",
       "propTaxRate_per10K      330.00000  666.000000  711.0000  \n",
       "pupilTeacherRatio        19.05000   20.200000   22.0000  \n",
       "pctLowerStatus           11.36000   16.955000   37.9700  \n",
       "medianValue_Ks           21.20000   25.000000   50.0000  "
      ]
     },
     "execution_count": 9,
     "metadata": {},
     "output_type": "execute_result"
    }
   ],
   "source": [
    "# Calculate basic statistics using the values in the dataframe\n",
    "\n",
    "renamedBostonData.describe(include=[np.number]).T"
   ]
  },
  {
   "cell_type": "code",
   "execution_count": 10,
   "metadata": {
    "colab": {},
    "colab_type": "code",
    "id": "n5wmtur8rXFG"
   },
   "outputs": [],
   "source": [
    "# Split the data set into training and test sets\n",
    "\n",
    "X = renamedBostonData.drop('crimeRatePerCapita', axis = 1)\n",
    "y = renamedBostonData[['crimeRatePerCapita']]\n",
    "seed = 10 \n",
    "test_data_size = 0.3 \n",
    "X_train, X_test, y_train, y_test = train_test_split(X, y, test_size = test_data_size, random_state = seed)\n",
    "train_data = pd.concat([X_train, y_train], axis = 1)\n",
    "test_data = pd.concat([X_test, y_test], axis = 1)"
   ]
  },
  {
   "cell_type": "code",
   "execution_count": 11,
   "metadata": {
    "colab": {
     "base_uri": "https://localhost:8080/",
     "height": 793
    },
    "colab_type": "code",
    "id": "G8w04aBtrXWQ",
    "outputId": "a0751f02-6f76-43e6-e0e1-1c522255c60f"
   },
   "outputs": [
    {
     "data": {
      "image/png": "[encoded data removed]",
      "text/plain": [
       "<Figure size 432x288 with 2 Axes>"
      ]
     },
     "execution_count": 11,
     "metadata": {},
     "output_type": "execute_result"
    },
    {
     "data": {
      "image/png": "[encoded data removed]",
      "text/plain": [
       "<Figure size 432x288 with 2 Axes>"
      ]
     },
     "metadata": {
      "needs_background": "light"
     },
     "output_type": "display_data"
    }
   ],
   "source": [
    "# Create and plot a correlation matrix\n",
    "\n",
    "corrMatrix = train_data.corr(method = 'pearson')\n",
    "xnames=list(train_data.columns)\n",
    "ynames=list(train_data.columns)\n",
    "plot_corr(corrMatrix, xnames=xnames, ynames=ynames,\\\n",
    "          title=None, normcolor=False, cmap='RdYlBu_r')"
   ]
  },
  {
   "cell_type": "markdown",
   "metadata": {
    "colab_type": "text",
    "id": "aWfnyCJhr7SP"
   },
   "source": [
    "### **Exercise 2.02: Graphical investigation of linear relationships using Python**\n",
    "\n",
    "\n",
    "\n"
   ]
  },
  {
   "cell_type": "code",
   "execution_count": 12,
   "metadata": {
    "colab": {
     "base_uri": "https://localhost:8080/",
     "height": 441
    },
    "colab_type": "code",
    "id": "pZMrvpvirkMa",
    "outputId": "4b3a1921-82cf-449a-c57a-6fee9d804b20"
   },
   "outputs": [
    {
     "data": {
      "image/png": "[encoded data removed]",
      "text/plain": [
       "<Figure size 720x432 with 1 Axes>"
      ]
     },
     "metadata": {
      "needs_background": "light"
     },
     "output_type": "display_data"
    }
   ],
   "source": [
    "# Use the seaborn function regplot to create a scatter plot and fit a regression line through it\n",
    "\n",
    "fig, ax = plt.subplots(figsize=(10, 6))\n",
    "sns.regplot(x='medianValue_Ks', y='crimeRatePerCapita', ci=None,\n",
    "data=train_data, ax=ax, color='k', scatter_kws={\"s\": 20,\"color\":\\\n",
    "\"royalblue\", \"alpha\":1})\n",
    "ax.set_ylabel('Crime rate per Capita', fontsize=15, fontname='DejaVu Sans')\n",
    "ax.set_xlabel(\"Median value of owner-occupied homes in $1000's\",\\\n",
    "fontsize=15, fontname='DejaVu Sans')\n",
    "ax.set_xlim(left=None, right=None)\n",
    "ax.set_ylim(bottom=None, top=30)\n",
    "ax.tick_params(axis='both', which='major', labelsize=12)\n",
    "fig.tight_layout()"
   ]
  },
  {
   "cell_type": "markdown",
   "metadata": {
    "colab_type": "text",
    "id": "Ncyc8Kz9uvC6"
   },
   "source": [
    "### **Exercise 2.03: Examining a possible log-linear relationship using Python**"
   ]
  },
  {
   "cell_type": "code",
   "execution_count": 13,
   "metadata": {
    "colab": {
     "base_uri": "https://localhost:8080/",
     "height": 441
    },
    "colab_type": "code",
    "id": "P1FzdmrsrkcU",
    "outputId": "15c55406-d4d6-44e0-ee17-54213bc6ad9c"
   },
   "outputs": [
    {
     "data": {
      "image/png": "[encoded data removed]",
      "text/plain": [
       "<Figure size 720x432 with 1 Axes>"
      ]
     },
     "metadata": {
      "needs_background": "light"
     },
     "output_type": "display_data"
    }
   ],
   "source": [
    "# Use the seaborn function regplot to create a log-linear plot and fit a regression line through it\n",
    "\n",
    "fig, ax = plt.subplots(figsize=(10, 6))\n",
    "y = np.log(train_data['crimeRatePerCapita'])\n",
    "sns.regplot(x='medianValue_Ks', y=y, ci=95, data=train_data, ax=ax,\\\n",
    "color='k', scatter_kws={\"s\": 20,\"color\": \"royalblue\", \"alpha\":1})\n",
    "ax.set_ylabel('log of Crime rate per Capita', fontsize=15,\\\n",
    "fontname='DejaVu Sans')\n",
    "ax.set_xlabel(\"Median value of owner-occupied homes in $1000's\",\\\n",
    "fontsize=15, fontname='DejaVu Sans')\n",
    "ax.set_xlim(left=None, right=None)\n",
    "ax.set_ylim(bottom=None, top=None)\n",
    "ax.tick_params(axis='both', which='major', labelsize=12)\n",
    "fig.tight_layout()"
   ]
  },
  {
   "cell_type": "markdown",
   "metadata": {
    "colab_type": "text",
    "id": "LvamFp1BzZk2"
   },
   "source": [
    "### **Exercise 2.04: Fit a simple linear regression model using the Statsmodels formula API**"
   ]
  },
  {
   "cell_type": "code",
   "execution_count": 14,
   "metadata": {
    "colab": {
     "base_uri": "https://localhost:8080/",
     "height": 442
    },
    "colab_type": "code",
    "id": "eG0rTO_FrkqI",
    "outputId": "311c1272-3fad-4020-f45e-9d55a737533e"
   },
   "outputs": [
    {
     "name": "stdout",
     "output_type": "stream",
     "text": [
      "                            OLS Regression Results                            \n",
      "==============================================================================\n",
      "Dep. Variable:     crimeRatePerCapita   R-squared:                       0.144\n",
      "Model:                            OLS   Adj. R-squared:                  0.141\n",
      "Method:                 Least Squares   F-statistic:                     59.02\n",
      "Date:                Sat, 11 Jan 2020   Prob (F-statistic):           1.56e-13\n",
      "Time:                        17:34:53   Log-Likelihood:                -1217.4\n",
      "No. Observations:                 354   AIC:                             2439.\n",
      "Df Residuals:                     352   BIC:                             2447.\n",
      "Df Model:                           1                                         \n",
      "Covariance Type:            nonrobust                                         \n",
      "==================================================================================\n",
      "                     coef    std err          t      P>|t|      [0.025      0.975]\n",
      "----------------------------------------------------------------------------------\n",
      "Intercept         11.2094      1.079     10.386      0.000       9.087      13.332\n",
      "medianValue_Ks    -0.3502      0.046     -7.683      0.000      -0.440      -0.261\n",
      "==============================================================================\n",
      "Omnibus:                      447.354   Durbin-Watson:                   1.928\n",
      "Prob(Omnibus):                  0.000   Jarque-Bera (JB):            39791.431\n",
      "Skew:                           5.897   Prob(JB):                         0.00\n",
      "Kurtosis:                      53.583   Cond. No.                         63.7\n",
      "==============================================================================\n",
      "\n",
      "Warnings:\n",
      "[1] Standard Errors assume that the covariance matrix of the errors is correctly specified.\n"
     ]
    }
   ],
   "source": [
    "# Use the statsmodels API to create a simple linear regression\n",
    "\n",
    "linearModel = smf.ols(formula='crimeRatePerCapita ~ medianValue_Ks',\\\n",
    "data=train_data)\n",
    "linearModelResult = linearModel.fit()\n",
    "print(linearModelResult.summary())"
   ]
  },
  {
   "cell_type": "markdown",
   "metadata": {
    "colab_type": "text",
    "id": "MnnGgmBh0G2I"
   },
   "source": [
    "### **Activity 2.01: Fit a log-linear model using the Statsmodels formula API**"
   ]
  },
  {
   "cell_type": "code",
   "execution_count": 15,
   "metadata": {
    "colab": {
     "base_uri": "https://localhost:8080/",
     "height": 442
    },
    "colab_type": "code",
    "id": "PFG3qNdQzRRR",
    "outputId": "fb499a61-9a16-40be-e97c-d4f46a3b13a8"
   },
   "outputs": [
    {
     "name": "stdout",
     "output_type": "stream",
     "text": [
      "                                OLS Regression Results                                \n",
      "======================================================================================\n",
      "Dep. Variable:     np.log(crimeRatePerCapita)   R-squared:                       0.238\n",
      "Model:                                    OLS   Adj. R-squared:                  0.236\n",
      "Method:                         Least Squares   F-statistic:                     109.9\n",
      "Date:                        Sat, 11 Jan 2020   Prob (F-statistic):           1.48e-22\n",
      "Time:                                17:34:53   Log-Likelihood:                -727.67\n",
      "No. Observations:                         354   AIC:                             1459.\n",
      "Df Residuals:                             352   BIC:                             1467.\n",
      "Df Model:                                   1                                         \n",
      "Covariance Type:                    nonrobust                                         \n",
      "==================================================================================\n",
      "                     coef    std err          t      P>|t|      [0.025      0.975]\n",
      "----------------------------------------------------------------------------------\n",
      "Intercept          1.9107      0.271      7.062      0.000       1.379       2.443\n",
      "medianValue_Ks    -0.1198      0.011    -10.482      0.000      -0.142      -0.097\n",
      "==============================================================================\n",
      "Omnibus:                       11.420   Durbin-Watson:                   1.907\n",
      "Prob(Omnibus):                  0.003   Jarque-Bera (JB):               10.764\n",
      "Skew:                           0.376   Prob(JB):                      0.00460\n",
      "Kurtosis:                       2.594   Cond. No.                         63.7\n",
      "==============================================================================\n",
      "\n",
      "Warnings:\n",
      "[1] Standard Errors assume that the covariance matrix of the errors is correctly specified.\n"
     ]
    }
   ],
   "source": [
    "# Use the statsmodels API to create a log-linear regression model\n",
    "\n",
    "logLinearModel = smf.ols(formula='np.log(crimeRatePerCapita) ~ medianValue_Ks',\\\n",
    "data=train_data)\n",
    "logLinearModResult = logLinearModel.fit()\n",
    "print(logLinearModResult.summary())"
   ]
  },
  {
   "cell_type": "markdown",
   "metadata": {
    "colab_type": "text",
    "id": "bySbtbZi2ApH"
   },
   "source": [
    "### **Exercise 2.05: Fit a multiple linear regression model using the Statsmodels formula API**"
   ]
  },
  {
   "cell_type": "code",
   "execution_count": 16,
   "metadata": {
    "colab": {
     "base_uri": "https://localhost:8080/",
     "height": 493
    },
    "colab_type": "code",
    "id": "cEuWdnJ0zRgM",
    "outputId": "536d1a68-f07a-40eb-c965-effacecf9e1e"
   },
   "outputs": [
    {
     "name": "stdout",
     "output_type": "stream",
     "text": [
      "                            OLS Regression Results                            \n",
      "==============================================================================\n",
      "Dep. Variable:     crimeRatePerCapita   R-squared:                       0.398\n",
      "Model:                            OLS   Adj. R-squared:                  0.391\n",
      "Method:                 Least Squares   F-statistic:                     57.77\n",
      "Date:                Sat, 11 Jan 2020   Prob (F-statistic):           2.19e-37\n",
      "Time:                        17:34:53   Log-Likelihood:                -1154.9\n",
      "No. Observations:                 354   AIC:                             2320.\n",
      "Df Residuals:                     349   BIC:                             2339.\n",
      "Df Model:                           4                                         \n",
      "Covariance Type:            nonrobust                                         \n",
      "========================================================================================\n",
      "                           coef    std err          t      P>|t|      [0.025      0.975]\n",
      "----------------------------------------------------------------------------------------\n",
      "Intercept                0.8912      2.670      0.334      0.739      -4.360       6.142\n",
      "pctLowerStatus           0.1028      0.080      1.277      0.202      -0.055       0.261\n",
      "radialHighwaysAccess     0.4948      0.048     10.216      0.000       0.400       0.590\n",
      "medianValue_Ks          -0.1103      0.058     -1.916      0.056      -0.224       0.003\n",
      "nitrixOxide_pp10m       -2.1039      4.131     -0.509      0.611     -10.229       6.021\n",
      "==============================================================================\n",
      "Omnibus:                      534.476   Durbin-Watson:                   1.999\n",
      "Prob(Omnibus):                  0.000   Jarque-Bera (JB):           100129.789\n",
      "Skew:                           7.866   Prob(JB):                         0.00\n",
      "Kurtosis:                      83.876   Cond. No.                         374.\n",
      "==============================================================================\n",
      "\n",
      "Warnings:\n",
      "[1] Standard Errors assume that the covariance matrix of the errors is correctly specified.\n"
     ]
    }
   ],
   "source": [
    "# Use the statsmodels API to create a multiple linear regression model\n",
    "\n",
    "multiLinearModel = smf.ols(formula=\\\n",
    "'crimeRatePerCapita ~ pctLowerStatus + radialHighwaysAccess +\\\n",
    "medianValue_Ks + nitrixOxide_pp10m', data=train_data)\n",
    "multiLinearModResult = multiLinearModel.fit()\n",
    "print(multiLinearModResult.summary())"
   ]
  },
  {
   "cell_type": "markdown",
   "metadata": {
    "colab_type": "text",
    "id": "2bjo67Vj2kyj"
   },
   "source": [
    "### **Activity 2.02: Fit a multiple log-linear regression model**"
   ]
  },
  {
   "cell_type": "code",
   "execution_count": 17,
   "metadata": {
    "colab": {
     "base_uri": "https://localhost:8080/",
     "height": 629
    },
    "colab_type": "code",
    "id": "2P3Ta9Atp5eU",
    "outputId": "de0bc877-2a98-4eb0-ee8d-76c51c370087"
   },
   "outputs": [
    {
     "name": "stdout",
     "output_type": "stream",
     "text": [
      "                                OLS Regression Results                                \n",
      "======================================================================================\n",
      "Dep. Variable:     np.log(crimeRatePerCapita)   R-squared:                       0.884\n",
      "Model:                                    OLS   Adj. R-squared:                  0.881\n",
      "Method:                         Least Squares   F-statistic:                     261.5\n",
      "Date:                        Sat, 11 Jan 2020   Prob (F-statistic):          7.79e-154\n",
      "Time:                                17:34:53   Log-Likelihood:                -394.39\n",
      "No. Observations:                         354   AIC:                             810.8\n",
      "Df Residuals:                             343   BIC:                             853.3\n",
      "Df Model:                                  10                                         \n",
      "Covariance Type:                    nonrobust                                         \n",
      "==========================================================================================================\n",
      "                                             coef    std err          t      P>|t|      [0.025      0.975]\n",
      "----------------------------------------------------------------------------------------------------------\n",
      "Intercept                                 -5.4707      1.490     -3.671      0.000      -8.402      -2.540\n",
      "pctLowerStatus                             0.1541      0.049      3.161      0.002       0.058       0.250\n",
      "radialHighwaysAccess                       0.4697      0.052      9.070      0.000       0.368       0.572\n",
      "medianValue_Ks                            -0.1457      0.044     -3.325      0.001      -0.232      -0.059\n",
      "nitrixOxide_pp10m                          3.4509      3.000      1.150      0.251      -2.450       9.352\n",
      "pctLowerStatus:radialHighwaysAccess       -0.0006      0.001     -0.576      0.565      -0.003       0.002\n",
      "pctLowerStatus:medianValue_Ks             -0.0041      0.001     -4.159      0.000      -0.006      -0.002\n",
      "pctLowerStatus:nitrixOxide_pp10m          -0.0783      0.081     -0.964      0.336      -0.238       0.082\n",
      "radialHighwaysAccess:medianValue_Ks       -0.0027      0.001     -2.694      0.007      -0.005      -0.001\n",
      "radialHighwaysAccess:nitrixOxide_pp10m    -0.4234      0.066     -6.404      0.000      -0.553      -0.293\n",
      "medianValue_Ks:nitrixOxide_pp10m           0.3552      0.092      3.869      0.000       0.175       0.536\n",
      "==============================================================================\n",
      "Omnibus:                        4.124   Durbin-Watson:                   1.966\n",
      "Prob(Omnibus):                  0.127   Jarque-Bera (JB):                4.107\n",
      "Skew:                           0.175   Prob(JB):                        0.128\n",
      "Kurtosis:                       3.395   Cond. No.                     3.29e+04\n",
      "==============================================================================\n",
      "\n",
      "Warnings:\n",
      "[1] Standard Errors assume that the covariance matrix of the errors is correctly specified.\n",
      "[2] The condition number is large, 3.29e+04. This might indicate that there are\n",
      "strong multicollinearity or other numerical problems.\n"
     ]
    }
   ],
   "source": [
    "# Use the statsmodels API to create a multiple log-linear regression model\n",
    "\n",
    "multiLogLinMod = smf.ols(formula=\\\n",
    "'np.log(crimeRatePerCapita) ~ \\\n",
    "(pctLowerStatus + radialHighwaysAccess + medianValue_Ks + nitrixOxide_pp10m)**2',\\\n",
    "data=train_data)\n",
    "multiLogLinModResult = multiLogLinMod.fit()\n",
    "print(multiLogLinModResult.summary())"
   ]
  }
 ],
 "metadata": {
  "colab": {
   "collapsed_sections": [],
   "name": "Chapter two - Regression.ipynb",
   "provenance": []
  },
  "kernelspec": {
   "display_name": "Python 3",
   "language": "python",
   "name": "python3"
  },
  "language_info": {
   "codemirror_mode": {
    "name": "ipython",
    "version": 3
   },
   "file_extension": ".py",
   "mimetype": "text/x-python",
   "name": "python",
   "nbconvert_exporter": "python",
   "pygments_lexer": "ipython3",
   "version": "3.7.4"
  }
 },
 "nbformat": 4,
 "nbformat_minor": 1
}
