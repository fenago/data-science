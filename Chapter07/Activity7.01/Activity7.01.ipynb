{
 "cells": [
  {
   "cell_type": "markdown",
   "metadata": {},
   "source": [
    "# Superconductivity"
   ]
  },
  {
   "cell_type": "code",
   "execution_count": 68,
   "metadata": {},
   "outputs": [],
   "source": [
    "import pandas as pd\n",
    "from sklearn.linear_model import LinearRegression, Lasso, Ridge\n",
    "from sklearn.model_selection import train_test_split\n",
    "from sklearn.metrics import mean_squared_error\n",
    "from sklearn.pipeline import Pipeline\n",
    "from sklearn.preprocessing import MinMaxScaler, PolynomialFeatures"
   ]
  },
  {
   "cell_type": "code",
   "execution_count": 91,
   "metadata": {},
   "outputs": [],
   "source": [
    "_df = pd.read_csv('https://raw.githubusercontent.com/PacktWorkshops/The-Data-Science-Workshop/master/Chapter07/Dataset/superconduct/train.csv')"
   ]
  },
  {
   "cell_type": "code",
   "execution_count": 4,
   "metadata": {},
   "outputs": [
    {
     "name": "stdout",
     "output_type": "stream",
     "text": [
      "<class 'pandas.core.frame.DataFrame'>\n",
      "RangeIndex: 21263 entries, 0 to 21262\n",
      "Data columns (total 82 columns):\n",
      "number_of_elements                 21263 non-null int64\n",
      "mean_atomic_mass                   21263 non-null float64\n",
      "wtd_mean_atomic_mass               21263 non-null float64\n",
      "gmean_atomic_mass                  21263 non-null float64\n",
      "wtd_gmean_atomic_mass              21263 non-null float64\n",
      "entropy_atomic_mass                21263 non-null float64\n",
      "wtd_entropy_atomic_mass            21263 non-null float64\n",
      "range_atomic_mass                  21263 non-null float64\n",
      "wtd_range_atomic_mass              21263 non-null float64\n",
      "std_atomic_mass                    21263 non-null float64\n",
      "wtd_std_atomic_mass                21263 non-null float64\n",
      "mean_fie                           21263 non-null float64\n",
      "wtd_mean_fie                       21263 non-null float64\n",
      "gmean_fie                          21263 non-null float64\n",
      "wtd_gmean_fie                      21263 non-null float64\n",
      "entropy_fie                        21263 non-null float64\n",
      "wtd_entropy_fie                    21263 non-null float64\n",
      "range_fie                          21263 non-null float64\n",
      "wtd_range_fie                      21263 non-null float64\n",
      "std_fie                            21263 non-null float64\n",
      "wtd_std_fie                        21263 non-null float64\n",
      "mean_atomic_radius                 21263 non-null float64\n",
      "wtd_mean_atomic_radius             21263 non-null float64\n",
      "gmean_atomic_radius                21263 non-null float64\n",
      "wtd_gmean_atomic_radius            21263 non-null float64\n",
      "entropy_atomic_radius              21263 non-null float64\n",
      "wtd_entropy_atomic_radius          21263 non-null float64\n",
      "range_atomic_radius                21263 non-null int64\n",
      "wtd_range_atomic_radius            21263 non-null float64\n",
      "std_atomic_radius                  21263 non-null float64\n",
      "wtd_std_atomic_radius              21263 non-null float64\n",
      "mean_Density                       21263 non-null float64\n",
      "wtd_mean_Density                   21263 non-null float64\n",
      "gmean_Density                      21263 non-null float64\n",
      "wtd_gmean_Density                  21263 non-null float64\n",
      "entropy_Density                    21263 non-null float64\n",
      "wtd_entropy_Density                21263 non-null float64\n",
      "range_Density                      21263 non-null float64\n",
      "wtd_range_Density                  21263 non-null float64\n",
      "std_Density                        21263 non-null float64\n",
      "wtd_std_Density                    21263 non-null float64\n",
      "mean_ElectronAffinity              21263 non-null float64\n",
      "wtd_mean_ElectronAffinity          21263 non-null float64\n",
      "gmean_ElectronAffinity             21263 non-null float64\n",
      "wtd_gmean_ElectronAffinity         21263 non-null float64\n",
      "entropy_ElectronAffinity           21263 non-null float64\n",
      "wtd_entropy_ElectronAffinity       21263 non-null float64\n",
      "range_ElectronAffinity             21263 non-null float64\n",
      "wtd_range_ElectronAffinity         21263 non-null float64\n",
      "std_ElectronAffinity               21263 non-null float64\n",
      "wtd_std_ElectronAffinity           21263 non-null float64\n",
      "mean_FusionHeat                    21263 non-null float64\n",
      "wtd_mean_FusionHeat                21263 non-null float64\n",
      "gmean_FusionHeat                   21263 non-null float64\n",
      "wtd_gmean_FusionHeat               21263 non-null float64\n",
      "entropy_FusionHeat                 21263 non-null float64\n",
      "wtd_entropy_FusionHeat             21263 non-null float64\n",
      "range_FusionHeat                   21263 non-null float64\n",
      "wtd_range_FusionHeat               21263 non-null float64\n",
      "std_FusionHeat                     21263 non-null float64\n",
      "wtd_std_FusionHeat                 21263 non-null float64\n",
      "mean_ThermalConductivity           21263 non-null float64\n",
      "wtd_mean_ThermalConductivity       21263 non-null float64\n",
      "gmean_ThermalConductivity          21263 non-null float64\n",
      "wtd_gmean_ThermalConductivity      21263 non-null float64\n",
      "entropy_ThermalConductivity        21263 non-null float64\n",
      "wtd_entropy_ThermalConductivity    21263 non-null float64\n",
      "range_ThermalConductivity          21263 non-null float64\n",
      "wtd_range_ThermalConductivity      21263 non-null float64\n",
      "std_ThermalConductivity            21263 non-null float64\n",
      "wtd_std_ThermalConductivity        21263 non-null float64\n",
      "mean_Valence                       21263 non-null float64\n",
      "wtd_mean_Valence                   21263 non-null float64\n",
      "gmean_Valence                      21263 non-null float64\n",
      "wtd_gmean_Valence                  21263 non-null float64\n",
      "entropy_Valence                    21263 non-null float64\n",
      "wtd_entropy_Valence                21263 non-null float64\n",
      "range_Valence                      21263 non-null int64\n",
      "wtd_range_Valence                  21263 non-null float64\n",
      "std_Valence                        21263 non-null float64\n",
      "wtd_std_Valence                    21263 non-null float64\n",
      "critical_temp                      21263 non-null float64\n",
      "dtypes: float64(79), int64(3)\n",
      "memory usage: 13.3 MB\n"
     ]
    }
   ],
   "source": [
    "_df.info()"
   ]
  },
  {
   "cell_type": "code",
   "execution_count": 8,
   "metadata": {},
   "outputs": [],
   "source": [
    "X = _df.drop(['critical_temp'], axis=1).values"
   ]
  },
  {
   "cell_type": "code",
   "execution_count": 10,
   "metadata": {},
   "outputs": [],
   "source": [
    "y = _df['critical_temp'].values"
   ]
  },
  {
   "cell_type": "code",
   "execution_count": 11,
   "metadata": {},
   "outputs": [],
   "source": [
    "train_X, eval_X, train_y, eval_y = train_test_split(X, y, test_size=0.8, random_state=0)"
   ]
  },
  {
   "cell_type": "code",
   "execution_count": 12,
   "metadata": {},
   "outputs": [],
   "source": [
    "model_1 = LinearRegression()"
   ]
  },
  {
   "cell_type": "code",
   "execution_count": 13,
   "metadata": {},
   "outputs": [
    {
     "data": {
      "text/plain": [
       "LinearRegression(copy_X=True, fit_intercept=True, n_jobs=None, normalize=False)"
      ]
     },
     "execution_count": 13,
     "metadata": {},
     "output_type": "execute_result"
    }
   ],
   "source": [
    "model_1.fit(train_X, train_y)"
   ]
  },
  {
   "cell_type": "code",
   "execution_count": 15,
   "metadata": {},
   "outputs": [
    {
     "name": "stdout",
     "output_type": "stream",
     "text": [
      "Model 1 R2 Score: 0.7328447712730708\n"
     ]
    }
   ],
   "source": [
    "print('Model 1 R2 Score: {}'.format(model_1.score(eval_X, eval_y)))"
   ]
  },
  {
   "cell_type": "code",
   "execution_count": 16,
   "metadata": {},
   "outputs": [
    {
     "name": "stdout",
     "output_type": "stream",
     "text": [
      "[-4.94346491e+00  8.70902756e-01 -9.98866501e-01 -5.83760774e-01\n",
      "  7.93953012e-01 -2.56095021e+01 -5.50632648e+00  1.27121023e-01\n",
      " -3.64947050e-02 -2.33513663e-01 -3.17000184e-02  3.10498264e-01\n",
      " -2.70341636e-01 -3.27264900e-01  3.01282843e-01 -8.31664513e+01\n",
      "  4.76913648e+01  8.40711399e-02  2.07050106e-02 -2.97568138e-01\n",
      "  3.97698378e-02 -1.06142981e+00  3.61994102e+00  6.70321650e-01\n",
      " -3.22006412e+00  4.02729358e+01  4.97586647e+01  1.91181858e-01\n",
      " -8.63617280e-02 -1.01111516e-01 -6.03489660e-01 -5.08255800e-03\n",
      "  1.01228657e-03  2.34243690e-03  6.57781429e-04  1.24587526e+01\n",
      " -1.10269822e+01 -1.30154742e-03  5.73536446e-04  4.95127593e-03\n",
      " -9.30322207e-04  5.82173815e-02  4.77320536e-01  5.07267163e-02\n",
      " -5.53776412e-01  5.02250052e+00 -1.96605153e+01 -3.58831794e-01\n",
      " -1.02331087e-01  1.14617678e+00 -5.43201942e-01  1.66517118e+00\n",
      " -1.86511975e+00 -1.18487297e+00  1.27906539e+00 -2.20915415e+01\n",
      "  2.34252719e+01 -4.11107209e-01  7.35352108e-01 -5.28505687e-01\n",
      "  7.74281630e-01 -1.78504148e-01  5.87315418e-01  4.71295603e-02\n",
      " -4.18163312e-01  7.81304600e+00  6.87307727e+00 -2.97522968e-02\n",
      " -2.06281413e-01  2.10538634e-01 -3.98675109e-02 -5.52756012e+00\n",
      "  8.24378449e+00  7.98555157e+00 -1.16791127e+01  8.10069280e+01\n",
      " -8.54657430e+01  4.87898207e+00 -2.42910779e+00  3.46557465e+00\n",
      " -2.07905810e+01]\n"
     ]
    }
   ],
   "source": [
    "print(model_1.coef_)"
   ]
  },
  {
   "cell_type": "code",
   "execution_count": 18,
   "metadata": {},
   "outputs": [],
   "source": [
    "preds_1 = model_1.predict(eval_X)"
   ]
  },
  {
   "cell_type": "code",
   "execution_count": 19,
   "metadata": {},
   "outputs": [
    {
     "name": "stdout",
     "output_type": "stream",
     "text": [
      "Model 1 MSE: 314.1265890122019\n"
     ]
    }
   ],
   "source": [
    "print('Model 1 MSE: {}'.format(mean_squared_error(eval_y, preds_1)))"
   ]
  },
  {
   "cell_type": "code",
   "execution_count": 55,
   "metadata": {},
   "outputs": [],
   "source": [
    "steps = [\n",
    "    ('scaler', MinMaxScaler()),\n",
    "    ('poly', PolynomialFeatures(degree=3, interaction_only=True)),\n",
    "    ('model', LinearRegression())\n",
    "]"
   ]
  },
  {
   "cell_type": "code",
   "execution_count": 56,
   "metadata": {},
   "outputs": [],
   "source": [
    "model_2 = Pipeline(steps)"
   ]
  },
  {
   "cell_type": "code",
   "execution_count": 57,
   "metadata": {},
   "outputs": [
    {
     "data": {
      "text/plain": [
       "Pipeline(memory=None,\n",
       "         steps=[('scaler', MinMaxScaler(copy=True, feature_range=(0, 1))),\n",
       "                ('poly',\n",
       "                 PolynomialFeatures(degree=3, include_bias=True,\n",
       "                                    interaction_only=True, order='C')),\n",
       "                ('model',\n",
       "                 LinearRegression(copy_X=True, fit_intercept=True, n_jobs=None,\n",
       "                                  normalize=False))],\n",
       "         verbose=False)"
      ]
     },
     "execution_count": 57,
     "metadata": {},
     "output_type": "execute_result"
    }
   ],
   "source": [
    "model_2.fit(train_X, train_y)"
   ]
  },
  {
   "cell_type": "code",
   "execution_count": 58,
   "metadata": {},
   "outputs": [
    {
     "name": "stdout",
     "output_type": "stream",
     "text": [
      "Model 2 R2 Score: -3.412098915405949e+18\n"
     ]
    }
   ],
   "source": [
    "print('Model 2 R2 Score: {}'.format(model_2.score(eval_X, eval_y)))"
   ]
  },
  {
   "cell_type": "code",
   "execution_count": 59,
   "metadata": {},
   "outputs": [
    {
     "name": "stdout",
     "output_type": "stream",
     "text": [
      "Number of coefficients: 88642\n"
     ]
    }
   ],
   "source": [
    "print('Number of coefficients: {}'.format(len(model_2[-1].coef_)))"
   ]
  },
  {
   "cell_type": "code",
   "execution_count": 64,
   "metadata": {},
   "outputs": [],
   "source": [
    "steps = [\n",
    "    ('scaler', MinMaxScaler()),\n",
    "    ('poly', PolynomialFeatures(degree=3, interaction_only=True)),\n",
    "    ('model', Lasso(alpha=0.001, max_iter=2000))\n",
    "]"
   ]
  },
  {
   "cell_type": "code",
   "execution_count": 65,
   "metadata": {},
   "outputs": [],
   "source": [
    "lasso_model = Pipeline(steps)"
   ]
  },
  {
   "cell_type": "code",
   "execution_count": 66,
   "metadata": {},
   "outputs": [
    {
     "name": "stderr",
     "output_type": "stream",
     "text": [
      "/Users/robert/anaconda3/envs/tensorflow/lib/python3.7/site-packages/sklearn/linear_model/coordinate_descent.py:475: ConvergenceWarning: Objective did not converge. You might want to increase the number of iterations. Duality gap: 192283.14614944125, tolerance: 494.6126775402505\n",
      "  positive)\n"
     ]
    },
    {
     "data": {
      "text/plain": [
       "Pipeline(memory=None,\n",
       "         steps=[('scaler', MinMaxScaler(copy=True, feature_range=(0, 1))),\n",
       "                ('poly',\n",
       "                 PolynomialFeatures(degree=3, include_bias=True,\n",
       "                                    interaction_only=True, order='C')),\n",
       "                ('model',\n",
       "                 Lasso(alpha=0.001, copy_X=True, fit_intercept=True,\n",
       "                       max_iter=2000, normalize=False, positive=False,\n",
       "                       precompute=False, random_state=None, selection='cyclic',\n",
       "                       tol=0.0001, warm_start=False))],\n",
       "         verbose=False)"
      ]
     },
     "execution_count": 66,
     "metadata": {},
     "output_type": "execute_result"
    }
   ],
   "source": [
    "lasso_model.fit(train_X, train_y)"
   ]
  },
  {
   "cell_type": "code",
   "execution_count": 67,
   "metadata": {},
   "outputs": [
    {
     "name": "stdout",
     "output_type": "stream",
     "text": [
      "Lasso Model R2 Score: 0.8325230040978594\n"
     ]
    }
   ],
   "source": [
    "print('Lasso Model R2 Score: {}'.format(lasso_model.score(eval_X, eval_y)))"
   ]
  },
  {
   "cell_type": "code",
   "execution_count": 72,
   "metadata": {},
   "outputs": [
    {
     "name": "stdout",
     "output_type": "stream",
     "text": [
      "[ 0.00000000e+00  8.74340500e-02 -7.95095837e+00 -1.30139088e-01\n",
      " -0.00000000e+00  0.00000000e+00  0.00000000e+00  3.38565726e+01\n",
      "  0.00000000e+00 -0.00000000e+00 -4.13763260e+00 -2.65279487e-02\n",
      " -0.00000000e+00 -0.00000000e+00 -0.00000000e+00 -0.00000000e+00\n",
      " -0.00000000e+00  1.22329305e+01  0.00000000e+00 -0.00000000e+00\n",
      " -0.00000000e+00 -1.12633645e+01  0.00000000e+00  0.00000000e+00\n",
      "  0.00000000e+00  0.00000000e+00 -0.00000000e+00  0.00000000e+00\n",
      "  0.00000000e+00 -9.08364155e+00]\n"
     ]
    }
   ],
   "source": [
    "print(lasso_model[-1].coef_[:30])"
   ]
  },
  {
   "cell_type": "code",
   "execution_count": 86,
   "metadata": {},
   "outputs": [],
   "source": [
    "steps = [\n",
    "    ('scaler', MinMaxScaler()),\n",
    "    ('poly', PolynomialFeatures(degree=3, interaction_only=True)),\n",
    "    ('model', Ridge(alpha=0.9))\n",
    "]"
   ]
  },
  {
   "cell_type": "code",
   "execution_count": 87,
   "metadata": {},
   "outputs": [],
   "source": [
    "ridge_model = Pipeline(steps)"
   ]
  },
  {
   "cell_type": "code",
   "execution_count": 88,
   "metadata": {},
   "outputs": [
    {
     "data": {
      "text/plain": [
       "Pipeline(memory=None,\n",
       "         steps=[('scaler', MinMaxScaler(copy=True, feature_range=(0, 1))),\n",
       "                ('poly',\n",
       "                 PolynomialFeatures(degree=3, include_bias=True,\n",
       "                                    interaction_only=True, order='C')),\n",
       "                ('model',\n",
       "                 Ridge(alpha=0.9, copy_X=True, fit_intercept=True,\n",
       "                       max_iter=None, normalize=False, random_state=None,\n",
       "                       solver='auto', tol=0.001))],\n",
       "         verbose=False)"
      ]
     },
     "execution_count": 88,
     "metadata": {},
     "output_type": "execute_result"
    }
   ],
   "source": [
    "ridge_model.fit(train_X, train_y)"
   ]
  },
  {
   "cell_type": "code",
   "execution_count": 89,
   "metadata": {},
   "outputs": [
    {
     "name": "stdout",
     "output_type": "stream",
     "text": [
      "Ridge Model R2 score: 0.8322365420648976\n"
     ]
    }
   ],
   "source": [
    "print('Ridge Model R2 score: {}'.format(ridge_model.score(eval_X, eval_y)))"
   ]
  },
  {
   "cell_type": "code",
   "execution_count": 90,
   "metadata": {},
   "outputs": [
    {
     "name": "stdout",
     "output_type": "stream",
     "text": [
      "[ 0.         -0.42062418 -3.87358249 -4.24082447 -2.87059487 -1.42389767\n",
      " -1.74429581  4.28948862 -1.18107119 -1.92438245 -1.03653114 -0.28070952\n",
      "  0.49678614 -2.44639462  1.5030846  -0.84415353 -0.68920212  4.01266927\n",
      "  0.15348104 -1.39519727 -1.52030442 -4.20145985 -1.51392581  2.9521117\n",
      " -1.71399758  2.19445947 -1.57055309  2.43472526  0.55081481 -3.93851654]\n"
     ]
    }
   ],
   "source": [
    "print(ridge_model[-1].coef_[:30])"
   ]
  },
  {
   "cell_type": "code",
   "execution_count": null,
   "metadata": {},
   "outputs": [],
   "source": []
  }
 ],
 "metadata": {
  "kernelspec": {
   "display_name": "Python 3",
   "language": "python",
   "name": "python3"
  },
  "language_info": {
   "codemirror_mode": {
    "name": "ipython",
    "version": 3
   },
   "file_extension": ".py",
   "mimetype": "text/x-python",
   "name": "python",
   "nbconvert_exporter": "python",
   "pygments_lexer": "ipython3",
   "version": "3.7.4"
  }
 },
 "nbformat": 4,
 "nbformat_minor": 2
}
