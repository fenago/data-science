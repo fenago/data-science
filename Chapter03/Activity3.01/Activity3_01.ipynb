{
  "nbformat": 4,
  "nbformat_minor": 0,
  "metadata": {
    "colab": {
      "name": "Activity3.01.ipynb",
      "provenance": [],
      "collapsed_sections": []
    },
    "kernelspec": {
      "name": "python3",
      "display_name": "Python 3"
    }
  },
  "cells": [
    {
      "cell_type": "code",
      "metadata": {
        "id": "8UMFqsCD0xyF",
        "colab_type": "code",
        "colab": {}
      },
      "source": [
        "# Importing necessary packages\n",
        "import pandas as pd"
      ],
      "execution_count": 0,
      "outputs": []
    },
    {
      "cell_type": "code",
      "metadata": {
        "id": "HSXgY0ze09cY",
        "colab_type": "code",
        "colab": {}
      },
      "source": [
        "# Reading the banking data\n",
        "file_url = 'https://raw.githubusercontent.com/PacktWorkshops/The-Data-Science-Workshop/master/Chapter03/bank-full.csv'\n",
        "bankData = pd.read_csv(file_url, sep=\";\")"
      ],
      "execution_count": 0,
      "outputs": []
    },
    {
      "cell_type": "code",
      "metadata": {
        "id": "Do4xwaIT2LWz",
        "colab_type": "code",
        "outputId": "0af195a8-74ef-4b21-a55a-88009a6546e5",
        "colab": {
          "base_uri": "https://localhost:8080/",
          "height": 421
        }
      },
      "source": [
        "# Getting the total counts under each job category\n",
        "jobTot = bankData.groupby('job')['y'].agg(jobTot='count').reset_index()\n",
        "jobTot"
      ],
      "execution_count": 0,
      "outputs": [
        {
          "output_type": "execute_result",
          "data": {
            "text/html": [
              "<div>\n",
              "<style scoped>\n",
              "    .dataframe tbody tr th:only-of-type {\n",
              "        vertical-align: middle;\n",
              "    }\n",
              "\n",
              "    .dataframe tbody tr th {\n",
              "        vertical-align: top;\n",
              "    }\n",
              "\n",
              "    .dataframe thead th {\n",
              "        text-align: right;\n",
              "    }\n",
              "</style>\n",
              "<table border=\"1\" class=\"dataframe\">\n",
              "  <thead>\n",
              "    <tr style=\"text-align: right;\">\n",
              "      <th></th>\n",
              "      <th>job</th>\n",
              "      <th>jobTot</th>\n",
              "    </tr>\n",
              "  </thead>\n",
              "  <tbody>\n",
              "    <tr>\n",
              "      <th>0</th>\n",
              "      <td>admin.</td>\n",
              "      <td>5171</td>\n",
              "    </tr>\n",
              "    <tr>\n",
              "      <th>1</th>\n",
              "      <td>blue-collar</td>\n",
              "      <td>9732</td>\n",
              "    </tr>\n",
              "    <tr>\n",
              "      <th>2</th>\n",
              "      <td>entrepreneur</td>\n",
              "      <td>1487</td>\n",
              "    </tr>\n",
              "    <tr>\n",
              "      <th>3</th>\n",
              "      <td>housemaid</td>\n",
              "      <td>1240</td>\n",
              "    </tr>\n",
              "    <tr>\n",
              "      <th>4</th>\n",
              "      <td>management</td>\n",
              "      <td>9458</td>\n",
              "    </tr>\n",
              "    <tr>\n",
              "      <th>5</th>\n",
              "      <td>retired</td>\n",
              "      <td>2264</td>\n",
              "    </tr>\n",
              "    <tr>\n",
              "      <th>6</th>\n",
              "      <td>self-employed</td>\n",
              "      <td>1579</td>\n",
              "    </tr>\n",
              "    <tr>\n",
              "      <th>7</th>\n",
              "      <td>services</td>\n",
              "      <td>4154</td>\n",
              "    </tr>\n",
              "    <tr>\n",
              "      <th>8</th>\n",
              "      <td>student</td>\n",
              "      <td>938</td>\n",
              "    </tr>\n",
              "    <tr>\n",
              "      <th>9</th>\n",
              "      <td>technician</td>\n",
              "      <td>7597</td>\n",
              "    </tr>\n",
              "    <tr>\n",
              "      <th>10</th>\n",
              "      <td>unemployed</td>\n",
              "      <td>1303</td>\n",
              "    </tr>\n",
              "    <tr>\n",
              "      <th>11</th>\n",
              "      <td>unknown</td>\n",
              "      <td>288</td>\n",
              "    </tr>\n",
              "  </tbody>\n",
              "</table>\n",
              "</div>"
            ],
            "text/plain": [
              "              job  jobTot\n",
              "0          admin.    5171\n",
              "1     blue-collar    9732\n",
              "2    entrepreneur    1487\n",
              "3       housemaid    1240\n",
              "4      management    9458\n",
              "5         retired    2264\n",
              "6   self-employed    1579\n",
              "7        services    4154\n",
              "8         student     938\n",
              "9      technician    7597\n",
              "10     unemployed    1303\n",
              "11        unknown     288"
            ]
          },
          "metadata": {
            "tags": []
          },
          "execution_count": 3
        }
      ]
    },
    {
      "cell_type": "code",
      "metadata": {
        "id": "fHptBmjb2Rii",
        "colab_type": "code",
        "colab": {}
      },
      "source": [
        "# Getting all the details in one place\n",
        "jobProp = bankData.groupby(['job', 'y'])['y'].agg(jobCat='count').reset_index()"
      ],
      "execution_count": 0,
      "outputs": []
    },
    {
      "cell_type": "code",
      "metadata": {
        "id": "QOy6VjXEN0Dn",
        "colab_type": "code",
        "outputId": "729f6f25-8fa6-4cbf-bc88-e310a1465afc",
        "colab": {
          "base_uri": "https://localhost:8080/",
          "height": 204
        }
      },
      "source": [
        "# Merging both the data frames\n",
        "jobComb = pd.merge(jobProp, jobTot, on=['job'])\n",
        "jobComb['catProp'] = (jobComb.jobCat/jobComb.jobTot)*100\n",
        "\n",
        "jobComb.head()"
      ],
      "execution_count": 0,
      "outputs": [
        {
          "output_type": "execute_result",
          "data": {
            "text/html": [
              "<div>\n",
              "<style scoped>\n",
              "    .dataframe tbody tr th:only-of-type {\n",
              "        vertical-align: middle;\n",
              "    }\n",
              "\n",
              "    .dataframe tbody tr th {\n",
              "        vertical-align: top;\n",
              "    }\n",
              "\n",
              "    .dataframe thead th {\n",
              "        text-align: right;\n",
              "    }\n",
              "</style>\n",
              "<table border=\"1\" class=\"dataframe\">\n",
              "  <thead>\n",
              "    <tr style=\"text-align: right;\">\n",
              "      <th></th>\n",
              "      <th>job</th>\n",
              "      <th>y</th>\n",
              "      <th>jobCat</th>\n",
              "      <th>jobTot</th>\n",
              "      <th>catProp</th>\n",
              "    </tr>\n",
              "  </thead>\n",
              "  <tbody>\n",
              "    <tr>\n",
              "      <th>0</th>\n",
              "      <td>admin.</td>\n",
              "      <td>no</td>\n",
              "      <td>4540</td>\n",
              "      <td>5171</td>\n",
              "      <td>87.797331</td>\n",
              "    </tr>\n",
              "    <tr>\n",
              "      <th>1</th>\n",
              "      <td>admin.</td>\n",
              "      <td>yes</td>\n",
              "      <td>631</td>\n",
              "      <td>5171</td>\n",
              "      <td>12.202669</td>\n",
              "    </tr>\n",
              "    <tr>\n",
              "      <th>2</th>\n",
              "      <td>blue-collar</td>\n",
              "      <td>no</td>\n",
              "      <td>9024</td>\n",
              "      <td>9732</td>\n",
              "      <td>92.725031</td>\n",
              "    </tr>\n",
              "    <tr>\n",
              "      <th>3</th>\n",
              "      <td>blue-collar</td>\n",
              "      <td>yes</td>\n",
              "      <td>708</td>\n",
              "      <td>9732</td>\n",
              "      <td>7.274969</td>\n",
              "    </tr>\n",
              "    <tr>\n",
              "      <th>4</th>\n",
              "      <td>entrepreneur</td>\n",
              "      <td>no</td>\n",
              "      <td>1364</td>\n",
              "      <td>1487</td>\n",
              "      <td>91.728312</td>\n",
              "    </tr>\n",
              "  </tbody>\n",
              "</table>\n",
              "</div>"
            ],
            "text/plain": [
              "            job    y  jobCat  jobTot    catProp\n",
              "0        admin.   no    4540    5171  87.797331\n",
              "1        admin.  yes     631    5171  12.202669\n",
              "2   blue-collar   no    9024    9732  92.725031\n",
              "3   blue-collar  yes     708    9732   7.274969\n",
              "4  entrepreneur   no    1364    1487  91.728312"
            ]
          },
          "metadata": {
            "tags": []
          },
          "execution_count": 5
        }
      ]
    },
    {
      "cell_type": "code",
      "metadata": {
        "id": "lH14UUsSpFO8",
        "colab_type": "code",
        "outputId": "dbdff402-01e5-4663-8018-c5c2d6180c16",
        "colab": {
          "base_uri": "https://localhost:8080/",
          "height": 342
        }
      },
      "source": [
        "import matplotlib.pyplot as plt\n",
        "import numpy as np\n",
        "\n",
        "# Create seperate data frames for Yes and No\n",
        "jobcombYes = jobComb[jobComb['y'] == 'yes']\n",
        "jobcombNo = jobComb[jobComb['y'] == 'no']\n",
        "\n",
        "# Get the length of the xaxis labels \n",
        "xlabels = jobTot['job'].nunique()\n",
        "\n",
        "# Get the proportion values \n",
        "jobYes = jobcombYes['catProp'].unique()\n",
        "jobNo = jobcombNo['catProp'].unique()\n",
        "\n",
        "# Arrange the indexes of x asix\n",
        "ind = np.arange(xlabels)\n",
        "\n",
        "# Get the width of each bar\n",
        "width = 0.35  \n",
        "\n",
        "# Getting the plots\n",
        "p1 = plt.bar(ind, jobYes, width)\n",
        "p2 = plt.bar(ind, jobNo, width,bottom=jobYes)\n",
        "\n",
        "plt.ylabel('Propensity Proportion')\n",
        "plt.title('Propensity of purchase by Job')\n",
        "\n",
        "# Defining the x label indexes and y label indexes\n",
        "plt.xticks(ind, jobTot['job'].unique())\n",
        "plt.yticks(np.arange(0, 100, 10))\n",
        "\n",
        "# Defining the legends\n",
        "plt.legend((p1[0], p2[0]), ('Yes', 'No'))\n",
        "\n",
        "# To rotate the axis labels \n",
        "plt.xticks(rotation=90)\n",
        "plt.show()"
      ],
      "execution_count": 0,
      "outputs": [
        {
          "output_type": "display_data",
          "data": {
            "image/png": "[encoded data removed]",
            "text/plain": [
              "<Figure size 432x288 with 1 Axes>"
            ]
          },
          "metadata": {
            "tags": []
          }
        }
      ]
    }
  ]
}