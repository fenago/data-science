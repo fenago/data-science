{
 "cells": [
  {
   "cell_type": "code",
   "execution_count": 1,
   "metadata": {
    "colab": {},
    "colab_type": "code",
    "id": "aBtvWJNQhBM5"
   },
   "outputs": [],
   "source": [
    "from sklearn import model_selection, datasets, neighbors\n",
    "\n",
    "# load the data\n",
    "cancer = datasets.load_breast_cancer()\n",
    "\n",
    "# target\n",
    "y = cancer.target\n",
    "\n",
    "# features\n",
    "X = cancer.data"
   ]
  },
  {
   "cell_type": "code",
   "execution_count": 2,
   "metadata": {
    "colab": {},
    "colab_type": "code",
    "id": "p6fQASEChP03"
   },
   "outputs": [],
   "source": [
    "# initalize the estimator\n",
    "knn = neighbors.KNeighborsClassifier()"
   ]
  },
  {
   "cell_type": "code",
   "execution_count": 3,
   "metadata": {
    "colab": {},
    "colab_type": "code",
    "id": "cADtTvf6hb3O"
   },
   "outputs": [],
   "source": [
    "# grid contains k and the weight function\n",
    "grid = {\n",
    "    'n_neighbors': [1, 3, 5, 7],\n",
    "    'weights': ['uniform', 'distance']\n",
    "}"
   ]
  },
  {
   "cell_type": "code",
   "execution_count": 4,
   "metadata": {
    "colab": {},
    "colab_type": "code",
    "id": "ZZ_uK5A0ho67"
   },
   "outputs": [],
   "source": [
    "# set up the grid search with scoring on precsions and number of folds = 10\n",
    "gscv = model_selection.GridSearchCV(estimator=knn, param_grid=grid, scoring='precision', cv=10)"
   ]
  },
  {
   "cell_type": "code",
   "execution_count": 5,
   "metadata": {
    "colab": {
     "base_uri": "https://localhost:8080/",
     "height": 263
    },
    "colab_type": "code",
    "executionInfo": {
     "elapsed": 1591,
     "status": "ok",
     "timestamp": 1571314594262,
     "user": {
      "displayName": "Andrew Worsley",
      "photoUrl": "https://lh3.googleusercontent.com/a-/AAuE7mAp-Td-yKvu76Tg0Swzal8U17btuwNIXFmWVwZo=s64",
      "userId": "11337101975325054847"
     },
     "user_tz": -660
    },
    "id": "tLqJ_3fBh2Bh",
    "outputId": "bf075dfd-0a91-4171-951e-6735b6885c98"
   },
   "outputs": [
    {
     "name": "stderr",
     "output_type": "stream",
     "text": [
      "/Users/andrewworsley/miniconda3/envs/mrv/lib/python3.7/site-packages/sklearn/model_selection/_search.py:814: DeprecationWarning: The default of the `iid` parameter will change from True to False in version 0.22 and will be removed in 0.24. This will change numeric results when test-set sizes are unequal.\n",
      "  DeprecationWarning)\n"
     ]
    },
    {
     "data": {
      "text/plain": [
       "GridSearchCV(cv=10, error_score='raise-deprecating',\n",
       "             estimator=KNeighborsClassifier(algorithm='auto', leaf_size=30,\n",
       "                                            metric='minkowski',\n",
       "                                            metric_params=None, n_jobs=None,\n",
       "                                            n_neighbors=5, p=2,\n",
       "                                            weights='uniform'),\n",
       "             iid='warn', n_jobs=None,\n",
       "             param_grid={'n_neighbors': [1, 3, 5, 7],\n",
       "                         'weights': ['uniform', 'distance']},\n",
       "             pre_dispatch='2*n_jobs', refit=True, return_train_score=False,\n",
       "             scoring='precision', verbose=0)"
      ]
     },
     "execution_count": 5,
     "metadata": {},
     "output_type": "execute_result"
    }
   ],
   "source": [
    "# start the search\n",
    "gscv.fit(X, y)"
   ]
  },
  {
   "cell_type": "code",
   "execution_count": 6,
   "metadata": {
    "colab": {
     "base_uri": "https://localhost:8080/",
     "height": 454
    },
    "colab_type": "code",
    "executionInfo": {
     "elapsed": 1583,
     "status": "ok",
     "timestamp": 1571314594263,
     "user": {
      "displayName": "Andrew Worsley",
      "photoUrl": "https://lh3.googleusercontent.com/a-/AAuE7mAp-Td-yKvu76Tg0Swzal8U17btuwNIXFmWVwZo=s64",
      "userId": "11337101975325054847"
     },
     "user_tz": -660
    },
    "id": "yPZkBBZGiWuC",
    "outputId": "ae372db9-8dee-4a68-a564-48dc61d693b8"
   },
   "outputs": [
    {
     "name": "stdout",
     "output_type": "stream",
     "text": [
      "{'mean_fit_time': array([0.00065789, 0.0004796 , 0.00046399, 0.0005321 , 0.00046346,\n",
      "       0.00046651, 0.00047569, 0.00045073]), 'std_fit_time': array([2.01168018e-04, 4.06858633e-05, 3.52624947e-05, 1.45027331e-04,\n",
      "       2.95622598e-05, 2.54670887e-05, 3.86208368e-05, 2.17260034e-05]), 'mean_score_time': array([0.0029891 , 0.00115438, 0.00223036, 0.00117283, 0.00217335,\n",
      "       0.00116563, 0.00222657, 0.00117233]), 'std_score_time': array([6.89177240e-04, 1.17315257e-04, 2.09437682e-04, 1.48355635e-04,\n",
      "       5.38580182e-05, 1.07813398e-04, 8.70390740e-05, 8.38524244e-05]), 'param_n_neighbors': masked_array(data=[1, 1, 3, 3, 5, 5, 7, 7],\n",
      "             mask=[False, False, False, False, False, False, False, False],\n",
      "       fill_value='?',\n",
      "            dtype=object), 'param_weights': masked_array(data=['uniform', 'distance', 'uniform', 'distance',\n",
      "                   'uniform', 'distance', 'uniform', 'distance'],\n",
      "             mask=[False, False, False, False, False, False, False, False],\n",
      "       fill_value='?',\n",
      "            dtype=object), 'params': [{'n_neighbors': 1, 'weights': 'uniform'}, {'n_neighbors': 1, 'weights': 'distance'}, {'n_neighbors': 3, 'weights': 'uniform'}, {'n_neighbors': 3, 'weights': 'distance'}, {'n_neighbors': 5, 'weights': 'uniform'}, {'n_neighbors': 5, 'weights': 'distance'}, {'n_neighbors': 7, 'weights': 'uniform'}, {'n_neighbors': 7, 'weights': 'distance'}], 'split0_test_score': array([0.92105263, 0.92105263, 0.8974359 , 0.8974359 , 0.91891892,\n",
      "       0.91891892, 0.92105263, 0.92105263]), 'split1_test_score': array([0.86486486, 0.86486486, 0.83333333, 0.83333333, 0.85365854,\n",
      "       0.85365854, 0.83333333, 0.83333333]), 'split2_test_score': array([0.92105263, 0.92105263, 0.91666667, 0.91891892, 0.91666667,\n",
      "       0.91891892, 0.91891892, 0.91891892]), 'split3_test_score': array([0.92105263, 0.92105263, 0.94594595, 0.94594595, 0.94736842,\n",
      "       0.94736842, 0.94736842, 0.94736842]), 'split4_test_score': array([0.8974359 , 0.8974359 , 0.94594595, 0.94594595, 0.94594595,\n",
      "       0.94594595, 0.92105263, 0.92105263]), 'split5_test_score': array([0.91666667, 0.91666667, 0.94594595, 0.94594595, 0.94444444,\n",
      "       0.94444444, 0.94444444, 0.94444444]), 'split6_test_score': array([0.92105263, 0.92105263, 0.94736842, 0.94736842, 0.97222222,\n",
      "       0.94594595, 0.97222222, 0.94594595]), 'split7_test_score': array([0.94444444, 0.94444444, 0.94444444, 0.94444444, 0.91891892,\n",
      "       0.91891892, 0.94285714, 0.94285714]), 'split8_test_score': array([0.93939394, 0.93939394, 0.96875   , 0.96969697, 0.96875   ,\n",
      "       0.94117647, 0.96875   , 0.94117647]), 'split9_test_score': array([0.94444444, 0.94444444, 0.94285714, 0.94285714, 0.97142857,\n",
      "       0.97142857, 0.94444444, 0.94444444]), 'mean_test_score': array([0.91892952, 0.91892952, 0.92852418, 0.928843  , 0.93556744,\n",
      "       0.93044707, 0.93114526, 0.92579928]), 'std_test_score': array([0.02271376, 0.02271376, 0.03697908, 0.03701478, 0.03431266,\n",
      "       0.0302332 , 0.03733588, 0.0330005 ]), 'rank_test_score': array([7, 7, 5, 4, 1, 3, 2, 6], dtype=int32)}\n"
     ]
    }
   ],
   "source": [
    "# view the results\n",
    "print(gscv.cv_results_)"
   ]
  },
  {
   "cell_type": "code",
   "execution_count": 7,
   "metadata": {
    "colab": {
     "base_uri": "https://localhost:8080/",
     "height": 121
    },
    "colab_type": "code",
    "executionInfo": {
     "elapsed": 1576,
     "status": "ok",
     "timestamp": 1571314594265,
     "user": {
      "displayName": "Andrew Worsley",
      "photoUrl": "https://lh3.googleusercontent.com/a-/AAuE7mAp-Td-yKvu76Tg0Swzal8U17btuwNIXFmWVwZo=s64",
      "userId": "11337101975325054847"
     },
     "user_tz": -660
    },
    "id": "H6n1RzMiifkZ",
    "outputId": "cb139684-1c11-4e63-827a-0d8b2dd496e7"
   },
   "outputs": [
    {
     "name": "stdout",
     "output_type": "stream",
     "text": [
      "                                      params  mean_test_score\n",
      "4   {'n_neighbors': 5, 'weights': 'uniform'}         0.935567\n",
      "6   {'n_neighbors': 7, 'weights': 'uniform'}         0.931145\n",
      "5  {'n_neighbors': 5, 'weights': 'distance'}         0.930447\n",
      "3  {'n_neighbors': 3, 'weights': 'distance'}         0.928843\n",
      "2   {'n_neighbors': 3, 'weights': 'uniform'}         0.928524\n"
     ]
    }
   ],
   "source": [
    "import pandas as pd\n",
    "\n",
    "# convert the results dictionary to a dataframe\n",
    "results = pd.DataFrame(gscv.cv_results_)\n",
    "\n",
    "# select just the hyperparameterizations tried, the mean test scores, order by score and show the top 5 models\n",
    "print(\n",
    "results.loc[:,['params','mean_test_score']].sort_values('mean_test_score', ascending=False).head(5)\n",
    ")"
   ]
  },
  {
   "cell_type": "code",
   "execution_count": 9,
   "metadata": {
    "colab": {
     "base_uri": "https://localhost:8080/",
     "height": 286
    },
    "colab_type": "code",
    "executionInfo": {
     "elapsed": 1323,
     "status": "ok",
     "timestamp": 1571314633729,
     "user": {
      "displayName": "Andrew Worsley",
      "photoUrl": "https://lh3.googleusercontent.com/a-/AAuE7mAp-Td-yKvu76Tg0Swzal8U17btuwNIXFmWVwZo=s64",
      "userId": "11337101975325054847"
     },
     "user_tz": -660
    },
    "id": "I92n0QuvpM03",
    "outputId": "28021da8-996b-4b0b-c821-8ac571492b1b"
   },
   "outputs": [
    {
     "data": {
      "text/plain": [
       "<matplotlib.axes._subplots.AxesSubplot at 0x1a230d8198>"
      ]
     },
     "execution_count": 9,
     "metadata": {},
     "output_type": "execute_result"
    },
    {
     "data": {
      "image/png": "[encoded data removed]",
      "text/plain": [
       "<Figure size 432x288 with 1 Axes>"
      ]
     },
     "metadata": {
      "needs_background": "light"
     },
     "output_type": "display_data"
    }
   ],
   "source": [
    "# visualize the result\n",
    "results.loc[:,['params','mean_test_score']].plot.barh(x = 'params')"
   ]
  }
 ],
 "metadata": {
  "colab": {
   "collapsed_sections": [],
   "name": "tuning_using_gridsearchcv.ipynb",
   "provenance": []
  },
  "kernelspec": {
   "display_name": "Python 3",
   "language": "python",
   "name": "python3"
  },
  "language_info": {
   "codemirror_mode": {
    "name": "ipython",
    "version": 3
   },
   "file_extension": ".py",
   "mimetype": "text/x-python",
   "name": "python",
   "nbconvert_exporter": "python",
   "pygments_lexer": "ipython3",
   "version": "3.7.3"
  }
 },
 "nbformat": 4,
 "nbformat_minor": 1
}
