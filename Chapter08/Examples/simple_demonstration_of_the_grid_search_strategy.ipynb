{
 "cells": [
  {
   "cell_type": "code",
   "execution_count": 1,
   "metadata": {
    "colab": {},
    "colab_type": "code",
    "id": "OnDRlM2cdirC"
   },
   "outputs": [],
   "source": [
    "from sklearn import neighbors, datasets, model_selection\n",
    "\n",
    "# load data\n",
    "cancer = datasets.load_breast_cancer()\n",
    "\n",
    "# target\n",
    "y = cancer.target\n",
    "\n",
    "# features\n",
    "X = cancer.data\n",
    "\n",
    "# hyperparameter grid\n",
    "grid = {\n",
    "    'k': [1, 3, 5, 7]\n",
    "}"
   ]
  },
  {
   "cell_type": "code",
   "execution_count": 2,
   "metadata": {
    "colab": {
     "base_uri": "https://localhost:8080/",
     "height": 86
    },
    "colab_type": "code",
    "executionInfo": {
     "elapsed": 1046,
     "status": "ok",
     "timestamp": 1571311778721,
     "user": {
      "displayName": "Andrew Worsley",
      "photoUrl": "https://lh3.googleusercontent.com/a-/AAuE7mAp-Td-yKvu76Tg0Swzal8U17btuwNIXFmWVwZo=s64",
      "userId": "11337101975325054847"
     },
     "user_tz": -660
    },
    "id": "uhmcB0OaeJzt",
    "outputId": "77581d1f-2eaf-4d44-9377-a187a887d09a"
   },
   "outputs": [
    {
     "name": "stdout",
     "output_type": "stream",
     "text": [
      "With k = 1, mean precision = 0.919\n",
      "With k = 3, mean precision = 0.929\n",
      "With k = 5, mean precision = 0.936\n",
      "With k = 7, mean precision = 0.931\n"
     ]
    }
   ],
   "source": [
    "# for every value of k in the grid\n",
    "for k in grid['k']:\n",
    "  \n",
    "    # initialize the knn estimator\n",
    "    knn = neighbors.KNeighborsClassifier(n_neighbors=k)\n",
    "  \n",
    "    # conduct a 10-fold cross-validation\n",
    "    cv = model_selection.cross_val_score(knn, X, y, cv=10, scoring='precision')\n",
    "  \n",
    "    # calculate the average precision value over all folds\n",
    "    cv_mean = round(cv.mean(), 3)\n",
    "  \n",
    "    # report the result\n",
    "    print('With k = {}, mean precision = {}'.format(k, cv_mean))"
   ]
  },
  {
   "cell_type": "code",
   "execution_count": 3,
   "metadata": {
    "colab": {
     "base_uri": "https://localhost:8080/",
     "height": 86
    },
    "colab_type": "code",
    "executionInfo": {
     "elapsed": 1176,
     "status": "ok",
     "timestamp": 1571311882241,
     "user": {
      "displayName": "Andrew Worsley",
      "photoUrl": "https://lh3.googleusercontent.com/a-/AAuE7mAp-Td-yKvu76Tg0Swzal8U17btuwNIXFmWVwZo=s64",
      "userId": "11337101975325054847"
     },
     "user_tz": -660
    },
    "id": "XomuCtQle5Pj",
    "outputId": "cb0feda5-6b94-4ea9-8e39-c23c1533d745"
   },
   "outputs": [
    {
     "name": "stdout",
     "output_type": "stream",
     "text": [
      "{'algorithm': 'auto', 'leaf_size': 30, 'metric': 'minkowski', 'metric_params': None, 'n_jobs': None, 'n_neighbors': 1, 'p': 2, 'weights': 'uniform'}\n",
      "{'algorithm': 'auto', 'leaf_size': 30, 'metric': 'minkowski', 'metric_params': None, 'n_jobs': None, 'n_neighbors': 3, 'p': 2, 'weights': 'uniform'}\n",
      "{'algorithm': 'auto', 'leaf_size': 30, 'metric': 'minkowski', 'metric_params': None, 'n_jobs': None, 'n_neighbors': 5, 'p': 2, 'weights': 'uniform'}\n",
      "{'algorithm': 'auto', 'leaf_size': 30, 'metric': 'minkowski', 'metric_params': None, 'n_jobs': None, 'n_neighbors': 7, 'p': 2, 'weights': 'uniform'}\n"
     ]
    }
   ],
   "source": [
    "# for every value of k in the grid \n",
    "for k in grid['k']:\n",
    "  \n",
    "    # initialize the knn estimator\n",
    "    knn = neighbors.KNeighborsClassifier(n_neighbors=k)\n",
    "  \n",
    "    # print the hyperparameterization\n",
    "    print(knn.get_params())"
   ]
  },
  {
   "cell_type": "code",
   "execution_count": 4,
   "metadata": {
    "colab": {
     "base_uri": "https://localhost:8080/",
     "height": 156
    },
    "colab_type": "code",
    "executionInfo": {
     "elapsed": 1102,
     "status": "ok",
     "timestamp": 1571312095873,
     "user": {
      "displayName": "Andrew Worsley",
      "photoUrl": "https://lh3.googleusercontent.com/a-/AAuE7mAp-Td-yKvu76Tg0Swzal8U17btuwNIXFmWVwZo=s64",
      "userId": "11337101975325054847"
     },
     "user_tz": -660
    },
    "id": "Y5ShMRN1fcPw",
    "outputId": "1da67f23-eaaa-4a3f-9e3b-5c2c06dce19f"
   },
   "outputs": [
    {
     "name": "stdout",
     "output_type": "stream",
     "text": [
      "With k = 1 and weight function = uniform, mean precision = 0.919\n",
      "With k = 1 and weight function = distance, mean precision = 0.919\n",
      "With k = 3 and weight function = uniform, mean precision = 0.929\n",
      "With k = 3 and weight function = distance, mean precision = 0.929\n",
      "With k = 5 and weight function = uniform, mean precision = 0.936\n",
      "With k = 5 and weight function = distance, mean precision = 0.931\n",
      "With k = 7 and weight function = uniform, mean precision = 0.931\n",
      "With k = 7 and weight function = distance, mean precision = 0.926\n"
     ]
    }
   ],
   "source": [
    "# hyperparameter grid\n",
    "grid = {\n",
    "    'k': [1, 3, 5, 7],\n",
    "    'weight_function': ['uniform', 'distance']\n",
    "}\n",
    "\n",
    "# for every value of k in the grid\n",
    "for k in grid['k']:\n",
    "    \n",
    "    # and every possible weight_function in the grid \n",
    "    for weight_function in grid['weight_function']:\n",
    "      \n",
    "        # initialize the knn estimator\n",
    "        knn = neighbors.KNeighborsClassifier(n_neighbors=k, weights=weight_function)\n",
    "      \n",
    "        # conduct a 10-fold cross-validation\n",
    "        cv = model_selection.cross_val_score(knn, X, y, cv=10, scoring='precision')\n",
    "      \n",
    "        # calculate the average precision value over all folds\n",
    "        cv_mean = round(cv.mean(), 3)\n",
    "      \n",
    "        # report the result\n",
    "        print('With k = {} and weight function = {}, mean precision = {}'.format(k, weight_function, cv_mean))"
   ]
  },
  {
   "cell_type": "code",
   "execution_count": 5,
   "metadata": {
    "colab": {},
    "colab_type": "code",
    "id": "_gWZm710gdoH"
   },
   "outputs": [
    {
     "name": "stdout",
     "output_type": "stream",
     "text": [
      "{'algorithm': 'auto', 'leaf_size': 30, 'metric': 'minkowski', 'metric_params': None, 'n_jobs': None, 'n_neighbors': 1, 'p': 2, 'weights': 'uniform'}\n",
      "{'algorithm': 'auto', 'leaf_size': 30, 'metric': 'minkowski', 'metric_params': None, 'n_jobs': None, 'n_neighbors': 1, 'p': 2, 'weights': 'distance'}\n",
      "{'algorithm': 'auto', 'leaf_size': 30, 'metric': 'minkowski', 'metric_params': None, 'n_jobs': None, 'n_neighbors': 3, 'p': 2, 'weights': 'uniform'}\n",
      "{'algorithm': 'auto', 'leaf_size': 30, 'metric': 'minkowski', 'metric_params': None, 'n_jobs': None, 'n_neighbors': 3, 'p': 2, 'weights': 'distance'}\n",
      "{'algorithm': 'auto', 'leaf_size': 30, 'metric': 'minkowski', 'metric_params': None, 'n_jobs': None, 'n_neighbors': 5, 'p': 2, 'weights': 'uniform'}\n",
      "{'algorithm': 'auto', 'leaf_size': 30, 'metric': 'minkowski', 'metric_params': None, 'n_jobs': None, 'n_neighbors': 5, 'p': 2, 'weights': 'distance'}\n",
      "{'algorithm': 'auto', 'leaf_size': 30, 'metric': 'minkowski', 'metric_params': None, 'n_jobs': None, 'n_neighbors': 7, 'p': 2, 'weights': 'uniform'}\n",
      "{'algorithm': 'auto', 'leaf_size': 30, 'metric': 'minkowski', 'metric_params': None, 'n_jobs': None, 'n_neighbors': 7, 'p': 2, 'weights': 'distance'}\n"
     ]
    }
   ],
   "source": [
    "# for every value of k in the grid\n",
    "for k in grid['k']:\n",
    "  \n",
    "  # and every possible weight_function in the grid \n",
    "    for weight_function in grid['weight_function']:\n",
    "    \n",
    "        # initialize the knn estimator\n",
    "        knn = neighbors.KNeighborsClassifier(n_neighbors=k, weights=weight_function)\n",
    "\n",
    "        # print the hyperparameterizations\n",
    "        print(knn.get_params())"
   ]
  }
 ],
 "metadata": {
  "colab": {
   "collapsed_sections": [],
   "name": "simple_demonstration_of_the_grid_search_strategy.ipynb",
   "provenance": []
  },
  "kernelspec": {
   "display_name": "Python 3",
   "language": "python",
   "name": "python3"
  },
  "language_info": {
   "codemirror_mode": {
    "name": "ipython",
    "version": 3
   },
   "file_extension": ".py",
   "mimetype": "text/x-python",
   "name": "python",
   "nbconvert_exporter": "python",
   "pygments_lexer": "ipython3",
   "version": "3.7.3"
  }
 },
 "nbformat": 4,
 "nbformat_minor": 1
}
