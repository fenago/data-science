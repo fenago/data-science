{
  "nbformat": 4,
  "nbformat_minor": 0,
  "metadata": {
    "colab": {
      "name": "Exercise11.03.ipynb",
      "provenance": [],
      "collapsed_sections": []
    },
    "kernelspec": {
      "name": "python3",
      "display_name": "Python 3"
    }
  },
  "cells": [
    {
      "cell_type": "code",
      "metadata": {
        "id": "HEiOAwQPW0qb",
        "colab_type": "code",
        "colab": {}
      },
      "source": [
        "import pandas as pd"
      ],
      "execution_count": 0,
      "outputs": []
    },
    {
      "cell_type": "code",
      "metadata": {
        "id": "j7whidfaYjns",
        "colab_type": "code",
        "colab": {}
      },
      "source": [
        "file_url = 'https://raw.githubusercontent.com/PacktWorkshops/The-Data-Science-Workshop/master/Chapter11/dataset/officers.csv'"
      ],
      "execution_count": 0,
      "outputs": []
    },
    {
      "cell_type": "code",
      "metadata": {
        "id": "nFMz2jNVt-xy",
        "colab_type": "code",
        "colab": {}
      },
      "source": [
        "df = pd.read_csv(file_url)"
      ],
      "execution_count": 0,
      "outputs": []
    },
    {
      "cell_type": "code",
      "metadata": {
        "id": "n0xY9ATvN6-M",
        "colab_type": "code",
        "outputId": "91b5b5ed-aaa2-4d1c-b147-96f4873fcc61",
        "colab": {
          "base_uri": "https://localhost:8080/",
          "height": 204
        }
      },
      "source": [
        "df.head()"
      ],
      "execution_count": 0,
      "outputs": [
        {
          "output_type": "execute_result",
          "data": {
            "text/html": [
              "<div>\n",
              "<style scoped>\n",
              "    .dataframe tbody tr th:only-of-type {\n",
              "        vertical-align: middle;\n",
              "    }\n",
              "\n",
              "    .dataframe tbody tr th {\n",
              "        vertical-align: top;\n",
              "    }\n",
              "\n",
              "    .dataframe thead th {\n",
              "        text-align: right;\n",
              "    }\n",
              "</style>\n",
              "<table border=\"1\" class=\"dataframe\">\n",
              "  <thead>\n",
              "    <tr style=\"text-align: right;\">\n",
              "      <th></th>\n",
              "      <th>ID</th>\n",
              "      <th>City</th>\n",
              "      <th>State</th>\n",
              "      <th>Zip</th>\n",
              "      <th>Title</th>\n",
              "      <th>RedactionRequested</th>\n",
              "    </tr>\n",
              "  </thead>\n",
              "  <tbody>\n",
              "    <tr>\n",
              "      <th>0</th>\n",
              "      <td>804</td>\n",
              "      <td>Glenview</td>\n",
              "      <td>IL</td>\n",
              "      <td>60025</td>\n",
              "      <td>Treasurer</td>\n",
              "      <td>False</td>\n",
              "    </tr>\n",
              "    <tr>\n",
              "      <th>1</th>\n",
              "      <td>9177</td>\n",
              "      <td>Harrisburg</td>\n",
              "      <td>IL</td>\n",
              "      <td>62946</td>\n",
              "      <td>Treasurer</td>\n",
              "      <td>False</td>\n",
              "    </tr>\n",
              "    <tr>\n",
              "      <th>2</th>\n",
              "      <td>53011</td>\n",
              "      <td>Chicago</td>\n",
              "      <td>IL</td>\n",
              "      <td>60606</td>\n",
              "      <td>Treasurer</td>\n",
              "      <td>False</td>\n",
              "    </tr>\n",
              "    <tr>\n",
              "      <th>3</th>\n",
              "      <td>9176</td>\n",
              "      <td>Harrisburg</td>\n",
              "      <td>IL</td>\n",
              "      <td>62946</td>\n",
              "      <td>Chairman</td>\n",
              "      <td>False</td>\n",
              "    </tr>\n",
              "    <tr>\n",
              "      <th>4</th>\n",
              "      <td>33020</td>\n",
              "      <td>Mechanicsburg</td>\n",
              "      <td>IL</td>\n",
              "      <td>62545</td>\n",
              "      <td>Chairman</td>\n",
              "      <td>False</td>\n",
              "    </tr>\n",
              "  </tbody>\n",
              "</table>\n",
              "</div>"
            ],
            "text/plain": [
              "      ID           City State    Zip      Title  RedactionRequested\n",
              "0    804       Glenview    IL  60025  Treasurer               False\n",
              "1   9177     Harrisburg    IL  62946  Treasurer               False\n",
              "2  53011        Chicago    IL  60606  Treasurer               False\n",
              "3   9176     Harrisburg    IL  62946   Chairman               False\n",
              "4  33020  Mechanicsburg    IL  62545   Chairman               False"
            ]
          },
          "metadata": {
            "tags": []
          },
          "execution_count": 4
        }
      ]
    },
    {
      "cell_type": "code",
      "metadata": {
        "id": "recrA9gLBmep",
        "colab_type": "code",
        "outputId": "8aa238bb-d5c5-4c07-ea42-83cb18169a91",
        "colab": {
          "base_uri": "https://localhost:8080/",
          "height": 102
        }
      },
      "source": [
        "df['State'].unique()"
      ],
      "execution_count": 0,
      "outputs": [
        {
          "output_type": "execute_result",
          "data": {
            "text/plain": [
              "array(['IL', 'PA', 'DC', 'Il', nan, 'WI', 'CA', 'MO', 'NC', 'IA', 'MA',\n",
              "       'IN', 'MI', 'TN', 'NY', 'ng', 'TX', 'CO', 'NV', 'il', 'WA', '8I',\n",
              "       'In', 'iL', 'OH', 'SC', 'VA', 'NM', 'FL', 'LA', 'GA', 'II', 'NJ',\n",
              "       'MD', 'I', 'AR', 'KS', 'DE', '60', 'SD', 'MN', 'VT', 'OK', 'KY',\n",
              "       'CT', 'NH', 'AZ', 'OR', 'PR', 'RI'], dtype=object)"
            ]
          },
          "metadata": {
            "tags": []
          },
          "execution_count": 5
        }
      ]
    },
    {
      "cell_type": "code",
      "metadata": {
        "id": "v9LJ8sZrRxuF",
        "colab_type": "code",
        "outputId": "cfd4b5ad-bf32-471a-b2de-c4b5c967f1be",
        "colab": {
          "base_uri": "https://localhost:8080/",
          "height": 235
        }
      },
      "source": [
        "df[df['State'].str.contains('il', na=False)]"
      ],
      "execution_count": 0,
      "outputs": [
        {
          "output_type": "execute_result",
          "data": {
            "text/html": [
              "<div>\n",
              "<style scoped>\n",
              "    .dataframe tbody tr th:only-of-type {\n",
              "        vertical-align: middle;\n",
              "    }\n",
              "\n",
              "    .dataframe tbody tr th {\n",
              "        vertical-align: top;\n",
              "    }\n",
              "\n",
              "    .dataframe thead th {\n",
              "        text-align: right;\n",
              "    }\n",
              "</style>\n",
              "<table border=\"1\" class=\"dataframe\">\n",
              "  <thead>\n",
              "    <tr style=\"text-align: right;\">\n",
              "      <th></th>\n",
              "      <th>ID</th>\n",
              "      <th>City</th>\n",
              "      <th>State</th>\n",
              "      <th>Zip</th>\n",
              "      <th>Title</th>\n",
              "      <th>RedactionRequested</th>\n",
              "    </tr>\n",
              "  </thead>\n",
              "  <tbody>\n",
              "    <tr>\n",
              "      <th>4245</th>\n",
              "      <td>47448</td>\n",
              "      <td>Chicago</td>\n",
              "      <td>il</td>\n",
              "      <td>60619</td>\n",
              "      <td>Treasurer</td>\n",
              "      <td>False</td>\n",
              "    </tr>\n",
              "    <tr>\n",
              "      <th>4651</th>\n",
              "      <td>47447</td>\n",
              "      <td>Chicago</td>\n",
              "      <td>il</td>\n",
              "      <td>60623-1614</td>\n",
              "      <td>Chairman</td>\n",
              "      <td>False</td>\n",
              "    </tr>\n",
              "    <tr>\n",
              "      <th>4652</th>\n",
              "      <td>54025</td>\n",
              "      <td>Chicago</td>\n",
              "      <td>il</td>\n",
              "      <td>60623-1614</td>\n",
              "      <td>Chairman</td>\n",
              "      <td>False</td>\n",
              "    </tr>\n",
              "    <tr>\n",
              "      <th>18939</th>\n",
              "      <td>39418</td>\n",
              "      <td>Kingston</td>\n",
              "      <td>il</td>\n",
              "      <td>60145</td>\n",
              "      <td>Chairman</td>\n",
              "      <td>False</td>\n",
              "    </tr>\n",
              "    <tr>\n",
              "      <th>29699</th>\n",
              "      <td>27124</td>\n",
              "      <td>Hampshire</td>\n",
              "      <td>il</td>\n",
              "      <td>60140</td>\n",
              "      <td>Chairman</td>\n",
              "      <td>False</td>\n",
              "    </tr>\n",
              "    <tr>\n",
              "      <th>43761</th>\n",
              "      <td>29179</td>\n",
              "      <td>McHenry</td>\n",
              "      <td>il</td>\n",
              "      <td>60050</td>\n",
              "      <td>Admin Asst</td>\n",
              "      <td>False</td>\n",
              "    </tr>\n",
              "  </tbody>\n",
              "</table>\n",
              "</div>"
            ],
            "text/plain": [
              "          ID       City State         Zip       Title  RedactionRequested\n",
              "4245   47448    Chicago    il       60619   Treasurer               False\n",
              "4651   47447    Chicago    il  60623-1614    Chairman               False\n",
              "4652   54025    Chicago    il  60623-1614    Chairman               False\n",
              "18939  39418   Kingston    il       60145    Chairman               False\n",
              "29699  27124  Hampshire    il       60140    Chairman               False\n",
              "43761  29179    McHenry    il       60050  Admin Asst               False"
            ]
          },
          "metadata": {
            "tags": []
          },
          "execution_count": 6
        }
      ]
    },
    {
      "cell_type": "code",
      "metadata": {
        "id": "km1miLj2Sdbz",
        "colab_type": "code",
        "outputId": "cca2a132-cf61-46ce-dbe0-d12c86ce81d6",
        "colab": {
          "base_uri": "https://localhost:8080/",
          "height": 527
        }
      },
      "source": [
        "for state in ['Il', 'iL', 'Il']:\n",
        "  print(df.loc[df['State'] == state, ['City', 'State']])"
      ],
      "execution_count": 0,
      "outputs": [
        {
          "output_type": "stream",
          "text": [
            "            City State\n",
            "43        Ottawa    Il\n",
            "44        Ottawa    Il\n",
            "493    Galesburg    Il\n",
            "613      Chicago    Il\n",
            "614      Chicago    Il\n",
            "...          ...   ...\n",
            "54915    Chicago    Il\n",
            "54916    Chicago    Il\n",
            "54918    Chicago    Il\n",
            "54919    Chicago    Il\n",
            "54921    Chicago    Il\n",
            "\n",
            "[665 rows x 2 columns]\n",
            "         City State\n",
            "7052  Wheaton    iL\n",
            "            City State\n",
            "43        Ottawa    Il\n",
            "44        Ottawa    Il\n",
            "493    Galesburg    Il\n",
            "613      Chicago    Il\n",
            "614      Chicago    Il\n",
            "...          ...   ...\n",
            "54915    Chicago    Il\n",
            "54916    Chicago    Il\n",
            "54918    Chicago    Il\n",
            "54919    Chicago    Il\n",
            "54921    Chicago    Il\n",
            "\n",
            "[665 rows x 2 columns]\n"
          ],
          "name": "stdout"
        }
      ]
    },
    {
      "cell_type": "code",
      "metadata": {
        "id": "gtzB7K0K4LBq",
        "colab_type": "code",
        "colab": {}
      },
      "source": [
        "il_mask = df['State'].isin(['il', 'Il', 'iL', 'Il'])"
      ],
      "execution_count": 0,
      "outputs": []
    },
    {
      "cell_type": "code",
      "metadata": {
        "id": "wGEy6Ux17QNY",
        "colab_type": "code",
        "outputId": "4634a503-90d4-4ff9-c0db-f4cda2d33ae6",
        "colab": {
          "base_uri": "https://localhost:8080/",
          "height": 34
        }
      },
      "source": [
        "il_mask.sum()"
      ],
      "execution_count": 0,
      "outputs": [
        {
          "output_type": "execute_result",
          "data": {
            "text/plain": [
              "672"
            ]
          },
          "metadata": {
            "tags": []
          },
          "execution_count": 9
        }
      ]
    },
    {
      "cell_type": "code",
      "metadata": {
        "id": "iTERX9A1SdZD",
        "colab_type": "code",
        "colab": {}
      },
      "source": [
        "df.loc[il_mask, 'State'] = 'IL'"
      ],
      "execution_count": 0,
      "outputs": []
    },
    {
      "cell_type": "code",
      "metadata": {
        "id": "HRWrLS1y7mn5",
        "colab_type": "code",
        "outputId": "632cf119-0b22-45d8-a3bc-a8ee330f27f9",
        "colab": {
          "base_uri": "https://localhost:8080/",
          "height": 102
        }
      },
      "source": [
        "df['State'].unique()"
      ],
      "execution_count": 0,
      "outputs": [
        {
          "output_type": "execute_result",
          "data": {
            "text/plain": [
              "array(['IL', 'PA', 'DC', nan, 'WI', 'CA', 'MO', 'NC', 'IA', 'MA', 'IN',\n",
              "       'MI', 'TN', 'NY', 'ng', 'TX', 'CO', 'NV', 'WA', '8I', 'In', 'OH',\n",
              "       'SC', 'VA', 'NM', 'FL', 'LA', 'GA', 'II', 'NJ', 'MD', 'I', 'AR',\n",
              "       'KS', 'DE', '60', 'SD', 'MN', 'VT', 'OK', 'KY', 'CT', 'NH', 'AZ',\n",
              "       'OR', 'PR', 'RI'], dtype=object)"
            ]
          },
          "metadata": {
            "tags": []
          },
          "execution_count": 11
        }
      ]
    },
    {
      "cell_type": "code",
      "metadata": {
        "id": "vJWBdglfSg32",
        "colab_type": "code",
        "outputId": "ca372632-eb97-4bc7-923e-5f1c25d59f75",
        "colab": {
          "base_uri": "https://localhost:8080/",
          "height": 111
        }
      },
      "source": [
        "df.loc[df['State'] == 'II',]"
      ],
      "execution_count": 0,
      "outputs": [
        {
          "output_type": "execute_result",
          "data": {
            "text/html": [
              "<div>\n",
              "<style scoped>\n",
              "    .dataframe tbody tr th:only-of-type {\n",
              "        vertical-align: middle;\n",
              "    }\n",
              "\n",
              "    .dataframe tbody tr th {\n",
              "        vertical-align: top;\n",
              "    }\n",
              "\n",
              "    .dataframe thead th {\n",
              "        text-align: right;\n",
              "    }\n",
              "</style>\n",
              "<table border=\"1\" class=\"dataframe\">\n",
              "  <thead>\n",
              "    <tr style=\"text-align: right;\">\n",
              "      <th></th>\n",
              "      <th>ID</th>\n",
              "      <th>City</th>\n",
              "      <th>State</th>\n",
              "      <th>Zip</th>\n",
              "      <th>Title</th>\n",
              "      <th>RedactionRequested</th>\n",
              "    </tr>\n",
              "  </thead>\n",
              "  <tbody>\n",
              "    <tr>\n",
              "      <th>14340</th>\n",
              "      <td>28039</td>\n",
              "      <td>Bloomington</td>\n",
              "      <td>II</td>\n",
              "      <td>61704</td>\n",
              "      <td>Co-Chairman</td>\n",
              "      <td>False</td>\n",
              "    </tr>\n",
              "    <tr>\n",
              "      <th>14341</th>\n",
              "      <td>31994</td>\n",
              "      <td>Bloomington</td>\n",
              "      <td>II</td>\n",
              "      <td>61704</td>\n",
              "      <td>Chairman</td>\n",
              "      <td>False</td>\n",
              "    </tr>\n",
              "  </tbody>\n",
              "</table>\n",
              "</div>"
            ],
            "text/plain": [
              "          ID         City State    Zip        Title  RedactionRequested\n",
              "14340  28039  Bloomington    II  61704  Co-Chairman               False\n",
              "14341  31994  Bloomington    II  61704     Chairman               False"
            ]
          },
          "metadata": {
            "tags": []
          },
          "execution_count": 12
        }
      ]
    },
    {
      "cell_type": "code",
      "metadata": {
        "id": "97iBIGphCH7D",
        "colab_type": "code",
        "outputId": "5f06ec34-1b69-4f3d-bfd2-046f9c01d707",
        "colab": {
          "base_uri": "https://localhost:8080/",
          "height": 119
        }
      },
      "source": [
        "for val in ['I', '8I', '60']:\n",
        "  print(df.loc[df['State'] == val, ['City', 'State']])"
      ],
      "execution_count": 0,
      "outputs": [
        {
          "output_type": "stream",
          "text": [
            "              City State\n",
            "17596  Bloomington     I\n",
            "             City State\n",
            "5513  Springfield    8I\n",
            "          City State\n",
            "28060  Chicago    60\n"
          ],
          "name": "stdout"
        }
      ]
    },
    {
      "cell_type": "code",
      "metadata": {
        "id": "ooHQO3ynBwHJ",
        "colab_type": "code",
        "colab": {}
      },
      "source": [
        "for val in ['II', 'I', '8I', '60']:\n",
        "  df.loc[df['State'] == val, 'State'] = 'IL'"
      ],
      "execution_count": 0,
      "outputs": []
    },
    {
      "cell_type": "code",
      "metadata": {
        "id": "6S6K8zSJZPxy",
        "colab_type": "code",
        "outputId": "670b4528-3740-4e51-89c1-d3386c98055b",
        "colab": {
          "base_uri": "https://localhost:8080/",
          "height": 102
        }
      },
      "source": [
        "df['State'].unique()"
      ],
      "execution_count": 0,
      "outputs": [
        {
          "output_type": "execute_result",
          "data": {
            "text/plain": [
              "array(['IL', 'PA', 'DC', nan, 'WI', 'CA', 'MO', 'NC', 'IA', 'MA', 'IN',\n",
              "       'MI', 'TN', 'NY', 'ng', 'TX', 'CO', 'NV', 'WA', 'In', 'OH', 'SC',\n",
              "       'VA', 'NM', 'FL', 'LA', 'GA', 'NJ', 'MD', 'AR', 'KS', 'DE', 'SD',\n",
              "       'MN', 'VT', 'OK', 'KY', 'CT', 'NH', 'AZ', 'OR', 'PR', 'RI'],\n",
              "      dtype=object)"
            ]
          },
          "metadata": {
            "tags": []
          },
          "execution_count": 15
        }
      ]
    },
    {
      "cell_type": "code",
      "metadata": {
        "id": "owFR6OfLct8P",
        "colab_type": "code",
        "outputId": "19b59a9f-39ad-4278-b25b-0a780399232c",
        "colab": {
          "base_uri": "https://localhost:8080/",
          "height": 102
        }
      },
      "source": [
        "for val in ['In', 'ng']:\n",
        "  print(df.loc[df['State'] == val, ['City', 'State']])"
      ],
      "execution_count": 0,
      "outputs": [
        {
          "output_type": "stream",
          "text": [
            "           City State\n",
            "5733  Sherville    In\n",
            "            City State\n",
            "2428  none given    ng\n",
            "2961  none given    ng\n"
          ],
          "name": "stdout"
        }
      ]
    },
    {
      "cell_type": "code",
      "metadata": {
        "id": "OzdeI3BEdJ_C",
        "colab_type": "code",
        "colab": {}
      },
      "source": [
        "df.loc[df['State'].str.contains('In', na=False), 'State'] = 'IN'"
      ],
      "execution_count": 0,
      "outputs": []
    },
    {
      "cell_type": "code",
      "metadata": {
        "id": "5wfMCwspd2YY",
        "colab_type": "code",
        "outputId": "9a270a04-1116-46e4-dd89-adb7f042e358",
        "colab": {
          "base_uri": "https://localhost:8080/",
          "height": 85
        }
      },
      "source": [
        "df['State'].unique()"
      ],
      "execution_count": 0,
      "outputs": [
        {
          "output_type": "execute_result",
          "data": {
            "text/plain": [
              "array(['IL', 'PA', 'DC', nan, 'WI', 'CA', 'MO', 'NC', 'IA', 'MA', 'IN',\n",
              "       'MI', 'TN', 'NY', 'ng', 'TX', 'CO', 'NV', 'WA', 'OH', 'SC', 'VA',\n",
              "       'NM', 'FL', 'LA', 'GA', 'NJ', 'MD', 'AR', 'KS', 'DE', 'SD', 'MN',\n",
              "       'VT', 'OK', 'KY', 'CT', 'NH', 'AZ', 'OR', 'PR', 'RI'], dtype=object)"
            ]
          },
          "metadata": {
            "tags": []
          },
          "execution_count": 18
        }
      ]
    }
  ]
}