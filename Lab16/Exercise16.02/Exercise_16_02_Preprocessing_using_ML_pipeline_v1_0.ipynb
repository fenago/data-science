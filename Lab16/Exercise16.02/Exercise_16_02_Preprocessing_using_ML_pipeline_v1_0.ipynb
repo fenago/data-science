{
 "cells": [
  {
   "cell_type": "code",
   "execution_count": null,
   "metadata": {
    "colab": {},
    "colab_type": "code",
    "id": "ktFt6IzKJkSn"
   },
   "outputs": [],
   "source": [
    "import pandas as pd"
   ]
  },
  {
   "cell_type": "code",
   "execution_count": null,
   "metadata": {
    "colab": {},
    "colab_type": "code",
    "id": "_JoUdRaiIwo4"
   },
   "outputs": [],
   "source": [
    "#Loading data from the Github repository to colab notebook\n",
    "filename = 'https://raw.githubusercontent.com/PacktWorkshops/The-Data-Science-Workshop/master/Chapter15/Dataset/crx.data'\n",
    "\n"
   ]
  },
  {
   "cell_type": "code",
   "execution_count": null,
   "metadata": {
    "colab": {
     "base_uri": "https://localhost:8080/",
     "height": 204
    },
    "colab_type": "code",
    "id": "0ZmzTR-CJra-",
    "outputId": "9a8e417d-5645-4ed3-c784-3a2a30ea658c"
   },
   "outputs": [],
   "source": [
    "# Loading the data using pandas\n",
    "\n",
    "credData = pd.read_csv(filename,sep=\",\",header = None,na_values = \"?\")\n",
    "credData.head()"
   ]
  },
  {
   "cell_type": "code",
   "execution_count": null,
   "metadata": {
    "colab": {
     "base_uri": "https://localhost:8080/",
     "height": 204
    },
    "colab_type": "code",
    "id": "rXYA47JRKVz-",
    "outputId": "db6236d6-83bd-46db-9c75-01ca341ea2f1"
   },
   "outputs": [],
   "source": [
    "# Changing the Classes to 1 & 0\n",
    "credData.loc[credData[15] == '+' , 15] = 1\n",
    "credData.loc[credData[15] == '-' , 15] = 0\n",
    "credData.head()"
   ]
  },
  {
   "cell_type": "code",
   "execution_count": null,
   "metadata": {
    "colab": {
     "base_uri": "https://localhost:8080/",
     "height": 34
    },
    "colab_type": "code",
    "id": "R9-NFhigmokr",
    "outputId": "2c9c2b5a-b742-4499-e899-24ce4386aa6b"
   },
   "outputs": [],
   "source": [
    "# Dropping all the rows with na values\n",
    "newcred = credData.dropna(axis = 0)\n",
    "newcred.shape"
   ]
  },
  {
   "cell_type": "code",
   "execution_count": null,
   "metadata": {
    "colab": {
     "base_uri": "https://localhost:8080/",
     "height": 51
    },
    "colab_type": "code",
    "id": "F3DiCvpm0Qgo",
    "outputId": "d434f1d7-77bc-4d69-ff6e-a53a71c9aaff"
   },
   "outputs": [],
   "source": [
    "# Seperating X and y variables\n",
    "\n",
    "X = newcred.loc[:,0:14]\n",
    "print(X.shape)\n",
    "y = newcred.loc[:,15]\n",
    "print(y.shape)"
   ]
  },
  {
   "cell_type": "code",
   "execution_count": null,
   "metadata": {
    "colab": {},
    "colab_type": "code",
    "id": "q93tXRtVzuvS"
   },
   "outputs": [],
   "source": [
    "from sklearn.model_selection import train_test_split\n",
    "\n",
    "# Splitting the data into train and test sets\n",
    "X_train, X_test, y_train, y_test = train_test_split(X, y, test_size=0.3, random_state=123)"
   ]
  },
  {
   "cell_type": "markdown",
   "metadata": {
    "colab_type": "text",
    "id": "NDhlhPQr1ts7"
   },
   "source": [
    "**Pipe line for Dummy creation**"
   ]
  },
  {
   "cell_type": "code",
   "execution_count": null,
   "metadata": {
    "colab": {},
    "colab_type": "code",
    "id": "JhAB1VvZDbKR"
   },
   "outputs": [],
   "source": [
    "# Importing the necessary packages\n",
    "from sklearn.pipeline import Pipeline\n",
    "\n",
    "from sklearn.preprocessing import StandardScaler, OneHotEncoder"
   ]
  },
  {
   "cell_type": "code",
   "execution_count": null,
   "metadata": {
    "colab": {},
    "colab_type": "code",
    "id": "QIkCAPmoDa8d"
   },
   "outputs": [],
   "source": [
    "# Pipeline for transforming categorical variables\n",
    "catTransformer = Pipeline(steps=[('onehot', OneHotEncoder(handle_unknown='ignore'))])"
   ]
  },
  {
   "cell_type": "code",
   "execution_count": null,
   "metadata": {
    "colab": {},
    "colab_type": "code",
    "id": "bMOThSF82_7W"
   },
   "outputs": [],
   "source": [
    "# Pipeline for scaling numerical variables\n",
    "numTransformer = Pipeline(steps=[('scaler', StandardScaler())])"
   ]
  },
  {
   "cell_type": "code",
   "execution_count": null,
   "metadata": {
    "colab": {
     "base_uri": "https://localhost:8080/",
     "height": 289
    },
    "colab_type": "code",
    "id": "JZrTj4415EOS",
    "outputId": "805c58b4-be4f-40ee-89ae-1464d8c2cb78"
   },
   "outputs": [],
   "source": [
    "# Printing dtypes for X\n",
    "X.dtypes"
   ]
  },
  {
   "cell_type": "code",
   "execution_count": null,
   "metadata": {
    "colab": {
     "base_uri": "https://localhost:8080/",
     "height": 34
    },
    "colab_type": "code",
    "id": "ONz7zAvD2_qm",
    "outputId": "ccfa99d9-24cb-431e-b240-bb0278fb2cd6"
   },
   "outputs": [],
   "source": [
    "# Selecting numerical features\n",
    "numFeatures = X.select_dtypes(include=['int64', 'float64']).columns\n",
    "\n",
    "numFeatures\n"
   ]
  },
  {
   "cell_type": "code",
   "execution_count": null,
   "metadata": {
    "colab": {
     "base_uri": "https://localhost:8080/",
     "height": 34
    },
    "colab_type": "code",
    "id": "bp76LzPY46eZ",
    "outputId": "2b99d059-0d50-431b-ed13-dd6ebbc73fef"
   },
   "outputs": [],
   "source": [
    "# Selecting Categorical features\n",
    "catFeatures = X.select_dtypes(include=['object']).columns\n",
    "catFeatures"
   ]
  },
  {
   "cell_type": "code",
   "execution_count": null,
   "metadata": {
    "colab": {},
    "colab_type": "code",
    "id": "Vf2spP0U37Nv"
   },
   "outputs": [],
   "source": [
    "# Creating the preprocessing engine\n",
    "from sklearn.compose import ColumnTransformer\n",
    "preprocessor = ColumnTransformer(\n",
    "    transformers=[\n",
    "        ('numeric', numTransformer, numFeatures),\n",
    "        ('categoric', catTransformer, catFeatures)])"
   ]
  },
  {
   "cell_type": "code",
   "execution_count": null,
   "metadata": {
    "colab": {
     "base_uri": "https://localhost:8080/",
     "height": 241
    },
    "colab_type": "code",
    "id": "TiB_EpWADaqv",
    "outputId": "90794de3-f02c-4a51-f178-c61260b610fe"
   },
   "outputs": [],
   "source": [
    "# Transforming the Training data\n",
    "Xtran_train = pd.DataFrame(preprocessor.fit_transform(X_train))\n",
    "print(Xtran_train.shape)\n",
    "Xtran_train.head()"
   ]
  },
  {
   "cell_type": "code",
   "execution_count": null,
   "metadata": {
    "colab": {
     "base_uri": "https://localhost:8080/",
     "height": 241
    },
    "colab_type": "code",
    "id": "SYn3MApz4W9v",
    "outputId": "934d4cb2-8315-4c23-a286-64211934bedc"
   },
   "outputs": [],
   "source": [
    "# Transforming Test data\n",
    "Xtran_test = pd.DataFrame(preprocessor.transform(X_test))\n",
    "print(Xtran_test.shape)\n",
    "Xtran_test.head()\n"
   ]
  },
  {
   "cell_type": "code",
   "execution_count": null,
   "metadata": {},
   "outputs": [],
   "source": []
  }
 ],
 "metadata": {
  "colab": {
   "collapsed_sections": [],
   "name": "Exercise 16.02 : Preprocessing using ML pipeline_v1.0",
   "provenance": []
  },
  "kernelspec": {
   "display_name": "Python 3",
   "language": "python",
   "name": "python3"
  },
  "language_info": {
   "codemirror_mode": {
    "name": "ipython",
    "version": 3
   },
   "file_extension": ".py",
   "mimetype": "text/x-python",
   "name": "python",
   "nbconvert_exporter": "python",
   "pygments_lexer": "ipython3",
   "version": "3.8.6"
  }
 },
 "nbformat": 4,
 "nbformat_minor": 1
}
