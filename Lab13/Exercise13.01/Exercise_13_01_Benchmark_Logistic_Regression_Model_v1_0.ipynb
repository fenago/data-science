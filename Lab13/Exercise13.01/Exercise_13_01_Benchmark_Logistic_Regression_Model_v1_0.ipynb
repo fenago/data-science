{
 "cells": [
  {
   "cell_type": "code",
   "execution_count": null,
   "metadata": {
    "colab": {},
    "colab_type": "code",
    "id": "h6UINJEPtGQJ"
   },
   "outputs": [],
   "source": [
    "# Loading the necessary library files\n",
    "import pandas as pd"
   ]
  },
  {
   "cell_type": "code",
   "execution_count": null,
   "metadata": {
    "colab": {
     "base_uri": "https://localhost:8080/",
     "height": 224
    },
    "colab_type": "code",
    "id": "B4bxRZg_tqnp",
    "outputId": "03cae852-f815-4635-de56-16732946729c"
   },
   "outputs": [],
   "source": [
    "# Defining data path of Github repository\n",
    "\n",
    "filename = 'https://raw.githubusercontent.com/PacktWorkshops/The-Data-Science-Workshop/master/Chapter13/Dataset/bank-full.csv'\n",
    "# Loading the data using pandas\n",
    "\n",
    "bankData = pd.read_csv(filename,sep=\";\")\n",
    "bankData.head()"
   ]
  },
  {
   "cell_type": "code",
   "execution_count": null,
   "metadata": {
    "colab": {},
    "colab_type": "code",
    "id": "Isxz-xjM1-i0"
   },
   "outputs": [],
   "source": [
    "from sklearn.preprocessing import RobustScaler\n",
    "\n",
    "rob_scaler = RobustScaler()"
   ]
  },
  {
   "cell_type": "code",
   "execution_count": null,
   "metadata": {
    "colab": {},
    "colab_type": "code",
    "id": "2veDoJTA2JJv"
   },
   "outputs": [],
   "source": [
    "# Converting each of the columns to scaled version\n",
    "\n",
    "bankData['ageScaled'] = rob_scaler.fit_transform(bankData['age'].values.reshape(-1,1))\n",
    "bankData['balScaled'] = rob_scaler.fit_transform(bankData['balance'].values.reshape(-1,1))\n",
    "bankData['durScaled'] = rob_scaler.fit_transform(bankData['duration'].values.reshape(-1,1))"
   ]
  },
  {
   "cell_type": "code",
   "execution_count": null,
   "metadata": {
    "colab": {},
    "colab_type": "code",
    "id": "nkw6j0Bq2Yaa"
   },
   "outputs": [],
   "source": [
    "# Dropping the original columns\n",
    "\n",
    "bankData.drop(['age','balance','duration'], axis=1, inplace=True)"
   ]
  },
  {
   "cell_type": "code",
   "execution_count": null,
   "metadata": {
    "colab": {
     "base_uri": "https://localhost:8080/",
     "height": 224
    },
    "colab_type": "code",
    "id": "LjcB4SaWiKp0",
    "outputId": "ad70e8da-44d1-4633-cfd0-19d43a3db7b7"
   },
   "outputs": [],
   "source": [
    "# Print the head of the data\n",
    "\n",
    "bankData.head()"
   ]
  },
  {
   "cell_type": "code",
   "execution_count": null,
   "metadata": {
    "colab": {},
    "colab_type": "code",
    "id": "8glxMnxxN8NB"
   },
   "outputs": [],
   "source": [
    "# Converting all the categorical variables to dummy variables\n",
    "bankCat = pd.get_dummies(bankData[['job','marital','education','default','housing','loan','contact','month','poutcome']])"
   ]
  },
  {
   "cell_type": "code",
   "execution_count": null,
   "metadata": {
    "colab": {
     "base_uri": "https://localhost:8080/",
     "height": 34
    },
    "colab_type": "code",
    "id": "Ge2LlC_1ePzX",
    "outputId": "34919124-dacf-416a-b66a-72ea0829665c"
   },
   "outputs": [],
   "source": [
    "# Seperating the numerical data\n",
    "bankNum = bankData[['ageScaled','balScaled','day','durScaled','campaign','pdays','previous']]\n",
    "bankNum.shape"
   ]
  },
  {
   "cell_type": "code",
   "execution_count": null,
   "metadata": {
    "colab": {
     "base_uri": "https://localhost:8080/",
     "height": 275
    },
    "colab_type": "code",
    "id": "EsT4u_jDQ7Sv",
    "outputId": "72b2e001-25f2-4453-f092-2cca071d6cf8"
   },
   "outputs": [],
   "source": [
    "# Merging with the original data frame\n",
    "# Preparing the X variables\n",
    "X = pd.concat([bankCat, bankNum], axis=1)\n",
    "print(X.shape)\n",
    "# Preparing the Y variable\n",
    "Y = bankData['y']\n",
    "print(Y.shape)\n",
    "X.head()"
   ]
  },
  {
   "cell_type": "code",
   "execution_count": null,
   "metadata": {
    "colab": {},
    "colab_type": "code",
    "id": "Rm9HxCWj3xtg"
   },
   "outputs": [],
   "source": [
    "from sklearn.linear_model import LogisticRegression\n",
    "from sklearn.model_selection import train_test_split"
   ]
  },
  {
   "cell_type": "code",
   "execution_count": null,
   "metadata": {
    "colab": {},
    "colab_type": "code",
    "id": "V8aDSCuK3_lv"
   },
   "outputs": [],
   "source": [
    "# Splitting the data into train and test sets\n",
    "X_train, X_test, y_train, y_test = train_test_split(X, Y, test_size=0.3, random_state=123)\n",
    "# Defining the LogisticRegression function\n",
    "bankModel = LogisticRegression()"
   ]
  },
  {
   "cell_type": "code",
   "execution_count": null,
   "metadata": {
    "colab": {
     "base_uri": "https://localhost:8080/",
     "height": 156
    },
    "colab_type": "code",
    "id": "h8DjrmI53bEt",
    "outputId": "1926ed10-87bb-4407-c645-94d73559aa3d"
   },
   "outputs": [],
   "source": [
    "\n",
    "bankModel.fit(X_train, y_train)"
   ]
  },
  {
   "cell_type": "code",
   "execution_count": null,
   "metadata": {
    "colab": {
     "base_uri": "https://localhost:8080/",
     "height": 34
    },
    "colab_type": "code",
    "id": "OpOCAYPO4Kuq",
    "outputId": "7e9e81f7-f19f-42d9-e167-ad3e9c7ff08c"
   },
   "outputs": [],
   "source": [
    "pred = bankModel.predict(X_test)\n",
    "print('Accuracy of Logistic regression model prediction on test set: {:.2f}'.format(bankModel.score(X_test, y_test)))"
   ]
  },
  {
   "cell_type": "code",
   "execution_count": null,
   "metadata": {
    "colab": {
     "base_uri": "https://localhost:8080/",
     "height": 204
    },
    "colab_type": "code",
    "id": "5JWHRmRTTloL",
    "outputId": "9cb9f181-717c-4aa8-90ea-123231efdd74"
   },
   "outputs": [],
   "source": [
    "# Confusion Matrix for the model\n",
    "from sklearn.metrics import confusion_matrix\n",
    "confusionMatrix = confusion_matrix(y_test, pred)\n",
    "print(confusionMatrix)\n",
    "\n",
    "from sklearn.metrics import classification_report\n",
    "print(classification_report(y_test, pred))"
   ]
  },
  {
   "cell_type": "code",
   "execution_count": null,
   "metadata": {
    "colab": {
     "base_uri": "https://localhost:8080/",
     "height": 85
    },
    "colab_type": "code",
    "id": "6SNINkDUhqe8",
    "outputId": "0f354c01-1800-466c-ac9f-d03cfc9183d4"
   },
   "outputs": [],
   "source": [
    "print('Percentage of negative class :',(y_train[y_train=='yes'].value_counts()/len(y_train) ) * 100)\n",
    "print('Percentage of positive class :',(y_train[y_train=='no'].value_counts()/len(y_train) ) * 100)"
   ]
  }
 ],
 "metadata": {
  "colab": {
   "collapsed_sections": [],
   "name": "Exercise 13.01 - Benchmark Logistic Regression Model_v1.0",
   "provenance": []
  },
  "kernelspec": {
   "display_name": "Python 3",
   "language": "python",
   "name": "python3"
  },
  "language_info": {
   "codemirror_mode": {
    "name": "ipython",
    "version": 3
   },
   "file_extension": ".py",
   "mimetype": "text/x-python",
   "name": "python",
   "nbconvert_exporter": "python",
   "pygments_lexer": "ipython3",
   "version": "3.8.6"
  }
 },
 "nbformat": 4,
 "nbformat_minor": 1
}
