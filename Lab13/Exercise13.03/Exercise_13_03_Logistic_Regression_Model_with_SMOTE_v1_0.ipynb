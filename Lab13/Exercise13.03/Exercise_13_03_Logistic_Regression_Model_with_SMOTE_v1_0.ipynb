{
 "cells": [
  {
   "cell_type": "code",
   "execution_count": null,
   "metadata": {
    "colab": {},
    "colab_type": "code",
    "id": "45Bl5J8c07xl"
   },
   "outputs": [],
   "source": [
    "!pip install smote-variants"
   ]
  },
  {
   "cell_type": "code",
   "execution_count": null,
   "metadata": {
    "colab": {},
    "colab_type": "code",
    "id": "h6UINJEPtGQJ"
   },
   "outputs": [],
   "source": [
    "# Loading the necessary library files\n",
    "import pandas as pd"
   ]
  },
  {
   "cell_type": "code",
   "execution_count": null,
   "metadata": {
    "colab": {
     "base_uri": "https://localhost:8080/",
     "height": 204
    },
    "colab_type": "code",
    "id": "B4bxRZg_tqnp",
    "outputId": "3c741eea-4920-4e7e-b6fb-1120aa920e31"
   },
   "outputs": [],
   "source": [
    "# Loading data from the drive\n",
    "\n",
    "# Please change the filename as per the location where the file is stored\n",
    "filename = 'https://raw.githubusercontent.com/PacktWorkshops/The-Data-Science-Workshop/master/Chapter13/Dataset/bank-full.csv'\n",
    "# Loading the data using pandas\n",
    "\n",
    "bankData = pd.read_csv(filename,sep=\";\")\n",
    "bankData.head()"
   ]
  },
  {
   "cell_type": "code",
   "execution_count": null,
   "metadata": {
    "colab": {},
    "colab_type": "code",
    "id": "Isxz-xjM1-i0"
   },
   "outputs": [],
   "source": [
    "from sklearn.preprocessing import RobustScaler\n",
    "\n",
    "rob_scaler = RobustScaler()"
   ]
  },
  {
   "cell_type": "code",
   "execution_count": null,
   "metadata": {
    "colab": {},
    "colab_type": "code",
    "id": "2veDoJTA2JJv"
   },
   "outputs": [],
   "source": [
    "# Converting each of the columns to scaled version\n",
    "\n",
    "bankData['ageScaled'] = rob_scaler.fit_transform(bankData['age'].values.reshape(-1,1))\n",
    "bankData['balScaled'] = rob_scaler.fit_transform(bankData['balance'].values.reshape(-1,1))\n",
    "bankData['durScaled'] = rob_scaler.fit_transform(bankData['duration'].values.reshape(-1,1))"
   ]
  },
  {
   "cell_type": "code",
   "execution_count": null,
   "metadata": {
    "colab": {},
    "colab_type": "code",
    "id": "nkw6j0Bq2Yaa"
   },
   "outputs": [],
   "source": [
    "# Dropping the original columns\n",
    "\n",
    "bankData.drop(['age','balance','duration'], axis=1, inplace=True)"
   ]
  },
  {
   "cell_type": "code",
   "execution_count": null,
   "metadata": {
    "colab": {},
    "colab_type": "code",
    "id": "8glxMnxxN8NB"
   },
   "outputs": [],
   "source": [
    "# Converting all the categorical variables to dummy variables\n",
    "bankCat = pd.get_dummies(bankData[['job','marital','education','default','housing','loan','contact','month','poutcome']])"
   ]
  },
  {
   "cell_type": "code",
   "execution_count": null,
   "metadata": {
    "colab": {
     "base_uri": "https://localhost:8080/",
     "height": 34
    },
    "colab_type": "code",
    "id": "Ge2LlC_1ePzX",
    "outputId": "2eab5bae-63eb-4d5f-8ee8-a3a1ec97b0c5"
   },
   "outputs": [],
   "source": [
    "# Seperating the numerical data\n",
    "bankNum = bankData[['ageScaled','balScaled','day','durScaled','campaign','pdays','previous']]\n",
    "bankNum.shape"
   ]
  },
  {
   "cell_type": "code",
   "execution_count": null,
   "metadata": {
    "colab": {
     "base_uri": "https://localhost:8080/",
     "height": 275
    },
    "colab_type": "code",
    "id": "EsT4u_jDQ7Sv",
    "outputId": "99cdcdf5-6448-4070-f520-5ed4d317b7b6"
   },
   "outputs": [],
   "source": [
    "# Merging with the original data frame\n",
    "# Preparing the X variables\n",
    "X = pd.concat([bankCat, bankNum], axis=1)\n",
    "print(X.shape)\n",
    "# Preparing the Y variable\n",
    "Y = bankData['y']\n",
    "print(Y.shape)\n",
    "X.head()"
   ]
  },
  {
   "cell_type": "code",
   "execution_count": null,
   "metadata": {
    "colab": {},
    "colab_type": "code",
    "id": "Rm9HxCWj3xtg"
   },
   "outputs": [],
   "source": [
    "from sklearn.model_selection import train_test_split\n",
    "# Splitting the data into train and test sets\n",
    "X_train, X_test, y_train, y_test = train_test_split(X, Y, test_size=0.3, random_state=123)"
   ]
  },
  {
   "cell_type": "code",
   "execution_count": null,
   "metadata": {
    "colab": {
     "base_uri": "https://localhost:8080/",
     "height": 68
    },
    "colab_type": "code",
    "id": "D-af4hV51xTi",
    "outputId": "2fe2df8b-912e-4373-a68d-5127fe04fe0f"
   },
   "outputs": [],
   "source": [
    "print(\"Before OverSampling count of yes: {}\".format(sum(y_train=='yes')))\n",
    "print(\"Before OverSampling count of no: {} \\n\".format(sum(y_train=='no')))"
   ]
  },
  {
   "cell_type": "code",
   "execution_count": null,
   "metadata": {
    "colab": {},
    "colab_type": "code",
    "id": "7saUfnIA26on"
   },
   "outputs": [],
   "source": [
    "import smote_variants as sv\n",
    "import numpy as np"
   ]
  },
  {
   "cell_type": "code",
   "execution_count": null,
   "metadata": {
    "colab": {},
    "colab_type": "code",
    "id": "1WQY8pYF3IcP"
   },
   "outputs": [],
   "source": [
    "# Instantiating the SMOTE class\n",
    "oversampler= sv.SMOTE()"
   ]
  },
  {
   "cell_type": "code",
   "execution_count": null,
   "metadata": {
    "colab": {
     "base_uri": "https://localhost:8080/",
     "height": 34
    },
    "colab_type": "code",
    "id": "u3l2R9Wn3M0L",
    "outputId": "6b4707c2-625c-4390-eb79-d6666c19f984"
   },
   "outputs": [],
   "source": [
    "# Creating new training set\n",
    "\n",
    "X_train_os, y_train_os = oversampler.sample(np.array(X_train), np.array(y_train))"
   ]
  },
  {
   "cell_type": "code",
   "execution_count": null,
   "metadata": {
    "colab": {
     "base_uri": "https://localhost:8080/",
     "height": 102
    },
    "colab_type": "code",
    "id": "dFVuB-2K83QE",
    "outputId": "e92f90e3-dd09-40cb-ec2e-979c7ee6a0cf"
   },
   "outputs": [],
   "source": [
    "# Shape after oversampling\n",
    "\n",
    "print('After OverSampling, the shape of train_X: {}'.format(X_train_os.shape))\n",
    "print('After OverSampling, the shape of train_y: {} \\n'.format(y_train_os.shape))\n",
    "\n",
    "print(\"After OverSampling, counts of label 'Yes': {}\".format(sum(y_train_os=='yes')))\n",
    "print(\"After OverSampling, counts of label 'no': {}\".format(sum(y_train_os=='no')))\n"
   ]
  },
  {
   "cell_type": "code",
   "execution_count": null,
   "metadata": {
    "colab": {
     "base_uri": "https://localhost:8080/",
     "height": 156
    },
    "colab_type": "code",
    "id": "Q1fAZ7Fa5T7A",
    "outputId": "ced70bef-980b-4362-a5a5-0cc33a7d8216"
   },
   "outputs": [],
   "source": [
    "# Training the model with Logistic regression model\n",
    "from sklearn.linear_model import LogisticRegression\n",
    "# Defining the LogisticRegression function\n",
    "\n",
    "bankModel2 = LogisticRegression()\n",
    "\n",
    "bankModel2.fit(X_train_os, y_train_os)"
   ]
  },
  {
   "cell_type": "code",
   "execution_count": null,
   "metadata": {
    "colab": {},
    "colab_type": "code",
    "id": "N3Od5TFWRTRG"
   },
   "outputs": [],
   "source": [
    "# Predicting on the test set\n",
    "pred = bankModel2.predict(X_test)"
   ]
  },
  {
   "cell_type": "code",
   "execution_count": null,
   "metadata": {
    "colab": {
     "base_uri": "https://localhost:8080/",
     "height": 34
    },
    "colab_type": "code",
    "id": "NR8cx4lERZrg",
    "outputId": "38f43890-b1d7-4ef4-a592-8a423447208b"
   },
   "outputs": [],
   "source": [
    "\n",
    "# Printing accuracy \n",
    "print('Accuracy of Logistic regression model prediction on test set for Smote balanced data set: {:.2f}'.format(bankModel2.score(X_test, y_test)))\n"
   ]
  },
  {
   "cell_type": "code",
   "execution_count": null,
   "metadata": {
    "colab": {
     "base_uri": "https://localhost:8080/",
     "height": 51
    },
    "colab_type": "code",
    "id": "iP0-tfdkRhVz",
    "outputId": "a600de5f-fc78-4d64-95ce-3a85dc16bb27"
   },
   "outputs": [],
   "source": [
    "# Confusion Matrix for the model\n",
    "\n",
    "from sklearn.metrics import confusion_matrix\n",
    "confusionMatrix = confusion_matrix(y_test, pred)\n",
    "print(confusionMatrix)"
   ]
  },
  {
   "cell_type": "code",
   "execution_count": null,
   "metadata": {
    "colab": {
     "base_uri": "https://localhost:8080/",
     "height": 170
    },
    "colab_type": "code",
    "id": "fd3PNkJE9-WU",
    "outputId": "bfb1007f-c312-4be4-b4f4-55c150fb0f03"
   },
   "outputs": [],
   "source": [
    "\n",
    "# Classification report for the model\n",
    "\n",
    "from sklearn.metrics import classification_report\n",
    "print(classification_report(y_test, pred))\n",
    "\n"
   ]
  }
 ],
 "metadata": {
  "colab": {
   "collapsed_sections": [],
   "name": "Exercise 13. 03 - Logistic Regression Model with SMOTE_v1.0",
   "provenance": []
  },
  "kernelspec": {
   "display_name": "Python 3",
   "language": "python",
   "name": "python3"
  },
  "language_info": {
   "codemirror_mode": {
    "name": "ipython",
    "version": 3
   },
   "file_extension": ".py",
   "mimetype": "text/x-python",
   "name": "python",
   "nbconvert_exporter": "python",
   "pygments_lexer": "ipython3",
   "version": "3.8.6"
  }
 },
 "nbformat": 4,
 "nbformat_minor": 1
}
