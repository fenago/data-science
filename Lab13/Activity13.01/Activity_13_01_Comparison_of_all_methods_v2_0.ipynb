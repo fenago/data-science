{
 "cells": [
  {
   "cell_type": "code",
   "execution_count": null,
   "metadata": {
    "colab": {},
    "colab_type": "code",
    "id": "LATcua1ja8I4"
   },
   "outputs": [],
   "source": [
    "!pip install smote-variants"
   ]
  },
  {
   "cell_type": "code",
   "execution_count": null,
   "metadata": {
    "colab": {
     "base_uri": "https://localhost:8080/",
     "height": 224
    },
    "colab_type": "code",
    "id": "B4bxRZg_tqnp",
    "outputId": "6974ea66-4410-4d2f-97c9-5811cf58c25c"
   },
   "outputs": [],
   "source": [
    "# Loading data from the Github repository\n",
    "import pandas as pd\n",
    "filename = 'https://raw.githubusercontent.com/PacktWorkshops/The-Data-Science-Workshop/master/Chapter13/Dataset/churn.csv'\n",
    "# Loading the data using pandas\n",
    "\n",
    "churnData = pd.read_csv(filename,sep=\",\")\n",
    "churnData.head()"
   ]
  },
  {
   "cell_type": "markdown",
   "metadata": {
    "colab_type": "text",
    "id": "3tLgOzokaNiH"
   },
   "source": [
    "**Feature engineering steps**\n",
    "\n",
    "Let us now do some feature engineering to the data. First we will scale the numerical data and then convert the ordinal data to \n",
    "dummy data"
   ]
  },
  {
   "cell_type": "code",
   "execution_count": null,
   "metadata": {
    "colab": {},
    "colab_type": "code",
    "id": "LjcB4SaWiKp0"
   },
   "outputs": [],
   "source": [
    "# Normalising data\n",
    "from sklearn import preprocessing\n",
    "\n",
    "minmaxScaler = preprocessing.MinMaxScaler()\n",
    "\n",
    "# Converting each of the columns to scaled version\n",
    "\n",
    "churnData['alScaled'] = minmaxScaler.fit_transform(churnData['accountlength'].values.reshape(-1,1))\n",
    "churnData['nvmmScaled'] = minmaxScaler.fit_transform(churnData['numbervmailmessages'].values.reshape(-1,1))\n",
    "churnData['tdmScaled'] = minmaxScaler.fit_transform(churnData['totaldayminutes'].values.reshape(-1,1))\n",
    "churnData['tdcScaled'] = minmaxScaler.fit_transform(churnData['totaldaycalls'].values.reshape(-1,1))\n",
    "churnData['tdchScaled'] = minmaxScaler.fit_transform(churnData['totaldaycharge'].values.reshape(-1,1))\n",
    "churnData['temScaled'] = minmaxScaler.fit_transform(churnData['totaleveminutes'].values.reshape(-1,1))\n",
    "churnData['tecScaled'] = minmaxScaler.fit_transform(churnData['totalevecalls'].values.reshape(-1,1))\n",
    "churnData['techScaled'] = minmaxScaler.fit_transform(churnData['totalevecharge'].values.reshape(-1,1))\n",
    "churnData['tnmScaled'] = minmaxScaler.fit_transform(churnData['totalnightminutes'].values.reshape(-1,1))\n",
    "churnData['tncScaled'] = minmaxScaler.fit_transform(churnData['totalnightcalls'].values.reshape(-1,1))\n",
    "churnData['tnchScaled'] = minmaxScaler.fit_transform(churnData['totalnightcharge'].values.reshape(-1,1))\n",
    "churnData['timScaled'] = minmaxScaler.fit_transform(churnData['totalintlminutes'].values.reshape(-1,1))\n",
    "churnData['ticScaled'] = minmaxScaler.fit_transform(churnData['totalintlcalls'].values.reshape(-1,1))\n",
    "churnData['tichScaled'] = minmaxScaler.fit_transform(churnData['totalintlcharge'].values.reshape(-1,1))\n",
    "churnData['ncscScaled'] = minmaxScaler.fit_transform(churnData['numbercustomerservicecalls'].values.reshape(-1,1))\n",
    "\n",
    "\n"
   ]
  },
  {
   "cell_type": "code",
   "execution_count": null,
   "metadata": {
    "colab": {
     "base_uri": "https://localhost:8080/",
     "height": 224
    },
    "colab_type": "code",
    "id": "CE1JqQ4bMPI8",
    "outputId": "644d3e37-72ea-4a5b-f989-f0444248328c"
   },
   "outputs": [],
   "source": [
    "# Dropping the original columns\n",
    "\n",
    "churnData.drop(['accountlength','numbervmailmessages','totaldayminutes','totaldaycalls','totaldaycharge','totaleveminutes','totalevecalls','totalevecharge','totalnightminutes','totalnightcalls','totalnightcharge','totalintlminutes','totalintlcalls','totalintlcharge','numbercustomerservicecalls'], axis=1, inplace=True)\n",
    "\n",
    "# Print the head of the data\n",
    "\n",
    "churnData.head()"
   ]
  },
  {
   "cell_type": "code",
   "execution_count": null,
   "metadata": {
    "colab": {},
    "colab_type": "code",
    "id": "8glxMnxxN8NB"
   },
   "outputs": [],
   "source": [
    "# Converting all the categorical variables to dummy variables\n",
    "churnCat = pd.get_dummies(churnData[['internationalplan','voicemailplan']])"
   ]
  },
  {
   "cell_type": "code",
   "execution_count": null,
   "metadata": {
    "colab": {
     "base_uri": "https://localhost:8080/",
     "height": 34
    },
    "colab_type": "code",
    "id": "Ge2LlC_1ePzX",
    "outputId": "2158bb5d-0d14-4b27-9201-4613c474b96c"
   },
   "outputs": [],
   "source": [
    "# Seperating the numerical data\n",
    "churnNum = churnData[['alScaled','nvmmScaled','tdmScaled','tdcScaled','tdchScaled','temScaled','tecScaled','techScaled','tnmScaled','tncScaled','tnchScaled','timScaled','ticScaled','tichScaled','ncscScaled']]\n",
    "churnNum.shape"
   ]
  },
  {
   "cell_type": "code",
   "execution_count": null,
   "metadata": {
    "colab": {
     "base_uri": "https://localhost:8080/",
     "height": 258
    },
    "colab_type": "code",
    "id": "EsT4u_jDQ7Sv",
    "outputId": "349d87bb-2d13-4a88-ec6b-10fb91632aab"
   },
   "outputs": [],
   "source": [
    "# Merging with the original data frame\n",
    "# Preparing the X variables\n",
    "X = pd.concat([churnCat, churnNum], axis=1)\n",
    "print(X.shape)\n",
    "# Preparing the Y variable\n",
    "Y = churnData['churn']\n",
    "print(Y.shape)\n",
    "X.head()"
   ]
  },
  {
   "cell_type": "code",
   "execution_count": null,
   "metadata": {
    "colab": {},
    "colab_type": "code",
    "id": "xb1owBPNeQ-_"
   },
   "outputs": [],
   "source": [
    "from sklearn.model_selection import train_test_split\n",
    "\n",
    "# Splitting the data into train and test sets\n",
    "X_train, X_test, y_train, y_test = train_test_split(X, Y, test_size=0.3, random_state=123)"
   ]
  },
  {
   "cell_type": "markdown",
   "metadata": {
    "colab_type": "text",
    "id": "WUDWDskEfUux"
   },
   "source": [
    "**Undersampling Method.**\n",
    "\n",
    "\n",
    "\n",
    "\n"
   ]
  },
  {
   "cell_type": "code",
   "execution_count": null,
   "metadata": {
    "colab": {
     "base_uri": "https://localhost:8080/",
     "height": 224
    },
    "colab_type": "code",
    "id": "-Q_AHv77lTwk",
    "outputId": "77ecc1b8-a33e-4837-ef29-06810b17d6b1"
   },
   "outputs": [],
   "source": [
    "# let us first join the train_x and train_y for ease of operation\n",
    "\n",
    "trainData = pd.concat([X_train,y_train],axis=1)\n",
    "trainData.head()"
   ]
  },
  {
   "cell_type": "code",
   "execution_count": null,
   "metadata": {
    "colab": {
     "base_uri": "https://localhost:8080/",
     "height": 34
    },
    "colab_type": "code",
    "id": "P_h-_8IpQXty",
    "outputId": "306dc15e-282a-42de-a2e2-6629fe28f4dc"
   },
   "outputs": [],
   "source": [
    "# Finding the indexes of the sample data set where the churn  is 'yes'\n",
    "ind = trainData[trainData['churn']=='Yes'].index\n",
    "print(len(ind))"
   ]
  },
  {
   "cell_type": "code",
   "execution_count": null,
   "metadata": {
    "colab": {
     "base_uri": "https://localhost:8080/",
     "height": 34
    },
    "colab_type": "code",
    "id": "n9UBl--lQdRO",
    "outputId": "421fa672-5841-45d8-dd44-e94cce68bb3c"
   },
   "outputs": [],
   "source": [
    "# Seperate the minority classes\n",
    "minData = trainData.loc[ind]\n",
    "print(minData.shape)"
   ]
  },
  {
   "cell_type": "code",
   "execution_count": null,
   "metadata": {
    "colab": {
     "base_uri": "https://localhost:8080/",
     "height": 34
    },
    "colab_type": "code",
    "id": "vYaAAk4vQmZ6",
    "outputId": "5da6809b-d2d7-4333-be55-bacd823c9734"
   },
   "outputs": [],
   "source": [
    "# Finding indexes of majority class\n",
    "ind1 = trainData[trainData['churn']=='No'].index\n",
    "print(len(ind1))"
   ]
  },
  {
   "cell_type": "code",
   "execution_count": null,
   "metadata": {
    "colab": {
     "base_uri": "https://localhost:8080/",
     "height": 241
    },
    "colab_type": "code",
    "id": "ykfsvEdgfTtt",
    "outputId": "ee564e0f-2a4a-41fe-e8d5-07e2c17baf32"
   },
   "outputs": [],
   "source": [
    "# Seperating the majority class\n",
    "majData = trainData.loc[ind1]\n",
    "print(majData.shape)\n",
    "majData.head()"
   ]
  },
  {
   "cell_type": "code",
   "execution_count": null,
   "metadata": {
    "colab": {
     "base_uri": "https://localhost:8080/",
     "height": 241
    },
    "colab_type": "code",
    "id": "f2APbvt3ovEP",
    "outputId": "136f242a-8e64-46fa-f71c-bc856b29dd50"
   },
   "outputs": [],
   "source": [
    "# Take a random sample equal to length of the minority class to make the data set balanced\n",
    "\n",
    "majSample = majData.sample(n=len(ind),random_state = 123)\n",
    "print(majSample.shape)\n",
    "majSample.head()\n",
    "\n"
   ]
  },
  {
   "cell_type": "code",
   "execution_count": null,
   "metadata": {
    "colab": {
     "base_uri": "https://localhost:8080/",
     "height": 34
    },
    "colab_type": "code",
    "id": "MA2xgYOyRPGT",
    "outputId": "d6dee043-86b4-4431-a74f-1ae793615b6b"
   },
   "outputs": [],
   "source": [
    "# Concatenating both data sets\n",
    "\n",
    "balData = pd.concat([minData,majSample],axis = 0)\n",
    "print('balanced data set shape',balData.shape)"
   ]
  },
  {
   "cell_type": "code",
   "execution_count": null,
   "metadata": {
    "colab": {},
    "colab_type": "code",
    "id": "kPgQS0ZEp8qV"
   },
   "outputs": [],
   "source": [
    "# Shuffling the data set\n",
    "\n",
    "from sklearn.utils import shuffle\n",
    "\n",
    "balData = shuffle(balData)\n"
   ]
  },
  {
   "cell_type": "code",
   "execution_count": null,
   "metadata": {
    "colab": {
     "base_uri": "https://localhost:8080/",
     "height": 34
    },
    "colab_type": "code",
    "id": "tgvoKinpRmg1",
    "outputId": "666b5e10-a567-40f3-e279-165353776635"
   },
   "outputs": [],
   "source": [
    "# Making the new X_train and y_train\n",
    "\n",
    "X_trainNew = balData.iloc[:,0:19]\n",
    "X_trainNew.shape"
   ]
  },
  {
   "cell_type": "code",
   "execution_count": null,
   "metadata": {
    "colab": {
     "base_uri": "https://localhost:8080/",
     "height": 34
    },
    "colab_type": "code",
    "id": "oKqn7nO8pDVX",
    "outputId": "1f5258aa-cc6e-4969-d2cf-9ade980cd1d9"
   },
   "outputs": [],
   "source": [
    "# Making the new y_train\n",
    "y_trainNew = balData['churn']\n",
    "y_trainNew.shape"
   ]
  },
  {
   "cell_type": "code",
   "execution_count": null,
   "metadata": {
    "colab": {
     "base_uri": "https://localhost:8080/",
     "height": 156
    },
    "colab_type": "code",
    "id": "WTmAGsxSerD7",
    "outputId": "a32e3d80-5612-4807-e0c2-dca461bf3242"
   },
   "outputs": [],
   "source": [
    "from sklearn.linear_model import LogisticRegression\n",
    "# Defining the LogisticRegression function for Undersampling\n",
    "churnModel1 = LogisticRegression()\n",
    "churnModel1.fit(X_trainNew, y_trainNew)"
   ]
  },
  {
   "cell_type": "markdown",
   "metadata": {
    "colab_type": "text",
    "id": "tVageK142kfy"
   },
   "source": [
    "**SMOTE**\n",
    "\n"
   ]
  },
  {
   "cell_type": "code",
   "execution_count": null,
   "metadata": {
    "colab": {},
    "colab_type": "code",
    "id": "0S4ENukMSFcU"
   },
   "outputs": [],
   "source": [
    "import smote_variants as sv\n",
    "import numpy as np\n",
    "\n",
    "# Instantiating the SMOTE class\n",
    "oversampler= sv.SMOTE()"
   ]
  },
  {
   "cell_type": "code",
   "execution_count": null,
   "metadata": {
    "colab": {
     "base_uri": "https://localhost:8080/",
     "height": 54
    },
    "colab_type": "code",
    "id": "dFVuB-2K83QE",
    "outputId": "f0b86051-dfa7-4f13-c5b0-4f644553cd8c"
   },
   "outputs": [],
   "source": [
    "# Creating new training set\n",
    "\n",
    "X_train_smote, y_train_smote = oversampler.sample(np.array(X_train), np.array(y_train))\n"
   ]
  },
  {
   "cell_type": "code",
   "execution_count": null,
   "metadata": {
    "colab": {
     "base_uri": "https://localhost:8080/",
     "height": 156
    },
    "colab_type": "code",
    "id": "jX8q7PLjftrg",
    "outputId": "ae88a4f9-6683-4d90-bac1-ec7178ba6f45"
   },
   "outputs": [],
   "source": [
    "# Training the model with Logistic regression model\n",
    "\n",
    "# Defining the LogisticRegression function\n",
    "\n",
    "churnModel2 = LogisticRegression()\n",
    "\n",
    "churnModel2.fit(X_train_smote, y_train_smote)"
   ]
  },
  {
   "cell_type": "markdown",
   "metadata": {
    "colab_type": "text",
    "id": "XCpFjq2R_72o"
   },
   "source": [
    "**MSMOTE**\n",
    "\n"
   ]
  },
  {
   "cell_type": "code",
   "execution_count": null,
   "metadata": {
    "colab": {},
    "colab_type": "code",
    "id": "bdGFGdXXSdm6"
   },
   "outputs": [],
   "source": [
    "import smote_variants as sv\n",
    "import numpy as np\n",
    "# Instantiating the MSMOTE class\n",
    "oversampler= sv.MSMOTE()"
   ]
  },
  {
   "cell_type": "code",
   "execution_count": null,
   "metadata": {
    "colab": {
     "base_uri": "https://localhost:8080/",
     "height": 54
    },
    "colab_type": "code",
    "id": "xOr_xeTnsXlD",
    "outputId": "90d51be4-78be-4a89-c2bb-868c51cd3df0"
   },
   "outputs": [],
   "source": [
    "# Creating new training sets\n",
    "X_train_msmote, y_train_msmote = oversampler.sample(np.array(X_train), np.array(y_train))"
   ]
  },
  {
   "cell_type": "code",
   "execution_count": null,
   "metadata": {
    "colab": {
     "base_uri": "https://localhost:8080/",
     "height": 156
    },
    "colab_type": "code",
    "id": "DBN6YWIUgVED",
    "outputId": "35967b16-a6a1-41c5-b73b-46e5551949b1"
   },
   "outputs": [],
   "source": [
    "# Fitting model\n",
    "\n",
    "# Training the model with Logistic regression model\n",
    "\n",
    "# Defining the LogisticRegression function\n",
    "churnModel3 = LogisticRegression()\n",
    "churnModel3.fit(X_train_msmote, y_train_msmote)"
   ]
  },
  {
   "cell_type": "markdown",
   "metadata": {
    "colab_type": "text",
    "id": "jl-ug1Opgy_Z"
   },
   "source": [
    "**Predictions with all three models**\n",
    "\n",
    "Let us create separate predictions with each model"
   ]
  },
  {
   "cell_type": "code",
   "execution_count": null,
   "metadata": {
    "colab": {},
    "colab_type": "code",
    "id": "njWUrptHgxmb"
   },
   "outputs": [],
   "source": [
    "# Predicting using Under sampler\n",
    "pred_us = churnModel1.predict(X_test)\n",
    "\n",
    "# Predicting using SMOTE\n",
    "pred_smote = churnModel2.predict(X_test)\n",
    "\n",
    "# Predicting using MSMOTE\n",
    "pred_msmote = churnModel3.predict(X_test)\n"
   ]
  },
  {
   "cell_type": "code",
   "execution_count": null,
   "metadata": {
    "colab": {
     "base_uri": "https://localhost:8080/",
     "height": 68
    },
    "colab_type": "code",
    "id": "41cg5mPsijNh",
    "outputId": "05393f4d-ca2b-4830-a167-d24cd97e51d8"
   },
   "outputs": [],
   "source": [
    "# Printing accuracy of each model\n",
    "\n",
    "print('Accuracy of Logistic regression model prediction on test set for Random Undersampled data set: {:.2f}'.format(churnModel1.score(X_test, y_test)))\n",
    "\n",
    "print('Accuracy of Logistic regression model prediction on test set for SMOTE data set: {:.2f}'.format(churnModel2.score(X_test, y_test)))\n",
    "\n",
    "print('Accuracy of Logistic regression model prediction on test set for MSMOTE data set: {:.2f}'.format(churnModel3.score(X_test, y_test)))"
   ]
  },
  {
   "cell_type": "code",
   "execution_count": null,
   "metadata": {
    "colab": {},
    "colab_type": "code",
    "id": "vpk8snnajLMD"
   },
   "outputs": [],
   "source": [
    "# Confusion Matrix & Classification reports for the model\n",
    "from sklearn.metrics import confusion_matrix\n",
    "from sklearn.metrics import classification_report"
   ]
  },
  {
   "cell_type": "code",
   "execution_count": null,
   "metadata": {
    "colab": {
     "base_uri": "https://localhost:8080/",
     "height": 204
    },
    "colab_type": "code",
    "id": "c-_FD6bGmu4S",
    "outputId": "07acbc02-7ffe-4738-ae8d-3f8403097b2b"
   },
   "outputs": [],
   "source": [
    "# Metrics for Random undersample data set\n",
    "print(confusion_matrix(y_test, pred_us))\n",
    "\n",
    "print(classification_report(y_test, pred_us))"
   ]
  },
  {
   "cell_type": "code",
   "execution_count": null,
   "metadata": {
    "colab": {
     "base_uri": "https://localhost:8080/",
     "height": 204
    },
    "colab_type": "code",
    "id": "cTvkrWSzjsTN",
    "outputId": "f6d67ee7-6b4e-4004-a6da-39ae3db6924d"
   },
   "outputs": [],
   "source": [
    "# Metrics for SMOTE data set\n",
    "print(confusion_matrix(y_test, pred_smote))\n",
    "\n",
    "print(classification_report(y_test, pred_smote))"
   ]
  },
  {
   "cell_type": "code",
   "execution_count": null,
   "metadata": {
    "colab": {
     "base_uri": "https://localhost:8080/",
     "height": 204
    },
    "colab_type": "code",
    "id": "WvBh_sxYj5er",
    "outputId": "41cba64b-3d2c-40a8-c3d5-c260ccc30737"
   },
   "outputs": [],
   "source": [
    "# Metrics for MSMOTE data set\n",
    "print(confusion_matrix(y_test, pred_msmote))\n",
    "\n",
    "print(classification_report(y_test, pred_msmote))"
   ]
  }
 ],
 "metadata": {
  "colab": {
   "collapsed_sections": [],
   "name": "Activity 13.01: Comparison of all methods_v2.0",
   "provenance": []
  },
  "kernelspec": {
   "display_name": "Python 3",
   "language": "python",
   "name": "python3"
  },
  "language_info": {
   "codemirror_mode": {
    "name": "ipython",
    "version": 3
   },
   "file_extension": ".py",
   "mimetype": "text/x-python",
   "name": "python",
   "nbconvert_exporter": "python",
   "pygments_lexer": "ipython3",
   "version": "3.8.6"
  }
 },
 "nbformat": 4,
 "nbformat_minor": 1
}
