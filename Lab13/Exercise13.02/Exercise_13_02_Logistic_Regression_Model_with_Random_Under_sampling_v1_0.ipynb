{
 "cells": [
  {
   "cell_type": "code",
   "execution_count": null,
   "metadata": {
    "colab": {},
    "colab_type": "code",
    "id": "h6UINJEPtGQJ"
   },
   "outputs": [],
   "source": [
    "# Loading the necessary library files\n",
    "import pandas as pd\n",
    "\n",
    "import warnings\n",
    "warnings.filterwarnings(\"ignore\")"
   ]
  },
  {
   "cell_type": "code",
   "execution_count": null,
   "metadata": {
    "colab": {
     "base_uri": "https://localhost:8080/",
     "height": 224
    },
    "colab_type": "code",
    "id": "B4bxRZg_tqnp",
    "outputId": "29d035c3-a272-4a54-a352-22706e1baff4"
   },
   "outputs": [],
   "source": [
    "# Loading data from the drive\n",
    "\n",
    "# Please change the filename as per the location where the file is stored\n",
    "filename = '../Dataset/bank-full.csv'\n",
    "# Loading the data using pandas\n",
    "\n",
    "bankData = pd.read_csv(filename,sep=\";\")\n",
    "bankData.head()"
   ]
  },
  {
   "cell_type": "code",
   "execution_count": null,
   "metadata": {
    "colab": {},
    "colab_type": "code",
    "id": "Isxz-xjM1-i0"
   },
   "outputs": [],
   "source": [
    "from sklearn.preprocessing import RobustScaler\n",
    "\n",
    "rob_scaler = RobustScaler()"
   ]
  },
  {
   "cell_type": "code",
   "execution_count": null,
   "metadata": {
    "colab": {},
    "colab_type": "code",
    "id": "2veDoJTA2JJv"
   },
   "outputs": [],
   "source": [
    "# Converting each of the columns to scaled version\n",
    "\n",
    "bankData['ageScaled'] = rob_scaler.fit_transform(bankData['age'].values.reshape(-1,1))\n",
    "bankData['balScaled'] = rob_scaler.fit_transform(bankData['balance'].values.reshape(-1,1))\n",
    "bankData['durScaled'] = rob_scaler.fit_transform(bankData['duration'].values.reshape(-1,1))"
   ]
  },
  {
   "cell_type": "code",
   "execution_count": null,
   "metadata": {
    "colab": {},
    "colab_type": "code",
    "id": "nkw6j0Bq2Yaa"
   },
   "outputs": [],
   "source": [
    "# Dropping the original columns\n",
    "\n",
    "bankData.drop(['age','balance','duration'], axis=1, inplace=True)"
   ]
  },
  {
   "cell_type": "code",
   "execution_count": null,
   "metadata": {
    "colab": {},
    "colab_type": "code",
    "id": "8glxMnxxN8NB"
   },
   "outputs": [],
   "source": [
    "# Converting all the categorical variables to dummy variables\n",
    "bankCat = pd.get_dummies(bankData[['job','marital','education','default','housing','loan','contact','month','poutcome']])"
   ]
  },
  {
   "cell_type": "code",
   "execution_count": null,
   "metadata": {
    "colab": {
     "base_uri": "https://localhost:8080/",
     "height": 34
    },
    "colab_type": "code",
    "id": "Ge2LlC_1ePzX",
    "outputId": "b7d6846c-02dc-46da-d173-65990f814f66"
   },
   "outputs": [],
   "source": [
    "# Seperating the numerical data\n",
    "bankNum = bankData[['ageScaled','balScaled','day','durScaled','campaign','pdays','previous']]\n",
    "bankNum.shape"
   ]
  },
  {
   "cell_type": "code",
   "execution_count": null,
   "metadata": {
    "colab": {
     "base_uri": "https://localhost:8080/",
     "height": 275
    },
    "colab_type": "code",
    "id": "EsT4u_jDQ7Sv",
    "outputId": "d4cdfbfc-47b6-4676-f6e1-8b5630d0d113"
   },
   "outputs": [],
   "source": [
    "# Merging with the original data frame\n",
    "# Preparing the X variables\n",
    "X = pd.concat([bankCat, bankNum], axis=1)\n",
    "print(X.shape)\n",
    "# Preparing the Y variable\n",
    "Y = bankData['y']\n",
    "print(Y.shape)\n",
    "X.head()"
   ]
  },
  {
   "cell_type": "code",
   "execution_count": null,
   "metadata": {
    "colab": {},
    "colab_type": "code",
    "id": "Rm9HxCWj3xtg"
   },
   "outputs": [],
   "source": [
    "from sklearn.model_selection import train_test_split\n",
    "# Splitting the data into train and test sets\n",
    "X_train, X_test, y_train, y_test = train_test_split(X, Y, test_size=0.3, random_state=123)"
   ]
  },
  {
   "cell_type": "code",
   "execution_count": null,
   "metadata": {
    "colab": {
     "base_uri": "https://localhost:8080/",
     "height": 241
    },
    "colab_type": "code",
    "id": "-Q_AHv77lTwk",
    "outputId": "fda4edbf-c989-4607-865b-988a16a060d3"
   },
   "outputs": [],
   "source": [
    "# Let us first join the train_x and train_y for ease of operation\n",
    "\n",
    "trainData = pd.concat([X_train,y_train],axis=1)\n",
    "trainData.head()"
   ]
  },
  {
   "cell_type": "code",
   "execution_count": null,
   "metadata": {
    "colab": {
     "base_uri": "https://localhost:8080/",
     "height": 34
    },
    "colab_type": "code",
    "id": "vl0xi_rQP-fE",
    "outputId": "a14a3fbb-dd9b-421d-d62e-129df8ca546a"
   },
   "outputs": [],
   "source": [
    "# Finding the indexes of the sample data set where the propensity is 'yes'\n",
    "ind = trainData[trainData['y']=='yes'].index\n",
    "print(len(ind))"
   ]
  },
  {
   "cell_type": "code",
   "execution_count": null,
   "metadata": {
    "colab": {
     "base_uri": "https://localhost:8080/",
     "height": 34
    },
    "colab_type": "code",
    "id": "J_9Qw19JQFWM",
    "outputId": "a774b1d1-f079-49d2-9ee6-43aa35ad04f0"
   },
   "outputs": [],
   "source": [
    "# Seperate the minority classes\n",
    "minData = trainData.loc[ind]\n",
    "print(minData.shape)"
   ]
  },
  {
   "cell_type": "code",
   "execution_count": null,
   "metadata": {
    "colab": {
     "base_uri": "https://localhost:8080/",
     "height": 34
    },
    "colab_type": "code",
    "id": "CMP6sZazQRbV",
    "outputId": "e3978806-091b-4303-ce24-04de0fb03443"
   },
   "outputs": [],
   "source": [
    "# Finding indexes of majority class\n",
    "ind1 = trainData[trainData['y']=='no'].index\n",
    "print(len(ind1))"
   ]
  },
  {
   "cell_type": "code",
   "execution_count": null,
   "metadata": {
    "colab": {
     "base_uri": "https://localhost:8080/",
     "height": 258
    },
    "colab_type": "code",
    "id": "ykfsvEdgfTtt",
    "outputId": "337e10d6-a575-4345-85b4-93e7d20eaae5"
   },
   "outputs": [],
   "source": [
    "# Seperating the majority class\n",
    "majData = trainData.loc[ind1]\n",
    "print(majData.shape)\n",
    "majData.head()"
   ]
  },
  {
   "cell_type": "code",
   "execution_count": null,
   "metadata": {
    "colab": {},
    "colab_type": "code",
    "id": "O7Cur1EdQy-v"
   },
   "outputs": [],
   "source": [
    "# Take a random sample equal to length of the minority class to make the data set balanced\n",
    "\n",
    "majSample = majData.sample(n=len(ind),random_state = 123)"
   ]
  },
  {
   "cell_type": "code",
   "execution_count": null,
   "metadata": {
    "colab": {
     "base_uri": "https://localhost:8080/",
     "height": 258
    },
    "colab_type": "code",
    "id": "f2APbvt3ovEP",
    "outputId": "0df062d3-518a-4c1c-caf1-c6951d0dfb18"
   },
   "outputs": [],
   "source": [
    "\n",
    "print(majSample.shape)\n",
    "majSample.head()\n",
    "\n"
   ]
  },
  {
   "cell_type": "code",
   "execution_count": null,
   "metadata": {
    "colab": {
     "base_uri": "https://localhost:8080/",
     "height": 34
    },
    "colab_type": "code",
    "id": "gkoFVKwCRFha",
    "outputId": "23d8789c-da74-433e-806a-3b188deef0ef"
   },
   "outputs": [],
   "source": [
    "# Concatinating both data sets and then shuffling the data set\n",
    "\n",
    "balData = pd.concat([minData,majSample],axis = 0)\n",
    "print('balanced data set shape',balData.shape)"
   ]
  },
  {
   "cell_type": "code",
   "execution_count": null,
   "metadata": {
    "colab": {
     "base_uri": "https://localhost:8080/",
     "height": 241
    },
    "colab_type": "code",
    "id": "kPgQS0ZEp8qV",
    "outputId": "240a279b-4932-4418-e62b-9fe602b61625"
   },
   "outputs": [],
   "source": [
    "# Shuffling the data set\n",
    "\n",
    "from sklearn.utils import shuffle\n",
    "\n",
    "balData = shuffle(balData)\n",
    "balData.head()"
   ]
  },
  {
   "cell_type": "code",
   "execution_count": null,
   "metadata": {
    "colab": {
     "base_uri": "https://localhost:8080/",
     "height": 255
    },
    "colab_type": "code",
    "id": "oKqn7nO8pDVX",
    "outputId": "a7c59e22-4689-4773-e8ef-288d66b3ca31"
   },
   "outputs": [],
   "source": [
    "# Making the new X_train and y_train\n",
    "\n",
    "X_trainNew = balData.iloc[:,0:51]\n",
    "print(X_trainNew.head())\n",
    "\n",
    "y_trainNew = balData['y']\n",
    "print(y_trainNew.head())"
   ]
  },
  {
   "cell_type": "code",
   "execution_count": null,
   "metadata": {
    "colab": {
     "base_uri": "https://localhost:8080/",
     "height": 156
    },
    "colab_type": "code",
    "id": "gS0EgBBCRy9m",
    "outputId": "f4487a65-d2af-4ba9-cc4f-19f52c6d7037"
   },
   "outputs": [],
   "source": [
    "from sklearn.linear_model import LogisticRegression\n",
    "# Defining the LogisticRegression function\n",
    "bankModel1 = LogisticRegression()\n",
    "bankModel1.fit(X_trainNew, y_trainNew)"
   ]
  },
  {
   "cell_type": "code",
   "execution_count": null,
   "metadata": {
    "colab": {
     "base_uri": "https://localhost:8080/",
     "height": 34
    },
    "colab_type": "code",
    "id": "9nXONaFanHR4",
    "outputId": "2cb07a84-a850-4efa-ae23-ec240cb341db"
   },
   "outputs": [],
   "source": [
    "# Predicting on the test\n",
    "pred = bankModel1.predict(X_test)\n",
    "print('Accuracy of Logistic regression model prediction on test set for balanced data set: {:.2f}'.format(bankModel1.score(X_test, y_test)))\n",
    "\n"
   ]
  },
  {
   "cell_type": "code",
   "execution_count": null,
   "metadata": {
    "colab": {
     "base_uri": "https://localhost:8080/",
     "height": 204
    },
    "colab_type": "code",
    "id": "xCidAiJbxjuI",
    "outputId": "4dd684fc-ad0e-463b-c0eb-3779e73db213"
   },
   "outputs": [],
   "source": [
    "# Confusion Matrix for the model\n",
    "from sklearn.metrics import confusion_matrix\n",
    "confusionMatrix = confusion_matrix(y_test, pred)\n",
    "print(confusionMatrix)\n",
    "\n",
    "from sklearn.metrics import classification_report\n",
    "print(classification_report(y_test, pred))"
   ]
  }
 ],
 "metadata": {
  "colab": {
   "collapsed_sections": [],
   "name": "Exercise 13. 02 - Logistic Regression Model with Random Under sampling_v1.0",
   "provenance": []
  },
  "kernelspec": {
   "display_name": "Python 3",
   "language": "python",
   "name": "python3"
  },
  "language_info": {
   "codemirror_mode": {
    "name": "ipython",
    "version": 3
   },
   "file_extension": ".py",
   "mimetype": "text/x-python",
   "name": "python",
   "nbconvert_exporter": "python",
   "pygments_lexer": "ipython3",
   "version": "3.8.6"
  }
 },
 "nbformat": 4,
 "nbformat_minor": 4
}
