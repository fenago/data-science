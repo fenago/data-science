{
  "nbformat": 4,
  "nbformat_minor": 0,
  "metadata": {
    "colab": {
      "name": "Activity 17.01: Classification model after automated feature generation",
      "provenance": []
    },
    "kernelspec": {
      "name": "python3",
      "display_name": "Python 3"
    }
  },
  "cells": [
    {
      "cell_type": "markdown",
      "metadata": {
        "id": "LAQdBb9nixj-",
        "colab_type": "text"
      },
      "source": [
        "**Loading Data and creating benchmark model**"
      ]
    },
    {
      "cell_type": "code",
      "metadata": {
        "id": "An-m41d46gdU",
        "colab_type": "code",
        "colab": {}
      },
      "source": [
        "# Defining the path to the Github repository\n",
        "file_url = 'https://raw.githubusercontent.com/PacktWorkshops/The-Data-Science-Workshop/master/Chapter17/Datasets/adult.csv'"
      ],
      "execution_count": 0,
      "outputs": []
    },
    {
      "cell_type": "code",
      "metadata": {
        "id": "u5PwstrC6yO3",
        "colab_type": "code",
        "outputId": "5ca6ff2b-8d56-4ff6-dc37-d2189ebc88f1",
        "colab": {
          "base_uri": "https://localhost:8080/",
          "height": 306
        }
      },
      "source": [
        "# Loading data using pandas\n",
        "import pandas as pd\n",
        "adultData = pd.read_csv(file_url,sep=\",\",na_values = \" ?\")\n",
        "adultData.head()"
      ],
      "execution_count": 2,
      "outputs": [
        {
          "output_type": "execute_result",
          "data": {
            "text/html": [
              "<div>\n",
              "<style scoped>\n",
              "    .dataframe tbody tr th:only-of-type {\n",
              "        vertical-align: middle;\n",
              "    }\n",
              "\n",
              "    .dataframe tbody tr th {\n",
              "        vertical-align: top;\n",
              "    }\n",
              "\n",
              "    .dataframe thead th {\n",
              "        text-align: right;\n",
              "    }\n",
              "</style>\n",
              "<table border=\"1\" class=\"dataframe\">\n",
              "  <thead>\n",
              "    <tr style=\"text-align: right;\">\n",
              "      <th></th>\n",
              "      <th>age</th>\n",
              "      <th>workclass</th>\n",
              "      <th>fnlwgt</th>\n",
              "      <th>education</th>\n",
              "      <th>education-num</th>\n",
              "      <th>marital-status</th>\n",
              "      <th>occupation</th>\n",
              "      <th>relationship</th>\n",
              "      <th>sex</th>\n",
              "      <th>capital-gain</th>\n",
              "      <th>capital-loss</th>\n",
              "      <th>hours</th>\n",
              "      <th>native</th>\n",
              "      <th>label</th>\n",
              "    </tr>\n",
              "  </thead>\n",
              "  <tbody>\n",
              "    <tr>\n",
              "      <th>0</th>\n",
              "      <td>39</td>\n",
              "      <td>State-gov</td>\n",
              "      <td>77516</td>\n",
              "      <td>Bachelors</td>\n",
              "      <td>13</td>\n",
              "      <td>Never-married</td>\n",
              "      <td>Adm-clerical</td>\n",
              "      <td>Not-in-family</td>\n",
              "      <td>Male</td>\n",
              "      <td>2174</td>\n",
              "      <td>0</td>\n",
              "      <td>40</td>\n",
              "      <td>United-States</td>\n",
              "      <td>0</td>\n",
              "    </tr>\n",
              "    <tr>\n",
              "      <th>1</th>\n",
              "      <td>50</td>\n",
              "      <td>Self-emp-not-inc</td>\n",
              "      <td>83311</td>\n",
              "      <td>Bachelors</td>\n",
              "      <td>13</td>\n",
              "      <td>Married-civ-spouse</td>\n",
              "      <td>Exec-managerial</td>\n",
              "      <td>Husband</td>\n",
              "      <td>Male</td>\n",
              "      <td>0</td>\n",
              "      <td>0</td>\n",
              "      <td>13</td>\n",
              "      <td>United-States</td>\n",
              "      <td>0</td>\n",
              "    </tr>\n",
              "    <tr>\n",
              "      <th>2</th>\n",
              "      <td>38</td>\n",
              "      <td>Private</td>\n",
              "      <td>215646</td>\n",
              "      <td>HS-grad</td>\n",
              "      <td>9</td>\n",
              "      <td>Divorced</td>\n",
              "      <td>Handlers-cleaners</td>\n",
              "      <td>Not-in-family</td>\n",
              "      <td>Male</td>\n",
              "      <td>0</td>\n",
              "      <td>0</td>\n",
              "      <td>40</td>\n",
              "      <td>United-States</td>\n",
              "      <td>0</td>\n",
              "    </tr>\n",
              "    <tr>\n",
              "      <th>3</th>\n",
              "      <td>53</td>\n",
              "      <td>Private</td>\n",
              "      <td>234721</td>\n",
              "      <td>11th</td>\n",
              "      <td>7</td>\n",
              "      <td>Married-civ-spouse</td>\n",
              "      <td>Handlers-cleaners</td>\n",
              "      <td>Husband</td>\n",
              "      <td>Male</td>\n",
              "      <td>0</td>\n",
              "      <td>0</td>\n",
              "      <td>40</td>\n",
              "      <td>United-States</td>\n",
              "      <td>0</td>\n",
              "    </tr>\n",
              "    <tr>\n",
              "      <th>4</th>\n",
              "      <td>28</td>\n",
              "      <td>Private</td>\n",
              "      <td>338409</td>\n",
              "      <td>Bachelors</td>\n",
              "      <td>13</td>\n",
              "      <td>Married-civ-spouse</td>\n",
              "      <td>Prof-specialty</td>\n",
              "      <td>Wife</td>\n",
              "      <td>Female</td>\n",
              "      <td>0</td>\n",
              "      <td>0</td>\n",
              "      <td>40</td>\n",
              "      <td>Cuba</td>\n",
              "      <td>0</td>\n",
              "    </tr>\n",
              "  </tbody>\n",
              "</table>\n",
              "</div>"
            ],
            "text/plain": [
              "   age          workclass  fnlwgt  ... hours          native label\n",
              "0   39          State-gov   77516  ...    40   United-States     0\n",
              "1   50   Self-emp-not-inc   83311  ...    13   United-States     0\n",
              "2   38            Private  215646  ...    40   United-States     0\n",
              "3   53            Private  234721  ...    40   United-States     0\n",
              "4   28            Private  338409  ...    40            Cuba     0\n",
              "\n",
              "[5 rows x 14 columns]"
            ]
          },
          "metadata": {
            "tags": []
          },
          "execution_count": 2
        }
      ]
    },
    {
      "cell_type": "code",
      "metadata": {
        "id": "czRVXJjqU5zM",
        "colab_type": "code",
        "outputId": "cbe11a64-3a96-43ba-d831-b81c8da2aea9",
        "colab": {
          "base_uri": "https://localhost:8080/",
          "height": 34
        }
      },
      "source": [
        "# Dropping the na values\n",
        "adultData = adultData.dropna(axis = 0, how = 'any')\n",
        "adultData.shape"
      ],
      "execution_count": 0,
      "outputs": [
        {
          "output_type": "execute_result",
          "data": {
            "text/plain": [
              "(30162, 14)"
            ]
          },
          "metadata": {
            "tags": []
          },
          "execution_count": 3
        }
      ]
    },
    {
      "cell_type": "code",
      "metadata": {
        "id": "R3p8ogdwfKcK",
        "colab_type": "code",
        "colab": {}
      },
      "source": [
        "# Removing the target variable\n",
        "Y = adultData.pop('label')"
      ],
      "execution_count": 0,
      "outputs": []
    },
    {
      "cell_type": "code",
      "metadata": {
        "id": "vyKD7XdowD1X",
        "colab_type": "code",
        "colab": {}
      },
      "source": [
        "from sklearn.model_selection import train_test_split\n",
        "\n",
        "# Splitting the data into train and test sets\n",
        "X_train, X_test, y_train, y_test = train_test_split(adultData, Y, test_size=0.3, random_state=123)"
      ],
      "execution_count": 0,
      "outputs": []
    },
    {
      "cell_type": "code",
      "metadata": {
        "id": "iIJH_OOhwDsg",
        "colab_type": "code",
        "colab": {}
      },
      "source": [
        "# Using pipeline to transform categorical variable and numeric variables\n",
        "from sklearn.pipeline import Pipeline\n",
        "from sklearn.preprocessing import StandardScaler, OneHotEncoder\n",
        "\n",
        "categorical_transformer = Pipeline(steps=[('onehot', OneHotEncoder(handle_unknown='ignore'))])\n",
        "\n",
        "numeric_transformer = Pipeline(steps=[('scaler', StandardScaler())])\n",
        "\n"
      ],
      "execution_count": 0,
      "outputs": []
    },
    {
      "cell_type": "code",
      "metadata": {
        "id": "nAjLOQdSxZhv",
        "colab_type": "code",
        "colab": {}
      },
      "source": [
        "# Defining data types for numeric and categorical features\n",
        "numeric_features = adultData.select_dtypes(include=['int64', 'float64']).columns\n",
        "categorical_features = adultData.select_dtypes(include=['object']).columns\n",
        "\n"
      ],
      "execution_count": 0,
      "outputs": []
    },
    {
      "cell_type": "code",
      "metadata": {
        "id": "E3Yqja--wDra",
        "colab_type": "code",
        "colab": {}
      },
      "source": [
        "# Defining preprocessor\n",
        "from sklearn.compose import ColumnTransformer\n",
        "preprocessor = ColumnTransformer(\n",
        "    transformers=[\n",
        "        ('num', numeric_transformer, numeric_features),\n",
        "        ('cat', categorical_transformer, categorical_features)])"
      ],
      "execution_count": 0,
      "outputs": []
    },
    {
      "cell_type": "code",
      "metadata": {
        "id": "unZgSKaXwDk_",
        "colab_type": "code",
        "colab": {}
      },
      "source": [
        "# Defining the estimator for processing and classification\n",
        "from sklearn.linear_model import LogisticRegression\n",
        "estimator = Pipeline(steps=[('preprocessor', preprocessor),                      \n",
        "                           ('classifier',LogisticRegression(random_state=123))])\n"
      ],
      "execution_count": 0,
      "outputs": []
    },
    {
      "cell_type": "code",
      "metadata": {
        "id": "sq0VVPEEwDjv",
        "colab_type": "code",
        "outputId": "3115bf66-221b-480f-ce01-471db22f0566",
        "colab": {
          "base_uri": "https://localhost:8080/",
          "height": 88
        }
      },
      "source": [
        "# Fit the estimator on the training set\n",
        "estimator.fit(X_train, y_train)  \n",
        "print(\"model score: %.2f\" % estimator.score(X_test, y_test)) "
      ],
      "execution_count": 0,
      "outputs": [
        {
          "output_type": "stream",
          "text": [
            "model score: 0.85\n"
          ],
          "name": "stdout"
        },
        {
          "output_type": "stream",
          "text": [
            "/usr/local/lib/python3.6/dist-packages/sklearn/linear_model/logistic.py:432: FutureWarning: Default solver will be changed to 'lbfgs' in 0.22. Specify a solver to silence this warning.\n",
            "  FutureWarning)\n"
          ],
          "name": "stderr"
        }
      ]
    },
    {
      "cell_type": "code",
      "metadata": {
        "id": "udpedpFmwDVl",
        "colab_type": "code",
        "colab": {}
      },
      "source": [
        "# Predict on the test set\n",
        "pred = estimator.predict(X_test)"
      ],
      "execution_count": 0,
      "outputs": []
    },
    {
      "cell_type": "code",
      "metadata": {
        "id": "_LimADp8wDEN",
        "colab_type": "code",
        "outputId": "7ba1f12c-e231-45be-c8cf-856f18fe8ac0",
        "colab": {
          "base_uri": "https://localhost:8080/",
          "height": 170
        }
      },
      "source": [
        "# Generating classification report\n",
        "from sklearn.metrics import classification_report\n",
        "\n",
        "print(classification_report(pred,y_test))"
      ],
      "execution_count": 0,
      "outputs": [
        {
          "output_type": "stream",
          "text": [
            "              precision    recall  f1-score   support\n",
            "\n",
            "           0       0.93      0.88      0.91      7189\n",
            "           1       0.62      0.75      0.68      1860\n",
            "\n",
            "    accuracy                           0.85      9049\n",
            "   macro avg       0.77      0.81      0.79      9049\n",
            "weighted avg       0.87      0.85      0.86      9049\n",
            "\n"
          ],
          "name": "stdout"
        }
      ]
    },
    {
      "cell_type": "markdown",
      "metadata": {
        "id": "Y9SWTwQfy3Qz",
        "colab_type": "text"
      },
      "source": [
        "**Establishing entities and relationship**"
      ]
    },
    {
      "cell_type": "code",
      "metadata": {
        "id": "G0bLuG6uj-Kj",
        "colab_type": "code",
        "colab": {}
      },
      "source": [
        "# Creating the Ids for parent entity\n",
        "adultData['parentID'] = adultData.index.values\n",
        "\n",
        "adultData['parentID'] = 'record' + adultData['parentID'].astype(str)"
      ],
      "execution_count": 0,
      "outputs": []
    },
    {
      "cell_type": "code",
      "metadata": {
        "id": "wjGhzeR5S-Un",
        "colab_type": "code",
        "colab": {}
      },
      "source": [
        "# Creating unique Ids for entity workclass\n",
        "adultData.loc[adultData.workclass == ' Federal-gov','workId']= 1\n",
        "adultData.loc[adultData.workclass == ' Local-gov','workId']= 2\n",
        "adultData.loc[adultData.workclass == ' Private','workId']= 3\n",
        "adultData.loc[adultData.workclass == ' Self-emp-inc','workId']= 4\n",
        "adultData.loc[adultData.workclass == ' Self-emp-not-inc','workId']= 5\n",
        "adultData.loc[adultData.workclass == ' State-gov','workId']= 6\n",
        "adultData.loc[adultData.workclass == ' Without-pay','workId']= 7"
      ],
      "execution_count": 0,
      "outputs": []
    },
    {
      "cell_type": "code",
      "metadata": {
        "id": "y563krc4Wlof",
        "colab_type": "code",
        "colab": {}
      },
      "source": [
        "# Creating unique IDs for occupation\n",
        "adultData.loc[adultData.occupation == ' Adm-clerical','occuId']= 1\n",
        "adultData.loc[adultData.occupation == ' Armed-Forces','occuId']= 2\n",
        "adultData.loc[adultData.occupation == ' Craft-repair','occuId']= 3\n",
        "adultData.loc[adultData.occupation == ' Exec-managerial','occuId']= 4\n",
        "adultData.loc[adultData.occupation == ' Farming-fishing','occuId']= 5\n",
        "adultData.loc[adultData.occupation == ' Handlers-cleaners','occuId']= 6\n",
        "adultData.loc[adultData.occupation == ' Machine-op-inspct','occuId']= 7\n",
        "adultData.loc[adultData.occupation == ' Other-service','occuId']= 8\n",
        "adultData.loc[adultData.occupation == ' Priv-house-serv','occuId']= 9\n",
        "adultData.loc[adultData.occupation == ' Prof-specialty','occuId']= 10\n",
        "adultData.loc[adultData.occupation == ' Protective-serv','occuId']= 11\n",
        "adultData.loc[adultData.occupation == ' Sales','occuId']= 12\n",
        "adultData.loc[adultData.occupation == ' Tech-support','occuId']= 13\n",
        "adultData.loc[adultData.occupation == ' Transport-moving','occuId']= 14"
      ],
      "execution_count": 0,
      "outputs": []
    },
    {
      "cell_type": "code",
      "metadata": {
        "id": "SPBA0i47j1qa",
        "colab_type": "code",
        "colab": {}
      },
      "source": [
        "# Importing necessary libraries\n",
        "import featuretools as ft\n",
        "import numpy as np"
      ],
      "execution_count": 0,
      "outputs": []
    },
    {
      "cell_type": "code",
      "metadata": {
        "id": "i-x5WNvDkyjd",
        "colab_type": "code",
        "colab": {}
      },
      "source": [
        "# creating the entity set 'adultentities'\n",
        "adultentities = ft.EntitySet(id = 'Adult')"
      ],
      "execution_count": 0,
      "outputs": []
    },
    {
      "cell_type": "code",
      "metadata": {
        "id": "Pa8nAOj_lFG_",
        "colab_type": "code",
        "outputId": "76a2aa7e-cdff-46b4-aab0-65c25e50b47d",
        "colab": {
          "base_uri": "https://localhost:8080/",
          "height": 102
        }
      },
      "source": [
        "# Mapping a dataframe to the entityset to form the parent entity\n",
        "adultentities.entity_from_dataframe(entity_id = 'Parent Data', dataframe = adultData, index = 'parentID')"
      ],
      "execution_count": 0,
      "outputs": [
        {
          "output_type": "execute_result",
          "data": {
            "text/plain": [
              "Entityset: Adult\n",
              "  Entities:\n",
              "    Parent Data [Rows: 30162, Columns: 16]\n",
              "  Relationships:\n",
              "    No relationships"
            ]
          },
          "metadata": {
            "tags": []
          },
          "execution_count": 18
        }
      ]
    },
    {
      "cell_type": "code",
      "metadata": {
        "id": "xJsgsrN1l4gh",
        "colab_type": "code",
        "outputId": "7bdd39a2-81a8-462d-83da-55bf9f44e04c",
        "colab": {
          "base_uri": "https://localhost:8080/",
          "height": 187
        }
      },
      "source": [
        "# Mapping to parent entity and setting the relationship\n",
        "adultentities.normalize_entity(base_entity_id='Parent Data', new_entity_id='education', index = 'education-num', \n",
        "additional_variables = ['education'])\n",
        "\n",
        "adultentities.normalize_entity(base_entity_id='Parent Data', new_entity_id='Workclass', index = 'workId', \n",
        "additional_variables = ['workclass'])\n",
        "\n",
        "adultentities.normalize_entity(base_entity_id='Parent Data', new_entity_id='Occupation', index = 'occuId', \n",
        "additional_variables = ['occupation'])\n"
      ],
      "execution_count": 0,
      "outputs": [
        {
          "output_type": "execute_result",
          "data": {
            "text/plain": [
              "Entityset: Adult\n",
              "  Entities:\n",
              "    Parent Data [Rows: 30162, Columns: 13]\n",
              "    education [Rows: 16, Columns: 2]\n",
              "    Workclass [Rows: 7, Columns: 2]\n",
              "    Occupation [Rows: 14, Columns: 2]\n",
              "  Relationships:\n",
              "    Parent Data.education-num -> education.education-num\n",
              "    Parent Data.workId -> Workclass.workId\n",
              "    Parent Data.occuId -> Occupation.occuId"
            ]
          },
          "metadata": {
            "tags": []
          },
          "execution_count": 19
        }
      ]
    },
    {
      "cell_type": "markdown",
      "metadata": {
        "id": "EW86TseKi3kr",
        "colab_type": "text"
      },
      "source": [
        "**Feature Engineering**"
      ]
    },
    {
      "cell_type": "code",
      "metadata": {
        "id": "t5XfGri_r6Nd",
        "colab_type": "code",
        "colab": {}
      },
      "source": [
        "# Creating aggregation and transformation primitives\n",
        "aggPrimitives=[\n",
        "        'std', 'min', 'max', 'mean', \n",
        "         'last', 'count'\n",
        "        \n",
        "]\n",
        "tranPrimitives=[\n",
        "        'percentile', \n",
        "         'subtract', 'divide']"
      ],
      "execution_count": 0,
      "outputs": []
    },
    {
      "cell_type": "code",
      "metadata": {
        "id": "EUI6ExwAsliv",
        "colab_type": "code",
        "outputId": "81f1d7c1-d95a-424e-c951-74f0fce6e71b",
        "colab": {
          "base_uri": "https://localhost:8080/",
          "height": 51
        }
      },
      "source": [
        "# Defining the new set of features\n",
        "feature_set, feature_names = ft.dfs(entityset=adultentities, \n",
        "target_entity = 'Parent Data',\n",
        "agg_primitives=aggPrimitives,\n",
        "trans_primitives=tranPrimitives, \n",
        "max_depth = 2, \n",
        "verbose = 1, \n",
        "n_jobs = 1)"
      ],
      "execution_count": 0,
      "outputs": [
        {
          "output_type": "stream",
          "text": [
            "Built 1076 features\n",
            "Elapsed: 00:31 | Remaining: 00:00 | Progress: 100%|██████████| Calculated: 11/11 chunks\n"
          ],
          "name": "stdout"
        }
      ]
    },
    {
      "cell_type": "code",
      "metadata": {
        "id": "Qbepc1BX0jR6",
        "colab_type": "code",
        "colab": {}
      },
      "source": [
        "# Reindexing the feature_set\n",
        "feature_set = feature_set.reindex(index=adultData['parentID'])\n",
        "feature_set = feature_set.reset_index()"
      ],
      "execution_count": 0,
      "outputs": []
    },
    {
      "cell_type": "code",
      "metadata": {
        "id": "ysbe6Sz4tlSG",
        "colab_type": "code",
        "outputId": "3b816a3d-18e6-432e-833f-2728a019b8ec",
        "colab": {
          "base_uri": "https://localhost:8080/",
          "height": 34
        }
      },
      "source": [
        "# Displaying the feature set \n",
        "feature_set.shape"
      ],
      "execution_count": 0,
      "outputs": [
        {
          "output_type": "execute_result",
          "data": {
            "text/plain": [
              "(30162, 1077)"
            ]
          },
          "metadata": {
            "tags": []
          },
          "execution_count": 23
        }
      ]
    },
    {
      "cell_type": "markdown",
      "metadata": {
        "id": "gAbP-lin0PBc",
        "colab_type": "text"
      },
      "source": [
        "**Cleaning na values and infinity values**"
      ]
    },
    {
      "cell_type": "code",
      "metadata": {
        "id": "oPivNx2c1Cl0",
        "colab_type": "code",
        "colab": {}
      },
      "source": [
        "# Dropping all Ids\n",
        "X = feature_set[feature_set.columns[~feature_set.columns.str.contains(\n",
        "    'parentID|education-num|workId|occuId')]]\n"
      ],
      "execution_count": 0,
      "outputs": []
    },
    {
      "cell_type": "code",
      "metadata": {
        "id": "YdKpHnli0Nuw",
        "colab_type": "code",
        "colab": {}
      },
      "source": [
        "# Replacing all columns with infinity with nan\n",
        "X = X.replace([np.inf, -np.inf], np.nan)\n",
        "\n"
      ],
      "execution_count": 0,
      "outputs": []
    },
    {
      "cell_type": "code",
      "metadata": {
        "id": "Iohw3k3A0NUt",
        "colab_type": "code",
        "outputId": "023c08b0-1b6f-4b9b-f8fe-39eb29a9e7d8",
        "colab": {
          "base_uri": "https://localhost:8080/",
          "height": 34
        }
      },
      "source": [
        "# Dropping all columns with nan\n",
        "X = X.dropna(axis=1, how='any')\n",
        "X.shape"
      ],
      "execution_count": 0,
      "outputs": [
        {
          "output_type": "execute_result",
          "data": {
            "text/plain": [
              "(30162, 893)"
            ]
          },
          "metadata": {
            "tags": []
          },
          "execution_count": 26
        }
      ]
    },
    {
      "cell_type": "markdown",
      "metadata": {
        "id": "olsjNOmS28xB",
        "colab_type": "text"
      },
      "source": [
        "**Modelling phase**"
      ]
    },
    {
      "cell_type": "code",
      "metadata": {
        "id": "xiUAOlEG0M6q",
        "colab_type": "code",
        "colab": {}
      },
      "source": [
        "# Splitting train and test sets\n",
        "from sklearn.model_selection import train_test_split\n",
        "\n",
        "# Splitting the data into train and test sets\n",
        "X_train, X_test, y_train, y_test = train_test_split(X, Y, test_size=0.3, random_state=123)"
      ],
      "execution_count": 0,
      "outputs": []
    },
    {
      "cell_type": "code",
      "metadata": {
        "id": "b91XD0qK3J2n",
        "colab_type": "code",
        "colab": {}
      },
      "source": [
        "# Creating the preprocessing pipeline\n",
        "from sklearn.pipeline import Pipeline\n",
        "from sklearn.preprocessing import StandardScaler, OneHotEncoder\n",
        "\n",
        "categorical_transformer = Pipeline(steps=[('onehot', OneHotEncoder(handle_unknown='ignore'))])\n",
        "\n",
        "numeric_transformer = Pipeline(steps=[('scaler', StandardScaler())])\n",
        "\n",
        "numeric_features = X.select_dtypes(include=['int64', 'float64']).columns\n",
        "categorical_features = X.select_dtypes(include=['object']).columns\n",
        "\n",
        "from sklearn.compose import ColumnTransformer\n",
        "preprocessor = ColumnTransformer(\n",
        "    transformers=[\n",
        "        ('num', numeric_transformer, numeric_features),\n",
        "        ('cat', categorical_transformer, categorical_features)])"
      ],
      "execution_count": 0,
      "outputs": []
    },
    {
      "cell_type": "code",
      "metadata": {
        "id": "DLzG98T13Sq7",
        "colab_type": "code",
        "outputId": "990433ef-915a-43a6-9149-5c15ccb3ac0f",
        "colab": {
          "base_uri": "https://localhost:8080/",
          "height": 122
        }
      },
      "source": [
        "# Creating the estimator function and fitting the training set\n",
        "estimator = Pipeline(steps=[('preprocessor', preprocessor),                      \n",
        "                           ('classifier',LogisticRegression(random_state=123))])\n",
        "estimator.fit(X_train, y_train)  \n",
        "print(\"model score: %.2f\" % estimator.score(X_test, y_test)) "
      ],
      "execution_count": 0,
      "outputs": [
        {
          "output_type": "stream",
          "text": [
            "/usr/local/lib/python3.6/dist-packages/sklearn/linear_model/logistic.py:432: FutureWarning: Default solver will be changed to 'lbfgs' in 0.22. Specify a solver to silence this warning.\n",
            "  FutureWarning)\n"
          ],
          "name": "stderr"
        },
        {
          "output_type": "stream",
          "text": [
            "model score: 0.86\n"
          ],
          "name": "stdout"
        },
        {
          "output_type": "stream",
          "text": [
            "/usr/local/lib/python3.6/dist-packages/sklearn/svm/base.py:929: ConvergenceWarning: Liblinear failed to converge, increase the number of iterations.\n",
            "  \"the number of iterations.\", ConvergenceWarning)\n"
          ],
          "name": "stderr"
        }
      ]
    },
    {
      "cell_type": "code",
      "metadata": {
        "id": "6Fa_KNSv37hj",
        "colab_type": "code",
        "colab": {}
      },
      "source": [
        "# Predicting on the test set\n",
        "pred = estimator.predict(X_test)"
      ],
      "execution_count": 0,
      "outputs": []
    },
    {
      "cell_type": "code",
      "metadata": {
        "id": "_lWvNPMl4Eeb",
        "colab_type": "code",
        "outputId": "22bb03a1-da47-4780-9805-6443a0c9ab29",
        "colab": {
          "base_uri": "https://localhost:8080/",
          "height": 170
        }
      },
      "source": [
        "# Generating the classification report\n",
        "from sklearn.metrics import classification_report\n",
        "\n",
        "print(classification_report(pred,y_test))"
      ],
      "execution_count": 0,
      "outputs": [
        {
          "output_type": "stream",
          "text": [
            "              precision    recall  f1-score   support\n",
            "\n",
            "           0       0.93      0.89      0.91      7134\n",
            "           1       0.64      0.76      0.69      1915\n",
            "\n",
            "    accuracy                           0.86      9049\n",
            "   macro avg       0.79      0.82      0.80      9049\n",
            "weighted avg       0.87      0.86      0.86      9049\n",
            "\n"
          ],
          "name": "stdout"
        }
      ]
    }
  ]
}