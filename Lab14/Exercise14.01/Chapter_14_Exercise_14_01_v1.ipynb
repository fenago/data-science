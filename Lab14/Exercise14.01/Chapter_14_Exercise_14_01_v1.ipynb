{
 "cells": [
  {
   "cell_type": "code",
   "execution_count": null,
   "metadata": {
    "colab": {},
    "colab_type": "code",
    "id": "Jk3ISfGBdZkp"
   },
   "outputs": [],
   "source": [
    "import pandas as pd"
   ]
  },
  {
   "cell_type": "code",
   "execution_count": null,
   "metadata": {
    "colab": {},
    "colab_type": "code",
    "id": "WYHpfOPHd_iv"
   },
   "outputs": [],
   "source": [
    "# Defining file name of the git hub repository\n",
    "\n",
    "filename = 'https://raw.githubusercontent.com/PacktWorkshops/The-Data-Science-Workshop/master/Chapter14/Dataset/ad.data'\n"
   ]
  },
  {
   "cell_type": "code",
   "execution_count": null,
   "metadata": {
    "colab": {
     "base_uri": "https://localhost:8080/",
     "height": 287
    },
    "colab_type": "code",
    "id": "OZWwgo9keyVh",
    "outputId": "60fe963a-0de0-4de6-9ff4-f84e327a8086"
   },
   "outputs": [],
   "source": [
    "# Loading the data using pandas\n",
    "\n",
    "adData = pd.read_csv(filename,sep=\",\",header = None,error_bad_lines=False)\n",
    "adData.head()"
   ]
  },
  {
   "cell_type": "code",
   "execution_count": null,
   "metadata": {
    "colab": {
     "base_uri": "https://localhost:8080/",
     "height": 34
    },
    "colab_type": "code",
    "id": "UbzIb-Gyf8zz",
    "outputId": "eca6a15e-58b9-4840-8825-960915c05ea6"
   },
   "outputs": [],
   "source": [
    "# Printing the shape of the data\n",
    "print(adData.shape)"
   ]
  },
  {
   "cell_type": "code",
   "execution_count": null,
   "metadata": {
    "colab": {
     "base_uri": "https://localhost:8080/",
     "height": 346
    },
    "colab_type": "code",
    "id": "P-pjwzb-gyQX",
    "outputId": "6f8d6d72-765c-4bc0-a0fa-7bf664f2acc7"
   },
   "outputs": [],
   "source": [
    "#Summarizing the statistics of the numerical raw data\n",
    "adData.describe()\n"
   ]
  },
  {
   "cell_type": "code",
   "execution_count": null,
   "metadata": {
    "colab": {
     "base_uri": "https://localhost:8080/",
     "height": 51
    },
    "colab_type": "code",
    "id": "3o_f9AYRMyMw",
    "outputId": "d5b852b6-fac8-40ab-ed1d-33524ef2f7b8"
   },
   "outputs": [],
   "source": [
    "# Seperating the dependent and independent variables\n",
    "# Preparing the X variables\n",
    "X = adData.loc[:,0:1557]\n",
    "print(X.shape)\n",
    "# Preparing the Y variable\n",
    "Y = adData[1558]\n",
    "print(Y.shape)"
   ]
  },
  {
   "cell_type": "code",
   "execution_count": null,
   "metadata": {
    "colab": {
     "base_uri": "https://localhost:8080/",
     "height": 563
    },
    "colab_type": "code",
    "id": "pPqNcH9waSFQ",
    "outputId": "fa28c085-eda7-43dd-c266-a4b992b486f7"
   },
   "outputs": [],
   "source": [
    "# Printing the head of the independent variables\n",
    "X.head(15)"
   ]
  },
  {
   "cell_type": "code",
   "execution_count": null,
   "metadata": {
    "colab": {
     "base_uri": "https://localhost:8080/",
     "height": 221
    },
    "colab_type": "code",
    "id": "RIqcVXtnaR0u",
    "outputId": "fe63b18b-70b9-4b8a-8cf2-fd26c8f49978"
   },
   "outputs": [],
   "source": [
    "# Printing the data types\n",
    "print(X.dtypes)"
   ]
  },
  {
   "cell_type": "code",
   "execution_count": null,
   "metadata": {
    "colab": {
     "base_uri": "https://localhost:8080/",
     "height": 323
    },
    "colab_type": "code",
    "id": "tUFx8JNFaRlN",
    "outputId": "68907854-bc00-479b-c998-821c84580106"
   },
   "outputs": [],
   "source": [
    "# Replacing special characters in first 3 columns which are of type object\n",
    "for i in range(0,3):\n",
    "  X[i] = X[i].str.replace(\"?\", 'NaN').values.astype(float)\n",
    "print(X.head(15))"
   ]
  },
  {
   "cell_type": "code",
   "execution_count": null,
   "metadata": {
    "colab": {},
    "colab_type": "code",
    "id": "KaLXLI24aiU7"
   },
   "outputs": [],
   "source": [
    "# Replacing special characters in the remaining columns which are of type integer\n",
    "for i in range(3,1557):\n",
    "  X[i] = X[i].replace(\"?\", 'NaN').values.astype(float) "
   ]
  },
  {
   "cell_type": "code",
   "execution_count": null,
   "metadata": {
    "colab": {
     "base_uri": "https://localhost:8080/",
     "height": 323
    },
    "colab_type": "code",
    "id": "1-qHbk03asPW",
    "outputId": "7fbd6072-2366-42ba-bddd-78de6eaaab59"
   },
   "outputs": [],
   "source": [
    "import numpy as np\n",
    "\n",
    "# Imputing the 'NaN'  with mean of the values\n",
    "for i in range(0,1557):\n",
    "  X[i] = X[i].fillna(X[i].mean())\n",
    "  \n",
    "print(X.head(15))"
   ]
  },
  {
   "cell_type": "code",
   "execution_count": null,
   "metadata": {
    "colab": {
     "base_uri": "https://localhost:8080/",
     "height": 253
    },
    "colab_type": "code",
    "id": "4OkOJq_5dbH_",
    "outputId": "f180666b-e471-4bd9-8dc1-990607450fbf"
   },
   "outputs": [],
   "source": [
    "# Scaling the data sets\n",
    "# Import library function\n",
    "from sklearn import preprocessing\n",
    "# Creating the scaling function\n",
    "minmaxScaler = preprocessing.MinMaxScaler()\n",
    "# Transforming with the scaler function\n",
    "X_tran = pd.DataFrame(minmaxScaler.fit_transform(X))\n",
    "# Printing the output\n",
    "X_tran.head()"
   ]
  },
  {
   "cell_type": "markdown",
   "metadata": {
    "colab_type": "text",
    "id": "LLSHbgn8hYKa"
   },
   "source": [
    "**Making a high dimensional Data set**"
   ]
  },
  {
   "cell_type": "code",
   "execution_count": null,
   "metadata": {
    "colab": {},
    "colab_type": "code",
    "id": "FhKFfc7rhcPp"
   },
   "outputs": [],
   "source": [
    "import pandas as pd\n",
    "import numpy as np"
   ]
  },
  {
   "cell_type": "code",
   "execution_count": null,
   "metadata": {
    "colab": {
     "base_uri": "https://localhost:8080/",
     "height": 68
    },
    "colab_type": "code",
    "id": "aOEFlvC6hcvD",
    "outputId": "a95a3122-117a-4703-8fbc-0d9100ba5798"
   },
   "outputs": [],
   "source": [
    "# Creating a simple data frame\n",
    "  df = pd.np.array([[1, 2, 3], [4, 5, 6]])\n",
    "  print(df.shape)\n",
    "  df\n"
   ]
  },
  {
   "cell_type": "code",
   "execution_count": null,
   "metadata": {
    "colab": {
     "base_uri": "https://localhost:8080/",
     "height": 102
    },
    "colab_type": "code",
    "id": "atnOZhaohzPZ",
    "outputId": "1a355052-59ee-4b05-abbb-7f1fd02b0ffe"
   },
   "outputs": [],
   "source": [
    "# Replicating the data frame and noting the time\n",
    "import time\n",
    "# Starting a timing function\n",
    "t0=time.time()\n",
    "Newdf = pd.DataFrame(pd.np.tile(df, (1, 5)))\n",
    "\n",
    "print(Newdf.shape)\n",
    "\n",
    "print(Newdf)\n",
    "# Finding the end time \n",
    "\n",
    "print(\"Total time:\", round(time.time()-t0, 3), \"s\")"
   ]
  }
 ],
 "metadata": {
  "colab": {
   "collapsed_sections": [],
   "name": "Chapter 14 : Exercise 14.01",
   "provenance": []
  },
  "kernelspec": {
   "display_name": "Python 3",
   "language": "python",
   "name": "python3"
  },
  "language_info": {
   "codemirror_mode": {
    "name": "ipython",
    "version": 3
   },
   "file_extension": ".py",
   "mimetype": "text/x-python",
   "name": "python",
   "nbconvert_exporter": "python",
   "pygments_lexer": "ipython3",
   "version": "3.8.6"
  }
 },
 "nbformat": 4,
 "nbformat_minor": 1
}
