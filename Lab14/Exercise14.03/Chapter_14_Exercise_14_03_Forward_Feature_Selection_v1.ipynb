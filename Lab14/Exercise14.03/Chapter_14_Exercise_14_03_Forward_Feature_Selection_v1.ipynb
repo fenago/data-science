{
 "cells": [
  {
   "cell_type": "code",
   "execution_count": null,
   "metadata": {
    "colab": {},
    "colab_type": "code",
    "id": "k85hmAy-0zy_"
   },
   "outputs": [],
   "source": [
    "# Defining the file name from github\n",
    "filename = '../Dataset/ad.data'"
   ]
  },
  {
   "cell_type": "code",
   "execution_count": null,
   "metadata": {
    "colab": {
     "base_uri": "https://localhost:8080/",
     "height": 287
    },
    "colab_type": "code",
    "id": "4YgAgBxJ0zkD",
    "outputId": "ed97c482-5cca-4c82-e40f-7be5b264ca8f"
   },
   "outputs": [],
   "source": [
    "import pandas as pd\n",
    "# Loading the data using pandas\n",
    "\n",
    "adData = pd.read_csv(filename,sep=\",\",header = None,error_bad_lines=False)\n",
    "adData.head()"
   ]
  },
  {
   "cell_type": "code",
   "execution_count": null,
   "metadata": {
    "colab": {
     "base_uri": "https://localhost:8080/",
     "height": 51
    },
    "colab_type": "code",
    "id": "LsS_Bou6_zVr",
    "outputId": "170f7776-d99d-49d5-d99e-b59a92cde387"
   },
   "outputs": [],
   "source": [
    "# Seperating the dependent and independent variables\n",
    "# Preparing the X variables\n",
    "X = adData.loc[:,0:1557]\n",
    "print(X.shape)\n",
    "# Preparing the Y variable\n",
    "Y = adData[1558]\n",
    "print(Y.shape)\n"
   ]
  },
  {
   "cell_type": "code",
   "execution_count": null,
   "metadata": {
    "colab": {},
    "colab_type": "code",
    "id": "VkvkzTACHvIB"
   },
   "outputs": [],
   "source": [
    "import numpy as np\n",
    "# Replacing special characters in first 3 columns which are of type object\n",
    "for i in range(0,3):\n",
    "  X[i] = X[i].str.replace(\"?\", 'NaN').values.astype(float)\n",
    "# Replacing special characters in the remaining columns which are of type integer\n",
    "for i in range(3,1557):\n",
    "  X[i] = X[i].replace(\"?\", 'NaN').values.astype(float)  \n",
    "# Imputing the 'NaN'  with mean of the values\n",
    "for i in range(0,1557):\n",
    "  X[i] = X[i].fillna(X[i].mean())"
   ]
  },
  {
   "cell_type": "code",
   "execution_count": null,
   "metadata": {
    "colab": {
     "base_uri": "https://localhost:8080/",
     "height": 253
    },
    "colab_type": "code",
    "id": "nEBGUA6yBRhN",
    "outputId": "3b4cf020-f0ee-490f-ac88-d9c3bc640031"
   },
   "outputs": [],
   "source": [
    "# Normalising the data sets\n",
    "# Normalising data\n",
    "from sklearn import preprocessing\n",
    "# Creating the scaling function\n",
    "minmaxScaler = preprocessing.MinMaxScaler()\n",
    "X_tran = pd.DataFrame(minmaxScaler.fit_transform(X))\n",
    "X_tran.head()"
   ]
  },
  {
   "cell_type": "code",
   "execution_count": null,
   "metadata": {
    "colab": {
     "base_uri": "https://localhost:8080/",
     "height": 34
    },
    "colab_type": "code",
    "id": "EuzQqeo62Hi3",
    "outputId": "fcf700fc-b524-4bf3-f694-d182caf0d386"
   },
   "outputs": [],
   "source": [
    "# Creating a high dimension data set\n",
    "X_hd = pd.DataFrame(pd.np.tile(X_tran, (1, 50)))\n",
    "\n",
    "print(X_hd.shape)"
   ]
  },
  {
   "cell_type": "code",
   "execution_count": null,
   "metadata": {
    "colab": {},
    "colab_type": "code",
    "id": "VZ_9WZZ98g2_"
   },
   "outputs": [],
   "source": [
    "from sklearn.model_selection import train_test_split\n",
    "# Splitting the data into train and test sets\n",
    "X_train, X_test, y_train, y_test = train_test_split(X_hd, Y, test_size=0.3, random_state=123)\n"
   ]
  },
  {
   "cell_type": "code",
   "execution_count": null,
   "metadata": {
    "colab": {},
    "colab_type": "code",
    "id": "m3-oUQplqsW1"
   },
   "outputs": [],
   "source": [
    "from sklearn.feature_selection import SelectKBest\n",
    "\n",
    "# feature extraction\n",
    "feats = SelectKBest(k=250)\n"
   ]
  },
  {
   "cell_type": "code",
   "execution_count": null,
   "metadata": {
    "colab": {
     "base_uri": "https://localhost:8080/",
     "height": 34
    },
    "colab_type": "code",
    "id": "WsvMjG-9ww1A",
    "outputId": "ec55edf0-9a41-4705-fd21-c5ed3bb58f63"
   },
   "outputs": [],
   "source": [
    "# Fitting the features for training set\n",
    "import time\n",
    "t0 = time.time()\n",
    "fit = feats.fit(X_train, y_train)\n",
    "t1 = time.time()\n",
    "print(\"Forward selection fitting time:\", round(t1-t0, 3), \"s\")"
   ]
  },
  {
   "cell_type": "code",
   "execution_count": null,
   "metadata": {
    "colab": {},
    "colab_type": "code",
    "id": "mVrXKb2hqsWA"
   },
   "outputs": [],
   "source": [
    "# Creating new training set and test sets \n",
    "\n",
    "features_train = fit.transform(X_train)\n",
    "features_test = fit.transform(X_test)"
   ]
  },
  {
   "cell_type": "code",
   "execution_count": null,
   "metadata": {
    "colab": {
     "base_uri": "https://localhost:8080/",
     "height": 85
    },
    "colab_type": "code",
    "id": "bDQ_zR1dqsRJ",
    "outputId": "520f4816-cd7e-4718-d870-fbbe259ff904"
   },
   "outputs": [],
   "source": [
    "# Printing the shape of train and test sets before transformation\n",
    "print('Train shape before transformation',X_train.shape)\n",
    "print('Test shape before transformation',X_test.shape)\n",
    "\n",
    "# Printing the shape of train and test sets after transformation\n",
    "print('Train shape after transformation',features_train.shape)\n",
    "print('Test shape after transformation',features_test.shape)"
   ]
  },
  {
   "cell_type": "code",
   "execution_count": null,
   "metadata": {
    "colab": {
     "base_uri": "https://localhost:8080/",
     "height": 71
    },
    "colab_type": "code",
    "id": "3KuujVzCqsQU",
    "outputId": "aa3f57ff-127a-4de0-d8f4-df257b906ea5"
   },
   "outputs": [],
   "source": [
    "# Fitting a Logistic Regression Model\n",
    "from sklearn.linear_model import LogisticRegression\n",
    "import time\n",
    "\n",
    "t0 = time.time()\n",
    "\n",
    "forwardModel = LogisticRegression()\n",
    "forwardModel.fit(features_train, y_train)\n",
    "\n",
    "t1 = time.time()\n"
   ]
  },
  {
   "cell_type": "code",
   "execution_count": null,
   "metadata": {
    "colab": {
     "base_uri": "https://localhost:8080/",
     "height": 34
    },
    "colab_type": "code",
    "id": "rNkpypA5qsKS",
    "outputId": "ae1a3168-7a9d-4e50-95f1-2233ab704f86"
   },
   "outputs": [],
   "source": [
    "print(\"Total training time:\", round(t1-t0, 3), \"s\")"
   ]
  },
  {
   "cell_type": "code",
   "execution_count": null,
   "metadata": {
    "colab": {
     "base_uri": "https://localhost:8080/",
     "height": 34
    },
    "colab_type": "code",
    "id": "sfqV13AIgvpL",
    "outputId": "a8090850-f2f3-4316-b2a4-3d0dddeddb46"
   },
   "outputs": [],
   "source": [
    "# Predicting with the forward model\n",
    "pred = forwardModel.predict(features_test)\n",
    "print('Accuracy of Logistic regression model prediction on test set: {:.2f}'.format(forwardModel.score(features_test, y_test)))"
   ]
  },
  {
   "cell_type": "code",
   "execution_count": null,
   "metadata": {
    "colab": {
     "base_uri": "https://localhost:8080/",
     "height": 51
    },
    "colab_type": "code",
    "id": "ys31bnPVhpIv",
    "outputId": "8e05102f-dd8e-40d1-a8f9-01f317a86d6b"
   },
   "outputs": [],
   "source": [
    "# Generating confusion matrix\n",
    "from sklearn.metrics import confusion_matrix\n",
    "\n",
    "confusionMatrix = confusion_matrix(y_test, pred)\n",
    "print(confusionMatrix)"
   ]
  },
  {
   "cell_type": "code",
   "execution_count": null,
   "metadata": {
    "colab": {
     "base_uri": "https://localhost:8080/",
     "height": 170
    },
    "colab_type": "code",
    "id": "8VbpT7kjSpEs",
    "outputId": "2dc93a39-08ff-4c5f-b9a9-e1d31cef5b7a"
   },
   "outputs": [],
   "source": [
    "from sklearn.metrics import classification_report\n",
    "# Getting the Classification_report\n",
    "print(classification_report(y_test, pred))"
   ]
  }
 ],
 "metadata": {
  "accelerator": "GPU",
  "colab": {
   "collapsed_sections": [],
   "name": "Chapter 14: Exercise 14.03 Forward Feature Selection",
   "provenance": []
  },
  "kernelspec": {
   "display_name": "Python 3",
   "language": "python",
   "name": "python3"
  },
  "language_info": {
   "codemirror_mode": {
    "name": "ipython",
    "version": 3
   },
   "file_extension": ".py",
   "mimetype": "text/x-python",
   "name": "python",
   "nbconvert_exporter": "python",
   "pygments_lexer": "ipython3",
   "version": "3.8.6"
  }
 },
 "nbformat": 4,
 "nbformat_minor": 1
}
