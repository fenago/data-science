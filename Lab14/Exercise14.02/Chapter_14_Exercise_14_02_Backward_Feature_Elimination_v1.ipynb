{
 "cells": [
  {
   "cell_type": "code",
   "execution_count": null,
   "metadata": {
    "colab": {},
    "colab_type": "code",
    "id": "m20vY9Vprhr1"
   },
   "outputs": [],
   "source": [
    "# Defining the file name from github\n",
    "filename = '../Dataset/ad.data'"
   ]
  },
  {
   "cell_type": "code",
   "execution_count": null,
   "metadata": {
    "colab": {
     "base_uri": "https://localhost:8080/",
     "height": 287
    },
    "colab_type": "code",
    "id": "6ovSTOXI-eAK",
    "outputId": "9b5f25ab-3e3d-4b43-aba1-5e59ba0ddcf8"
   },
   "outputs": [],
   "source": [
    "import pandas as pd\n",
    "# Loading the data using pandas\n",
    "\n",
    "adData = pd.read_csv(filename,sep=\",\",header = None,error_bad_lines=False)\n",
    "adData.head()"
   ]
  },
  {
   "cell_type": "code",
   "execution_count": null,
   "metadata": {
    "colab": {
     "base_uri": "https://localhost:8080/",
     "height": 51
    },
    "colab_type": "code",
    "id": "LsS_Bou6_zVr",
    "outputId": "91fced08-b8bf-4389-e0bb-3c849eea51a8"
   },
   "outputs": [],
   "source": [
    "# Seperating the dependent and independent variables\n",
    "# Preparing the X variables\n",
    "X = adData.loc[:,0:1557]\n",
    "print(X.shape)\n",
    "# Preparing the Y variable\n",
    "Y = adData[1558]\n",
    "print(Y.shape)\n"
   ]
  },
  {
   "cell_type": "code",
   "execution_count": null,
   "metadata": {
    "colab": {},
    "colab_type": "code",
    "id": "8QTLt_bb5eIM"
   },
   "outputs": [],
   "source": [
    "import numpy as np\n",
    "# Replacing special characters in first 3 columns which are of type object\n",
    "for i in range(0,3):\n",
    "  X[i] = X[i].str.replace(\"?\", 'NaN').values.astype(float)\n",
    "# Replacing special characters in the remaining columns which are of type integer\n",
    "for i in range(3,1557):\n",
    "  X[i] = X[i].replace(\"?\", 'NaN').values.astype(float)  \n",
    "# Imputing the 'nan'  with mean of the values\n",
    "for i in range(0,1557):\n",
    "  X[i] = X[i].fillna(X[i].mean())"
   ]
  },
  {
   "cell_type": "code",
   "execution_count": null,
   "metadata": {
    "colab": {
     "base_uri": "https://localhost:8080/",
     "height": 253
    },
    "colab_type": "code",
    "id": "nEBGUA6yBRhN",
    "outputId": "4b1244a4-82df-446e-d3dc-fc5fddca4b3f"
   },
   "outputs": [],
   "source": [
    "# Normalising the data sets\n",
    "# Normalising data\n",
    "from sklearn import preprocessing\n",
    "# Creating the scaling function\n",
    "minmaxScaler = preprocessing.MinMaxScaler()\n",
    "X_tran = pd.DataFrame(minmaxScaler.fit_transform(X))\n",
    "X_tran.head()"
   ]
  },
  {
   "cell_type": "code",
   "execution_count": null,
   "metadata": {
    "colab": {
     "base_uri": "https://localhost:8080/",
     "height": 34
    },
    "colab_type": "code",
    "id": "VohvJNDR5qLy",
    "outputId": "bdae41ba-3dfd-4c9e-d1fc-5f45a9a2914d"
   },
   "outputs": [],
   "source": [
    "# Creating a high dimension data set\n",
    "X_hd = pd.DataFrame(pd.np.tile(X_tran, (1, 2)))\n",
    "\n",
    "print(X_hd.shape)"
   ]
  },
  {
   "cell_type": "code",
   "execution_count": null,
   "metadata": {
    "colab": {},
    "colab_type": "code",
    "id": "Y6yj35AbLiOz"
   },
   "outputs": [],
   "source": [
    "from sklearn.linear_model import LogisticRegression\n",
    "from sklearn.feature_selection import RFE\n",
    "\n",
    "# Defining the Classification function\n",
    "backModel = LogisticRegression()\n",
    "# Reducing dimensionality to 250 features for backward elimination model\n",
    "rfe = RFE(backModel, 250)\n"
   ]
  },
  {
   "cell_type": "code",
   "execution_count": null,
   "metadata": {
    "colab": {
     "base_uri": "https://localhost:8080/",
     "height": 1000
    },
    "colab_type": "code",
    "id": "CizOWQH8LxSh",
    "outputId": "db10371c-0b86-49bd-9610-7d21cdd2d9fe"
   },
   "outputs": [],
   "source": [
    "# Fitting the rfe for selecting the top 250 features\n",
    "import time\n",
    "t0 = time.time()\n",
    "rfe = rfe.fit(X_hd, Y)\n",
    "t1 = time.time()\n",
    "print(\"Backward Elimination time:\", round(t1-t0, 3), \"s\")"
   ]
  },
  {
   "cell_type": "code",
   "execution_count": null,
   "metadata": {
    "colab": {
     "base_uri": "https://localhost:8080/",
     "height": 408
    },
    "colab_type": "code",
    "id": "FjrvHj_5OyfS",
    "outputId": "08bfa9eb-f4ed-416a-c121-b35700f7f865"
   },
   "outputs": [],
   "source": [
    "# Getting the indexes of the features used\n",
    "rfe.get_support(indices = True)"
   ]
  },
  {
   "cell_type": "code",
   "execution_count": null,
   "metadata": {
    "colab": {
     "base_uri": "https://localhost:8080/",
     "height": 51
    },
    "colab_type": "code",
    "id": "VZ_9WZZ98g2_",
    "outputId": "15f897fe-e18e-4f52-fc54-03bf02395ed5"
   },
   "outputs": [],
   "source": [
    "from sklearn.model_selection import train_test_split\n",
    "# Splitting the data into train and test sets\n",
    "X_train, X_test, y_train, y_test = train_test_split(X_hd, Y, test_size=0.3, random_state=123)\n",
    "\n",
    "print('Training set shape',X_train.shape)\n",
    "\n",
    "print('Test set shape',X_test.shape)"
   ]
  },
  {
   "cell_type": "code",
   "execution_count": null,
   "metadata": {
    "colab": {
     "base_uri": "https://localhost:8080/",
     "height": 51
    },
    "colab_type": "code",
    "id": "E10U-DmxNcyv",
    "outputId": "3b55188d-ce96-4de1-f53c-7491a7359e72"
   },
   "outputs": [],
   "source": [
    "# Transforming both train and test sets\n",
    "\n",
    "X_train_tran = rfe.transform(X_train)\n",
    "\n",
    "X_test_tran = rfe.transform(X_test)\n",
    "\n",
    "print(\"Training set shape\",X_train_tran.shape)\n",
    "\n",
    "print(\"Test set shape\",X_test_tran.shape)"
   ]
  },
  {
   "cell_type": "code",
   "execution_count": null,
   "metadata": {
    "colab": {
     "base_uri": "https://localhost:8080/",
     "height": 88
    },
    "colab_type": "code",
    "id": "2gPEoZ-UPL2q",
    "outputId": "666d8f56-04c9-48df-9219-21a172117cc5"
   },
   "outputs": [],
   "source": [
    "# Fitting the logistic regression model \n",
    "import time\n",
    "# Defining the LogisticRegression function\n",
    "RfeModel = LogisticRegression()\n",
    "# Starting a timing function\n",
    "t0=time.time()\n",
    "# Fitting the model\n",
    "RfeModel.fit(X_train_tran, y_train)\n",
    "# Finding the end time \n",
    "\n",
    "print(\"Total training time:\", round(time.time()-t0, 3), \"s\")\n",
    "\n",
    "\n",
    "\n"
   ]
  },
  {
   "cell_type": "code",
   "execution_count": null,
   "metadata": {
    "colab": {
     "base_uri": "https://localhost:8080/",
     "height": 34
    },
    "colab_type": "code",
    "id": "m50cIU3hRYRk",
    "outputId": "82c74409-defd-4266-f83c-389cfdf6008c"
   },
   "outputs": [],
   "source": [
    "# Predicting on the test set and getting the accuracy\n",
    "pred = RfeModel.predict(X_test_tran)\n",
    "\n",
    "print('Accuracy of Logistic regression model after backward elimination: {:.2f}'.format(RfeModel.score(X_test_tran, y_test)))\n",
    "\n"
   ]
  },
  {
   "cell_type": "code",
   "execution_count": null,
   "metadata": {
    "colab": {
     "base_uri": "https://localhost:8080/",
     "height": 51
    },
    "colab_type": "code",
    "id": "YQc-inXWJvJJ",
    "outputId": "7d2a6fd9-d880-4a5d-f264-32c975bdd232"
   },
   "outputs": [],
   "source": [
    "from sklearn.metrics import confusion_matrix\n",
    "confusionMatrix = confusion_matrix(y_test, pred)\n",
    "print(confusionMatrix)"
   ]
  },
  {
   "cell_type": "code",
   "execution_count": null,
   "metadata": {
    "colab": {
     "base_uri": "https://localhost:8080/",
     "height": 170
    },
    "colab_type": "code",
    "id": "8VbpT7kjSpEs",
    "outputId": "40ae8717-e3e5-4bab-e505-7ac0f041a9b0"
   },
   "outputs": [],
   "source": [
    "from sklearn.metrics import classification_report\n",
    "# Getting the Classification_report\n",
    "print(classification_report(y_test, pred))"
   ]
  }
 ],
 "metadata": {
  "accelerator": "GPU",
  "colab": {
   "collapsed_sections": [],
   "name": "Chapter 14: Exercise 14.02 Backward Feature Elimination",
   "provenance": []
  },
  "kernelspec": {
   "display_name": "Python 3",
   "language": "python",
   "name": "python3"
  },
  "language_info": {
   "codemirror_mode": {
    "name": "ipython",
    "version": 3
   },
   "file_extension": ".py",
   "mimetype": "text/x-python",
   "name": "python",
   "nbconvert_exporter": "python",
   "pygments_lexer": "ipython3",
   "version": "3.8.6"
  }
 },
 "nbformat": 4,
 "nbformat_minor": 1
}
