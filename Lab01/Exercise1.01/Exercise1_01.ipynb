{
 "cells": [
  {
   "cell_type": "code",
   "execution_count": null,
   "metadata": {
    "colab": {},
    "colab_type": "code",
    "id": "VvyjASrX8ioW"
   },
   "outputs": [],
   "source": [
    "algorithm = ['Linear Regression', 'Logistic Regression', 'RandomForest', 'a3c']"
   ]
  },
  {
   "cell_type": "code",
   "execution_count": null,
   "metadata": {
    "colab": {},
    "colab_type": "code",
    "id": "RyYIgCN28_P0"
   },
   "outputs": [],
   "source": [
    "learning = ['Supervised', 'Supervised', 'Supervised', 'Reinforcement']"
   ]
  },
  {
   "cell_type": "code",
   "execution_count": null,
   "metadata": {
    "colab": {},
    "colab_type": "code",
    "id": "ZEqFtWds9JFy"
   },
   "outputs": [],
   "source": [
    "algorithm_type = ['Regression', 'Classification', 'Regression or Classification', 'Game AI']"
   ]
  },
  {
   "cell_type": "code",
   "execution_count": null,
   "metadata": {
    "colab": {},
    "colab_type": "code",
    "id": "nBjdkC8F-M6f"
   },
   "outputs": [],
   "source": [
    "algorithm.append('k-means')"
   ]
  },
  {
   "cell_type": "code",
   "execution_count": null,
   "metadata": {
    "colab": {
     "base_uri": "https://localhost:8080/",
     "height": 34
    },
    "colab_type": "code",
    "id": "6Bc-Nys6-f9X",
    "outputId": "2e659ba1-0233-4b1a-c21a-0d24a571340c"
   },
   "outputs": [],
   "source": [
    "print(algorithm)"
   ]
  },
  {
   "cell_type": "code",
   "execution_count": null,
   "metadata": {
    "colab": {},
    "colab_type": "code",
    "id": "bPoVJ0gA-Yq0"
   },
   "outputs": [],
   "source": [
    "learning.append('Unsupervised')"
   ]
  },
  {
   "cell_type": "code",
   "execution_count": null,
   "metadata": {
    "colab": {
     "base_uri": "https://localhost:8080/",
     "height": 34
    },
    "colab_type": "code",
    "id": "NueuDyh--iRC",
    "outputId": "c4efc760-f567-4441-9c3e-a99485b7ab5e"
   },
   "outputs": [],
   "source": [
    "print(learning)"
   ]
  },
  {
   "cell_type": "code",
   "execution_count": null,
   "metadata": {
    "colab": {},
    "colab_type": "code",
    "id": "Z6GfEOi4-Yxl"
   },
   "outputs": [],
   "source": [
    "algorithm_type.append('Clustering')"
   ]
  },
  {
   "cell_type": "code",
   "execution_count": null,
   "metadata": {
    "colab": {
     "base_uri": "https://localhost:8080/",
     "height": 34
    },
    "colab_type": "code",
    "id": "06CEQM6A-ldI",
    "outputId": "688bf554-04cb-440f-c04d-80e9ea03571b"
   },
   "outputs": [],
   "source": [
    "print(algorithm_type)"
   ]
  },
  {
   "cell_type": "code",
   "execution_count": null,
   "metadata": {
    "colab": {},
    "colab_type": "code",
    "id": "6Toy0a4y-qMa"
   },
   "outputs": [],
   "source": [
    "machine_learning = {}"
   ]
  },
  {
   "cell_type": "code",
   "execution_count": null,
   "metadata": {
    "colab": {},
    "colab_type": "code",
    "id": "a0p_KDXJ-68D"
   },
   "outputs": [],
   "source": [
    "machine_learning['algorithm'] = algorithm"
   ]
  },
  {
   "cell_type": "code",
   "execution_count": null,
   "metadata": {
    "colab": {
     "base_uri": "https://localhost:8080/",
     "height": 34
    },
    "colab_type": "code",
    "id": "hb48dYN_-_hu",
    "outputId": "4ca37e06-6de8-4681-ad6f-06cd84a3cc19"
   },
   "outputs": [],
   "source": [
    "print(machine_learning)"
   ]
  },
  {
   "cell_type": "code",
   "execution_count": null,
   "metadata": {
    "colab": {},
    "colab_type": "code",
    "id": "2h3CZGxe_CmY"
   },
   "outputs": [],
   "source": [
    "machine_learning['learning'] = learning"
   ]
  },
  {
   "cell_type": "code",
   "execution_count": null,
   "metadata": {
    "colab": {},
    "colab_type": "code",
    "id": "Clilnrf9_GrS"
   },
   "outputs": [],
   "source": [
    "machine_learning['algorithm_type'] = algorithm_type"
   ]
  },
  {
   "cell_type": "code",
   "execution_count": null,
   "metadata": {
    "colab": {
     "base_uri": "https://localhost:8080/",
     "height": 54
    },
    "colab_type": "code",
    "id": "SF8j6lU4E5bN",
    "outputId": "cd12c38e-2e2c-416a-f85d-eaca4445421c"
   },
   "outputs": [],
   "source": [
    "print(machine_learning)"
   ]
  },
  {
   "cell_type": "code",
   "execution_count": null,
   "metadata": {
    "colab": {},
    "colab_type": "code",
    "id": "pzWrjP4m_Z_Q"
   },
   "outputs": [],
   "source": [
    "machine_learning['algorithm'].remove('a3c')"
   ]
  },
  {
   "cell_type": "code",
   "execution_count": null,
   "metadata": {
    "colab": {
     "base_uri": "https://localhost:8080/",
     "height": 34
    },
    "colab_type": "code",
    "id": "OSQxcCPZ_gm2",
    "outputId": "01f6a768-e5b5-4cac-c9b8-065aeb19a49b"
   },
   "outputs": [],
   "source": [
    "print(machine_learning['algorithm'])"
   ]
  },
  {
   "cell_type": "code",
   "execution_count": null,
   "metadata": {
    "colab": {},
    "colab_type": "code",
    "id": "SNQ5fW27_jK8"
   },
   "outputs": [],
   "source": [
    "machine_learning['learning'].remove('Reinforcement')"
   ]
  },
  {
   "cell_type": "code",
   "execution_count": null,
   "metadata": {
    "colab": {},
    "colab_type": "code",
    "id": "cOrBI2wW_qMS"
   },
   "outputs": [],
   "source": [
    "machine_learning['algorithm_type'].remove('Game AI')"
   ]
  },
  {
   "cell_type": "code",
   "execution_count": null,
   "metadata": {
    "colab": {
     "base_uri": "https://localhost:8080/",
     "height": 54
    },
    "colab_type": "code",
    "id": "J80kpqB8_6RE",
    "outputId": "c9201e78-8da3-4a31-e3ef-9fbd49d5f567"
   },
   "outputs": [],
   "source": [
    "print(machine_learning)"
   ]
  },
  {
   "cell_type": "code",
   "execution_count": null,
   "metadata": {},
   "outputs": [],
   "source": []
  }
 ],
 "metadata": {
  "colab": {
   "collapsed_sections": [],
   "name": "Exercise1_01.ipynb",
   "provenance": []
  },
  "kernelspec": {
   "display_name": "Python 3",
   "language": "python",
   "name": "python3"
  },
  "language_info": {
   "codemirror_mode": {
    "name": "ipython",
    "version": 3
   },
   "file_extension": ".py",
   "mimetype": "text/x-python",
   "name": "python",
   "nbconvert_exporter": "python",
   "pygments_lexer": "ipython3",
   "version": "3.8.6"
  }
 },
 "nbformat": 4,
 "nbformat_minor": 1
}
