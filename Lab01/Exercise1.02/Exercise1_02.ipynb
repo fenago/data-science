{
 "cells": [
  {
   "cell_type": "code",
   "execution_count": null,
   "metadata": {
    "colab": {},
    "colab_type": "code",
    "id": "bPe8tlE4ShtQ"
   },
   "outputs": [],
   "source": [
    "import pandas as pd"
   ]
  },
  {
   "cell_type": "code",
   "execution_count": null,
   "metadata": {
    "colab": {},
    "colab_type": "code",
    "id": "0RJHtTTTS8ak"
   },
   "outputs": [],
   "source": [
    "csv_url = '../Dataset/overall_topten_2012-2013.csv'"
   ]
  },
  {
   "cell_type": "code",
   "execution_count": null,
   "metadata": {
    "colab": {
     "base_uri": "https://localhost:8080/",
     "height": 359
    },
    "colab_type": "code",
    "id": "V5PMuIMCVv3S",
    "outputId": "59b83999-6dee-4a79-c199-452288f8bc14"
   },
   "outputs": [],
   "source": [
    "csv_df = pd.read_csv(csv_url, skiprows=1)\n",
    "csv_df"
   ]
  },
  {
   "cell_type": "code",
   "execution_count": null,
   "metadata": {
    "colab": {},
    "colab_type": "code",
    "id": "DzO8pIA3Vwe1"
   },
   "outputs": [],
   "source": [
    "tsv_url = '../Dataset/overall_topten_2012-2013.tsv'"
   ]
  },
  {
   "cell_type": "code",
   "execution_count": null,
   "metadata": {
    "colab": {
     "base_uri": "https://localhost:8080/",
     "height": 359
    },
    "colab_type": "code",
    "id": "p8zUaSDuV3zp",
    "outputId": "76be10ef-078f-4efe-839e-184adde7a7eb"
   },
   "outputs": [],
   "source": [
    "tsv_df = pd.read_csv(tsv_url, skiprows=1, sep='\\t')\n",
    "tsv_df"
   ]
  },
  {
   "cell_type": "code",
   "execution_count": null,
   "metadata": {
    "colab": {},
    "colab_type": "code",
    "id": "wgswI12UV3-m"
   },
   "outputs": [],
   "source": [
    "xlsx_url = '../Dataset/overall_topten_2012-2013.xlsx'"
   ]
  },
  {
   "cell_type": "code",
   "execution_count": null,
   "metadata": {
    "colab": {
     "base_uri": "https://localhost:8080/",
     "height": 49
    },
    "colab_type": "code",
    "id": "j2iQakbMYK_t",
    "outputId": "37066af4-21c6-4ea4-9d95-cfa6ccface9c"
   },
   "outputs": [],
   "source": [
    "xlsx_df = pd.read_excel(xlsx_url)\n",
    "xlsx_df"
   ]
  },
  {
   "cell_type": "code",
   "execution_count": null,
   "metadata": {
    "colab": {
     "base_uri": "https://localhost:8080/",
     "height": 359
    },
    "colab_type": "code",
    "id": "OZb8mM7_W5bM",
    "outputId": "4d5968b0-f5ac-4be3-8ace-0fb51bee18f1"
   },
   "outputs": [],
   "source": [
    "xlsx_df1 = pd.read_excel(xlsx_url, skiprows=1, sheet_name=1)\n",
    "xlsx_df1"
   ]
  }
 ],
 "metadata": {
  "colab": {
   "collapsed_sections": [],
   "name": "Exercise1_02.ipynb",
   "provenance": []
  },
  "kernelspec": {
   "display_name": "Python 3",
   "language": "python",
   "name": "python3"
  },
  "language_info": {
   "codemirror_mode": {
    "name": "ipython",
    "version": 3
   },
   "file_extension": ".py",
   "mimetype": "text/x-python",
   "name": "python",
   "nbconvert_exporter": "python",
   "pygments_lexer": "ipython3",
   "version": "3.8.6"
  }
 },
 "nbformat": 4,
 "nbformat_minor": 1
}
