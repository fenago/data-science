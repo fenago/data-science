{
  "nbformat": 4,
  "nbformat_minor": 0,
  "metadata": {
    "file_extension": ".py",
    "kernelspec": {
      "display_name": "Python 3",
      "language": "python",
      "name": "python3"
    },
    "language_info": {
      "codemirror_mode": {
        "name": "ipython",
        "version": 3
      },
      "file_extension": ".py",
      "mimetype": "text/x-python",
      "name": "python",
      "nbconvert_exporter": "python",
      "pygments_lexer": "ipython3",
      "version": "3.7.4"
    },
    "mimetype": "text/x-python",
    "name": "python",
    "npconvert_exporter": "python",
    "pygments_lexer": "ipython3",
    "version": 3,
    "colab": {
      "name": "Exercise6_04.ipynb",
      "provenance": []
    }
  },
  "cells": [
    {
      "cell_type": "markdown",
      "metadata": {
        "id": "CmmK_6k3zT77",
        "colab_type": "text"
      },
      "source": [
        "# Compute MAE of Second Model"
      ]
    },
    {
      "cell_type": "code",
      "metadata": {
        "id": "_M12PDnMzT79",
        "colab_type": "code",
        "colab": {}
      },
      "source": [
        "#Import Libraries\n",
        "import pandas as pd\n",
        "from sklearn.model_selection import train_test_split\n",
        "from sklearn.linear_model import LinearRegression\n",
        "from sklearn.pipeline import Pipeline\n",
        "from sklearn.metrics import mean_absolute_error\n",
        "\n",
        "#preprocessing\n",
        "from sklearn.preprocessing import MinMaxScaler\n",
        "from sklearn.preprocessing import StandardScaler\n",
        "from sklearn.preprocessing import PolynomialFeatures"
      ],
      "execution_count": 1,
      "outputs": []
    },
    {
      "cell_type": "code",
      "metadata": {
        "id": "wt7hxsA5zT8C",
        "colab_type": "code",
        "colab": {}
      },
      "source": [
        "# import the data\n",
        "# column headers\n",
        "_headers = ['CIC0', 'SM1', 'GATS1i', 'NdsCH', 'Ndssc', 'MLOGP', 'response']\n",
        "\n",
        "# read in data\n",
        "df = pd.read_csv('https://raw.githubusercontent.com/PacktWorkshops/The-Data-Science-Workshop/master/Chapter06/Dataset/qsar_fish_toxicity.csv', names=_headers, sep=';')"
      ],
      "execution_count": 2,
      "outputs": []
    },
    {
      "cell_type": "code",
      "metadata": {
        "id": "xtpAg5ZBzT8H",
        "colab_type": "code",
        "colab": {}
      },
      "source": [
        "# Let's split our data\n",
        "features = df.drop('response', axis=1).values\n",
        "labels = df[['response']].values\n",
        "\n",
        "X_train, X_eval, y_train, y_eval = train_test_split(features, labels, test_size=0.2, random_state=0)\n",
        "X_val, X_test, y_val, y_test = train_test_split(X_eval, y_eval, random_state=0)"
      ],
      "execution_count": 3,
      "outputs": []
    },
    {
      "cell_type": "code",
      "metadata": {
        "id": "fhqgT4IfzT8L",
        "colab_type": "code",
        "colab": {}
      },
      "source": [
        "#create a pipeline and engineer quadratic features\n",
        "steps = [\n",
        "    ('scaler', MinMaxScaler()),\n",
        "    ('poly', PolynomialFeatures(2)),\n",
        "    ('model', LinearRegression())\n",
        "]"
      ],
      "execution_count": 4,
      "outputs": []
    },
    {
      "cell_type": "code",
      "metadata": {
        "id": "YJWIvVF6zT8O",
        "colab_type": "code",
        "colab": {}
      },
      "source": [
        "#create a Linear Regression model\n",
        "model = Pipeline(steps)"
      ],
      "execution_count": 5,
      "outputs": []
    },
    {
      "cell_type": "code",
      "metadata": {
        "id": "waWYDKlbzT8S",
        "colab_type": "code",
        "colab": {
          "base_uri": "https://localhost:8080/",
          "height": 177
        },
        "outputId": "cc63bd38-323f-42ca-d23f-47f23eb22267"
      },
      "source": [
        "#train the model\n",
        "model.fit(X_train, y_train)"
      ],
      "execution_count": 6,
      "outputs": [
        {
          "output_type": "execute_result",
          "data": {
            "text/plain": [
              "Pipeline(memory=None,\n",
              "         steps=[('scaler', MinMaxScaler(copy=True, feature_range=(0, 1))),\n",
              "                ('poly',\n",
              "                 PolynomialFeatures(degree=2, include_bias=True,\n",
              "                                    interaction_only=False, order='C')),\n",
              "                ('model',\n",
              "                 LinearRegression(copy_X=True, fit_intercept=True, n_jobs=None,\n",
              "                                  normalize=False))],\n",
              "         verbose=False)"
            ]
          },
          "metadata": {
            "tags": []
          },
          "execution_count": 6
        }
      ]
    },
    {
      "cell_type": "code",
      "metadata": {
        "id": "63gN84ZvzT8W",
        "colab_type": "code",
        "colab": {}
      },
      "source": [
        "#predict on validation dataset\n",
        "y_pred = model.predict(X_val)"
      ],
      "execution_count": 7,
      "outputs": []
    },
    {
      "cell_type": "code",
      "metadata": {
        "id": "vUSTLx8szT8b",
        "colab_type": "code",
        "colab": {
          "base_uri": "https://localhost:8080/",
          "height": 35
        },
        "outputId": "8c48d04e-5842-4e8a-a96e-0d4e177f06f7"
      },
      "source": [
        "#compute MAE\n",
        "mae = mean_absolute_error(y_val, y_pred)\n",
        "print('MAE: {}'.format(mae))"
      ],
      "execution_count": 8,
      "outputs": [
        {
          "output_type": "stream",
          "text": [
            "MAE: 0.6605526100836078\n"
          ],
          "name": "stdout"
        }
      ]
    },
    {
      "cell_type": "code",
      "metadata": {
        "id": "K-Y699PSzT8h",
        "colab_type": "code",
        "colab": {
          "base_uri": "https://localhost:8080/",
          "height": 35
        },
        "outputId": "22835320-717d-49d5-fab1-f784391bec5a"
      },
      "source": [
        "# let's get the R2 score\n",
        "r2 = model.score(X_val, y_val)\n",
        "print('R^2 score: {}'.format(r2))"
      ],
      "execution_count": 9,
      "outputs": [
        {
          "output_type": "stream",
          "text": [
            "R^2 score: 0.6284921344153389\n"
          ],
          "name": "stdout"
        }
      ]
    },
    {
      "cell_type": "code",
      "metadata": {
        "id": "Wa6PUbhnzT8l",
        "colab_type": "code",
        "colab": {}
      },
      "source": [
        ""
      ],
      "execution_count": null,
      "outputs": []
    }
  ]
}