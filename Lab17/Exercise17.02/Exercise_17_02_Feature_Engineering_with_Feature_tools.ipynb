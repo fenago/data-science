{
 "cells": [
  {
   "cell_type": "markdown",
   "metadata": {
    "colab_type": "text",
    "id": "LAQdBb9nixj-"
   },
   "source": [
    "**Creating Entities and relationships**"
   ]
  },
  {
   "cell_type": "code",
   "execution_count": null,
   "metadata": {
    "colab": {},
    "colab_type": "code",
    "id": "An-m41d46gdU"
   },
   "outputs": [],
   "source": [
    "# Defining the path to the \n",
    "file_url = 'https://raw.githubusercontent.com/PacktWorkshops/The-Data-Science-Workshop/master/Chapter17/Datasets/bank-full.csv'"
   ]
  },
  {
   "cell_type": "code",
   "execution_count": null,
   "metadata": {
    "colab": {
     "base_uri": "https://localhost:8080/",
     "height": 204
    },
    "colab_type": "code",
    "id": "u5PwstrC6yO3",
    "outputId": "d563beef-cc14-465a-93e3-9db4814f3d1c"
   },
   "outputs": [],
   "source": [
    "# Loading data using pandas\n",
    "import pandas as pd\n",
    "bankData = pd.read_csv(file_url,sep=\";\")\n",
    "bankData.head()"
   ]
  },
  {
   "cell_type": "code",
   "execution_count": null,
   "metadata": {
    "colab": {},
    "colab_type": "code",
    "id": "R3p8ogdwfKcK"
   },
   "outputs": [],
   "source": [
    "# Removing the target variable\n",
    "Y = bankData.pop('y')"
   ]
  },
  {
   "cell_type": "code",
   "execution_count": null,
   "metadata": {
    "colab": {},
    "colab_type": "code",
    "id": "G0bLuG6uj-Kj"
   },
   "outputs": [],
   "source": [
    "# Creating the Ids for Demographic Entity\n",
    "bankData['custID'] = bankData.index.values\n",
    "\n",
    "bankData['custID'] = 'cust' + bankData['custID'].astype(str)"
   ]
  },
  {
   "cell_type": "code",
   "execution_count": null,
   "metadata": {
    "colab": {},
    "colab_type": "code",
    "id": "jd6d2SwakOqw"
   },
   "outputs": [],
   "source": [
    "# Creating AssetId\n",
    "bankData['AssetId'] = 0\n",
    "bankData.loc[bankData.housing == 'yes','AssetId']= 1"
   ]
  },
  {
   "cell_type": "code",
   "execution_count": null,
   "metadata": {
    "colab": {},
    "colab_type": "code",
    "id": "mBK8lbIdkXxQ"
   },
   "outputs": [],
   "source": [
    "# Creating LoanId\n",
    "bankData['LoanId'] = 0\n",
    "bankData.loc[bankData.loan == 'yes','LoanId']= 1"
   ]
  },
  {
   "cell_type": "code",
   "execution_count": null,
   "metadata": {
    "colab": {},
    "colab_type": "code",
    "id": "c78GODPvkcHf"
   },
   "outputs": [],
   "source": [
    "# Creating Financial behaviour ID\n",
    "bankData['FinbehId'] = 0\n",
    "bankData.loc[bankData.default == 'yes','FinbehId']= 1"
   ]
  },
  {
   "cell_type": "code",
   "execution_count": null,
   "metadata": {
    "colab": {},
    "colab_type": "code",
    "id": "SPBA0i47j1qa"
   },
   "outputs": [],
   "source": [
    "# Importing necessary libraries\n",
    "import featuretools as ft\n",
    "import numpy as np"
   ]
  },
  {
   "cell_type": "code",
   "execution_count": null,
   "metadata": {
    "colab": {},
    "colab_type": "code",
    "id": "i-x5WNvDkyjd"
   },
   "outputs": [],
   "source": [
    "# creating the entity set 'Bankentities'\n",
    "Bankentities = ft.EntitySet(id = 'Bank')"
   ]
  },
  {
   "cell_type": "code",
   "execution_count": null,
   "metadata": {
    "colab": {
     "base_uri": "https://localhost:8080/",
     "height": 102
    },
    "colab_type": "code",
    "id": "Pa8nAOj_lFG_",
    "outputId": "8bcd6fca-0642-4d1a-c1b5-9801e540f6dc"
   },
   "outputs": [],
   "source": [
    "# Mapping a dataframe to the entityset to form the parent entity\n",
    "Bankentities.entity_from_dataframe(entity_id = 'Demographic Data', dataframe = bankData, index = 'custID')"
   ]
  },
  {
   "cell_type": "code",
   "execution_count": null,
   "metadata": {
    "colab": {
     "base_uri": "https://localhost:8080/",
     "height": 119
    },
    "colab_type": "code",
    "id": "xJsgsrN1l4gh",
    "outputId": "f0434e43-95c4-42fb-fee4-9c24d39ec06f"
   },
   "outputs": [],
   "source": [
    "# Mapping Assets and setting the relationship\n",
    "Bankentities.normalize_entity(base_entity_id='Demographic Data', new_entity_id='Assets', index = 'AssetId', \n",
    "additional_variables = ['housing'])"
   ]
  },
  {
   "cell_type": "code",
   "execution_count": null,
   "metadata": {
    "colab": {
     "base_uri": "https://localhost:8080/",
     "height": 187
    },
    "colab_type": "code",
    "id": "d-3VpcKKmIlk",
    "outputId": "e87d41f1-bd5b-4f0b-f898-41186b61991c"
   },
   "outputs": [],
   "source": [
    "# Mapping Loans and Financial behavior entities\n",
    "Bankentities.normalize_entity(base_entity_id='Demographic Data', new_entity_id='Liability', index = 'LoanId', \n",
    "additional_variables = ['loan'])\n",
    "\n",
    "Bankentities.normalize_entity(base_entity_id='Demographic Data', new_entity_id='FinBehaviour', index = 'FinbehId', \n",
    "additional_variables = ['default'])"
   ]
  },
  {
   "cell_type": "markdown",
   "metadata": {
    "colab_type": "text",
    "id": "EW86TseKi3kr"
   },
   "source": [
    "**Feature Engineering**"
   ]
  },
  {
   "cell_type": "code",
   "execution_count": null,
   "metadata": {
    "colab": {
     "base_uri": "https://localhost:8080/",
     "height": 51
    },
    "colab_type": "code",
    "id": "hNMq1qvki8N3",
    "outputId": "b6e02243-dab6-41b8-f0b6-6768ab14fa7a"
   },
   "outputs": [],
   "source": [
    "# Creating feature sets using Deep Feature Synthesis\n",
    "feature_set, feature_names = ft.dfs(entityset=Bankentities, \n",
    "target_entity = 'Demographic Data', \n",
    "max_depth = 2, \n",
    "verbose = 1, \n",
    "n_jobs = 1)"
   ]
  },
  {
   "cell_type": "code",
   "execution_count": null,
   "metadata": {
    "colab": {},
    "colab_type": "code",
    "id": "3cvJBUv_l3d4"
   },
   "outputs": [],
   "source": [
    "# Reindexing the feature_set\n",
    "feature_set = feature_set.reindex(index=bankData['custID'])\n",
    "feature_set = feature_set.reset_index()"
   ]
  },
  {
   "cell_type": "code",
   "execution_count": null,
   "metadata": {
    "colab": {
     "base_uri": "https://localhost:8080/",
     "height": 51
    },
    "colab_type": "code",
    "id": "tAk3PAG9qMjX",
    "outputId": "8394b964-db80-4ae2-f823-1b5d872b68a1"
   },
   "outputs": [],
   "source": [
    "# Verifying the shape of the features and original bank data\n",
    "print(feature_set.shape)\n",
    "print(bankData.shape)"
   ]
  },
  {
   "cell_type": "code",
   "execution_count": null,
   "metadata": {
    "colab": {
     "base_uri": "https://localhost:8080/",
     "height": 270
    },
    "colab_type": "code",
    "id": "7liFzqGjmM41",
    "outputId": "27231a52-409c-4545-a3c5-93f8524384ab"
   },
   "outputs": [],
   "source": [
    "# Printing head of the feature set\n",
    "feature_set.head()"
   ]
  },
  {
   "cell_type": "code",
   "execution_count": null,
   "metadata": {
    "colab": {
     "base_uri": "https://localhost:8080/",
     "height": 85
    },
    "colab_type": "code",
    "id": "6fssoJoRq1LJ",
    "outputId": "e6cec37a-b7ee-4715-ba52-023acc7cd72d"
   },
   "outputs": [],
   "source": [
    "# Verifying the features for Assets.SUM(Demographic Data.balance)\n",
    "bankData.groupby('AssetId')['balance'].agg('sum')"
   ]
  },
  {
   "cell_type": "code",
   "execution_count": null,
   "metadata": {
    "colab": {
     "base_uri": "https://localhost:8080/",
     "height": 1000
    },
    "colab_type": "code",
    "id": "DNjmRWQSraIV",
    "outputId": "ec577afd-4f56-41f2-f52c-53448c58d8bf"
   },
   "outputs": [],
   "source": [
    "# Printing the list of all features\n",
    "feature_names"
   ]
  },
  {
   "cell_type": "markdown",
   "metadata": {
    "colab_type": "text",
    "id": "jzJElFHFryr2"
   },
   "source": [
    "**Configuring the primitives**"
   ]
  },
  {
   "cell_type": "code",
   "execution_count": null,
   "metadata": {
    "colab": {},
    "colab_type": "code",
    "id": "t5XfGri_r6Nd"
   },
   "outputs": [],
   "source": [
    "# Creating aggregation and transformation primitives\n",
    "aggPrimitives=[\n",
    "        'std', 'min', 'max', 'mean', \n",
    "         'last', 'count'\n",
    "        \n",
    "]\n",
    "tranPrimitives=[\n",
    "        'percentile', \n",
    "         'subtract', 'divide']"
   ]
  },
  {
   "cell_type": "code",
   "execution_count": null,
   "metadata": {
    "colab": {
     "base_uri": "https://localhost:8080/",
     "height": 51
    },
    "colab_type": "code",
    "id": "EUI6ExwAsliv",
    "outputId": "40d1805b-68ad-4cf7-c301-f0ed09661558"
   },
   "outputs": [],
   "source": [
    "# Defining the new set of features\n",
    "feature_set, feature_names = ft.dfs(entityset=Bankentities, \n",
    "target_entity = 'Demographic Data',\n",
    "agg_primitives=aggPrimitives,\n",
    "trans_primitives=tranPrimitives, \n",
    "max_depth = 2, \n",
    "verbose = 1, \n",
    "n_jobs = 1)"
   ]
  },
  {
   "cell_type": "code",
   "execution_count": null,
   "metadata": {
    "colab": {
     "base_uri": "https://localhost:8080/",
     "height": 318
    },
    "colab_type": "code",
    "id": "ysbe6Sz4tlSG",
    "outputId": "1cddf2a6-b862-4f8d-a81d-7f2d54cb67c3"
   },
   "outputs": [],
   "source": [
    "# Displaying the feature set \n",
    "feature_set.head()"
   ]
  }
 ],
 "metadata": {
  "colab": {
   "name": "Exercise 17.02: Feature Engineering with Feature tools",
   "provenance": []
  },
  "kernelspec": {
   "display_name": "Python 3",
   "language": "python",
   "name": "python3"
  },
  "language_info": {
   "codemirror_mode": {
    "name": "ipython",
    "version": 3
   },
   "file_extension": ".py",
   "mimetype": "text/x-python",
   "name": "python",
   "nbconvert_exporter": "python",
   "pygments_lexer": "ipython3",
   "version": "3.8.6"
  }
 },
 "nbformat": 4,
 "nbformat_minor": 1
}
