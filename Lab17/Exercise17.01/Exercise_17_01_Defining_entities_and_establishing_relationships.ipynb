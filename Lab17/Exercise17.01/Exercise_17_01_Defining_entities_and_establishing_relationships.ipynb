{
 "cells": [
  {
   "cell_type": "code",
   "execution_count": null,
   "metadata": {
    "colab": {},
    "colab_type": "code",
    "id": "An-m41d46gdU"
   },
   "outputs": [],
   "source": [
    "# Defining the path to the \n",
    "file_url = '../Datasets/bank-full.csv'"
   ]
  },
  {
   "cell_type": "code",
   "execution_count": null,
   "metadata": {
    "colab": {
     "base_uri": "https://localhost:8080/",
     "height": 204
    },
    "colab_type": "code",
    "id": "u5PwstrC6yO3",
    "outputId": "ef57db33-bd15-4d0d-d4e5-2d2b8e1efbd4"
   },
   "outputs": [],
   "source": [
    "# Loading data using pandas\n",
    "import pandas as pd\n",
    "bankData = pd.read_csv(file_url,sep=\";\")\n",
    "bankData.head()"
   ]
  },
  {
   "cell_type": "code",
   "execution_count": null,
   "metadata": {
    "colab": {},
    "colab_type": "code",
    "id": "R3p8ogdwfKcK"
   },
   "outputs": [],
   "source": [
    "# Removing the target variable\n",
    "Y = bankData.pop('y')"
   ]
  },
  {
   "cell_type": "code",
   "execution_count": null,
   "metadata": {
    "colab": {},
    "colab_type": "code",
    "id": "G0bLuG6uj-Kj"
   },
   "outputs": [],
   "source": [
    "# Creating the Ids for Demographic Entity\n",
    "bankData['custID'] = bankData.index.values\n",
    "\n",
    "bankData['custID'] = 'cust' + bankData['custID'].astype(str)"
   ]
  },
  {
   "cell_type": "code",
   "execution_count": null,
   "metadata": {
    "colab": {},
    "colab_type": "code",
    "id": "jd6d2SwakOqw"
   },
   "outputs": [],
   "source": [
    "# Creating AssetId\n",
    "bankData['AssetId'] = 0\n",
    "bankData.loc[bankData.housing == 'yes','AssetId']= 1"
   ]
  },
  {
   "cell_type": "code",
   "execution_count": null,
   "metadata": {
    "colab": {},
    "colab_type": "code",
    "id": "mBK8lbIdkXxQ"
   },
   "outputs": [],
   "source": [
    "# Creating LoanId\n",
    "bankData['LoanId'] = 0\n",
    "bankData.loc[bankData.loan == 'yes','LoanId']= 1"
   ]
  },
  {
   "cell_type": "code",
   "execution_count": null,
   "metadata": {
    "colab": {},
    "colab_type": "code",
    "id": "c78GODPvkcHf"
   },
   "outputs": [],
   "source": [
    "# Creating Financial behaviour ID\n",
    "bankData['FinbehId'] = 0\n",
    "bankData.loc[bankData.default == 'yes','FinbehId']= 1"
   ]
  },
  {
   "cell_type": "code",
   "execution_count": null,
   "metadata": {
    "colab": {
     "base_uri": "https://localhost:8080/",
     "height": 224
    },
    "colab_type": "code",
    "id": "09_EiT6RkqFT",
    "outputId": "11b36f27-983a-477d-ee16-a73b55827260"
   },
   "outputs": [],
   "source": [
    "# Displaying the new data frame after adding the ids\n",
    "bankData.head()"
   ]
  },
  {
   "cell_type": "code",
   "execution_count": null,
   "metadata": {
    "colab": {},
    "colab_type": "code",
    "id": "SPBA0i47j1qa"
   },
   "outputs": [],
   "source": [
    "# Importing necessary libraries\n",
    "import featuretools as ft\n",
    "import numpy as np"
   ]
  },
  {
   "cell_type": "code",
   "execution_count": null,
   "metadata": {
    "colab": {},
    "colab_type": "code",
    "id": "i-x5WNvDkyjd"
   },
   "outputs": [],
   "source": [
    "# creating the entity set 'Bankentities'\n",
    "Bankentities = ft.EntitySet(id = 'Bank')"
   ]
  },
  {
   "cell_type": "code",
   "execution_count": null,
   "metadata": {
    "colab": {
     "base_uri": "https://localhost:8080/",
     "height": 102
    },
    "colab_type": "code",
    "id": "Pa8nAOj_lFG_",
    "outputId": "5a9a4a9e-1c6f-4ce1-cf72-f1c554dfdbbd"
   },
   "outputs": [],
   "source": [
    "# Mapping a dataframe to the entityset to form the parent entity\n",
    "Bankentities.entity_from_dataframe(entity_id = 'Demographic Data', dataframe = bankData, index = 'custID')"
   ]
  },
  {
   "cell_type": "code",
   "execution_count": null,
   "metadata": {
    "colab": {
     "base_uri": "https://localhost:8080/",
     "height": 119
    },
    "colab_type": "code",
    "id": "xJsgsrN1l4gh",
    "outputId": "ac062328-8f1c-454a-d34a-e00485e0edb4"
   },
   "outputs": [],
   "source": [
    "# Mapping Assets and setting the relationship\n",
    "Bankentities.normalize_entity(base_entity_id='Demographic Data', new_entity_id='Assets', index = 'AssetId', \n",
    "additional_variables = ['housing'])"
   ]
  },
  {
   "cell_type": "code",
   "execution_count": null,
   "metadata": {
    "colab": {
     "base_uri": "https://localhost:8080/",
     "height": 187
    },
    "colab_type": "code",
    "id": "d-3VpcKKmIlk",
    "outputId": "7e7c42b1-367e-46e4-d1a3-0de7629066bc"
   },
   "outputs": [],
   "source": [
    "# Mapping Loans and Financial behavior entities\n",
    "Bankentities.normalize_entity(base_entity_id='Demographic Data', new_entity_id='Liability', index = 'LoanId', \n",
    "additional_variables = ['loan'])\n",
    "\n",
    "Bankentities.normalize_entity(base_entity_id='Demographic Data', new_entity_id='FinBehaviour', index = 'FinbehId', \n",
    "additional_variables = ['default'])"
   ]
  }
 ],
 "metadata": {
  "colab": {
   "name": "Exercise 17.01: Defining entities and establishing relationships.ipynb",
   "provenance": []
  },
  "kernelspec": {
   "display_name": "Python 3",
   "language": "python",
   "name": "python3"
  },
  "language_info": {
   "codemirror_mode": {
    "name": "ipython",
    "version": 3
   },
   "file_extension": ".py",
   "mimetype": "text/x-python",
   "name": "python",
   "nbconvert_exporter": "python",
   "pygments_lexer": "ipython3",
   "version": "3.8.6"
  }
 },
 "nbformat": 4,
 "nbformat_minor": 1
}
