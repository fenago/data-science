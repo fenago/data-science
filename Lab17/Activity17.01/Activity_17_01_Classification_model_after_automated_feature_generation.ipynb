{
 "cells": [
  {
   "cell_type": "markdown",
   "metadata": {
    "colab_type": "text",
    "id": "LAQdBb9nixj-"
   },
   "source": [
    "**Loading Data and creating benchmark model**"
   ]
  },
  {
   "cell_type": "code",
   "execution_count": null,
   "metadata": {
    "colab": {},
    "colab_type": "code",
    "id": "An-m41d46gdU"
   },
   "outputs": [],
   "source": [
    "# Defining the path to the Github repository\n",
    "file_url = 'https://raw.githubusercontent.com/PacktWorkshops/The-Data-Science-Workshop/master/Chapter17/Datasets/adult.csv'"
   ]
  },
  {
   "cell_type": "code",
   "execution_count": null,
   "metadata": {
    "colab": {
     "base_uri": "https://localhost:8080/",
     "height": 306
    },
    "colab_type": "code",
    "id": "u5PwstrC6yO3",
    "outputId": "5ca6ff2b-8d56-4ff6-dc37-d2189ebc88f1"
   },
   "outputs": [],
   "source": [
    "# Loading data using pandas\n",
    "import pandas as pd\n",
    "adultData = pd.read_csv(file_url,sep=\",\",na_values = \" ?\")\n",
    "adultData.head()"
   ]
  },
  {
   "cell_type": "code",
   "execution_count": null,
   "metadata": {
    "colab": {
     "base_uri": "https://localhost:8080/",
     "height": 34
    },
    "colab_type": "code",
    "id": "czRVXJjqU5zM",
    "outputId": "cbe11a64-3a96-43ba-d831-b81c8da2aea9"
   },
   "outputs": [],
   "source": [
    "# Dropping the na values\n",
    "adultData = adultData.dropna(axis = 0, how = 'any')\n",
    "adultData.shape"
   ]
  },
  {
   "cell_type": "code",
   "execution_count": null,
   "metadata": {
    "colab": {},
    "colab_type": "code",
    "id": "R3p8ogdwfKcK"
   },
   "outputs": [],
   "source": [
    "# Removing the target variable\n",
    "Y = adultData.pop('label')"
   ]
  },
  {
   "cell_type": "code",
   "execution_count": null,
   "metadata": {
    "colab": {},
    "colab_type": "code",
    "id": "vyKD7XdowD1X"
   },
   "outputs": [],
   "source": [
    "from sklearn.model_selection import train_test_split\n",
    "\n",
    "# Splitting the data into train and test sets\n",
    "X_train, X_test, y_train, y_test = train_test_split(adultData, Y, test_size=0.3, random_state=123)"
   ]
  },
  {
   "cell_type": "code",
   "execution_count": null,
   "metadata": {
    "colab": {},
    "colab_type": "code",
    "id": "iIJH_OOhwDsg"
   },
   "outputs": [],
   "source": [
    "# Using pipeline to transform categorical variable and numeric variables\n",
    "from sklearn.pipeline import Pipeline\n",
    "from sklearn.preprocessing import StandardScaler, OneHotEncoder\n",
    "\n",
    "categorical_transformer = Pipeline(steps=[('onehot', OneHotEncoder(handle_unknown='ignore'))])\n",
    "\n",
    "numeric_transformer = Pipeline(steps=[('scaler', StandardScaler())])\n",
    "\n"
   ]
  },
  {
   "cell_type": "code",
   "execution_count": null,
   "metadata": {
    "colab": {},
    "colab_type": "code",
    "id": "nAjLOQdSxZhv"
   },
   "outputs": [],
   "source": [
    "# Defining data types for numeric and categorical features\n",
    "numeric_features = adultData.select_dtypes(include=['int64', 'float64']).columns\n",
    "categorical_features = adultData.select_dtypes(include=['object']).columns\n",
    "\n"
   ]
  },
  {
   "cell_type": "code",
   "execution_count": null,
   "metadata": {
    "colab": {},
    "colab_type": "code",
    "id": "E3Yqja--wDra"
   },
   "outputs": [],
   "source": [
    "# Defining preprocessor\n",
    "from sklearn.compose import ColumnTransformer\n",
    "preprocessor = ColumnTransformer(\n",
    "    transformers=[\n",
    "        ('num', numeric_transformer, numeric_features),\n",
    "        ('cat', categorical_transformer, categorical_features)])"
   ]
  },
  {
   "cell_type": "code",
   "execution_count": null,
   "metadata": {
    "colab": {},
    "colab_type": "code",
    "id": "unZgSKaXwDk_"
   },
   "outputs": [],
   "source": [
    "# Defining the estimator for processing and classification\n",
    "from sklearn.linear_model import LogisticRegression\n",
    "estimator = Pipeline(steps=[('preprocessor', preprocessor),                      \n",
    "                           ('classifier',LogisticRegression(random_state=123))])\n"
   ]
  },
  {
   "cell_type": "code",
   "execution_count": null,
   "metadata": {
    "colab": {
     "base_uri": "https://localhost:8080/",
     "height": 88
    },
    "colab_type": "code",
    "id": "sq0VVPEEwDjv",
    "outputId": "3115bf66-221b-480f-ce01-471db22f0566"
   },
   "outputs": [],
   "source": [
    "# Fit the estimator on the training set\n",
    "estimator.fit(X_train, y_train)  \n",
    "print(\"model score: %.2f\" % estimator.score(X_test, y_test)) "
   ]
  },
  {
   "cell_type": "code",
   "execution_count": null,
   "metadata": {
    "colab": {},
    "colab_type": "code",
    "id": "udpedpFmwDVl"
   },
   "outputs": [],
   "source": [
    "# Predict on the test set\n",
    "pred = estimator.predict(X_test)"
   ]
  },
  {
   "cell_type": "code",
   "execution_count": null,
   "metadata": {
    "colab": {
     "base_uri": "https://localhost:8080/",
     "height": 170
    },
    "colab_type": "code",
    "id": "_LimADp8wDEN",
    "outputId": "7ba1f12c-e231-45be-c8cf-856f18fe8ac0"
   },
   "outputs": [],
   "source": [
    "# Generating classification report\n",
    "from sklearn.metrics import classification_report\n",
    "\n",
    "print(classification_report(pred,y_test))"
   ]
  },
  {
   "cell_type": "markdown",
   "metadata": {
    "colab_type": "text",
    "id": "Y9SWTwQfy3Qz"
   },
   "source": [
    "**Establishing entities and relationship**"
   ]
  },
  {
   "cell_type": "code",
   "execution_count": null,
   "metadata": {
    "colab": {},
    "colab_type": "code",
    "id": "G0bLuG6uj-Kj"
   },
   "outputs": [],
   "source": [
    "# Creating the Ids for parent entity\n",
    "adultData['parentID'] = adultData.index.values\n",
    "\n",
    "adultData['parentID'] = 'record' + adultData['parentID'].astype(str)"
   ]
  },
  {
   "cell_type": "code",
   "execution_count": null,
   "metadata": {
    "colab": {},
    "colab_type": "code",
    "id": "wjGhzeR5S-Un"
   },
   "outputs": [],
   "source": [
    "# Creating unique Ids for entity workclass\n",
    "adultData.loc[adultData.workclass == ' Federal-gov','workId']= 1\n",
    "adultData.loc[adultData.workclass == ' Local-gov','workId']= 2\n",
    "adultData.loc[adultData.workclass == ' Private','workId']= 3\n",
    "adultData.loc[adultData.workclass == ' Self-emp-inc','workId']= 4\n",
    "adultData.loc[adultData.workclass == ' Self-emp-not-inc','workId']= 5\n",
    "adultData.loc[adultData.workclass == ' State-gov','workId']= 6\n",
    "adultData.loc[adultData.workclass == ' Without-pay','workId']= 7"
   ]
  },
  {
   "cell_type": "code",
   "execution_count": null,
   "metadata": {
    "colab": {},
    "colab_type": "code",
    "id": "y563krc4Wlof"
   },
   "outputs": [],
   "source": [
    "# Creating unique IDs for occupation\n",
    "adultData.loc[adultData.occupation == ' Adm-clerical','occuId']= 1\n",
    "adultData.loc[adultData.occupation == ' Armed-Forces','occuId']= 2\n",
    "adultData.loc[adultData.occupation == ' Craft-repair','occuId']= 3\n",
    "adultData.loc[adultData.occupation == ' Exec-managerial','occuId']= 4\n",
    "adultData.loc[adultData.occupation == ' Farming-fishing','occuId']= 5\n",
    "adultData.loc[adultData.occupation == ' Handlers-cleaners','occuId']= 6\n",
    "adultData.loc[adultData.occupation == ' Machine-op-inspct','occuId']= 7\n",
    "adultData.loc[adultData.occupation == ' Other-service','occuId']= 8\n",
    "adultData.loc[adultData.occupation == ' Priv-house-serv','occuId']= 9\n",
    "adultData.loc[adultData.occupation == ' Prof-specialty','occuId']= 10\n",
    "adultData.loc[adultData.occupation == ' Protective-serv','occuId']= 11\n",
    "adultData.loc[adultData.occupation == ' Sales','occuId']= 12\n",
    "adultData.loc[adultData.occupation == ' Tech-support','occuId']= 13\n",
    "adultData.loc[adultData.occupation == ' Transport-moving','occuId']= 14"
   ]
  },
  {
   "cell_type": "code",
   "execution_count": null,
   "metadata": {
    "colab": {},
    "colab_type": "code",
    "id": "SPBA0i47j1qa"
   },
   "outputs": [],
   "source": [
    "# Importing necessary libraries\n",
    "import featuretools as ft\n",
    "import numpy as np"
   ]
  },
  {
   "cell_type": "code",
   "execution_count": null,
   "metadata": {
    "colab": {},
    "colab_type": "code",
    "id": "i-x5WNvDkyjd"
   },
   "outputs": [],
   "source": [
    "# creating the entity set 'adultentities'\n",
    "adultentities = ft.EntitySet(id = 'Adult')"
   ]
  },
  {
   "cell_type": "code",
   "execution_count": null,
   "metadata": {
    "colab": {
     "base_uri": "https://localhost:8080/",
     "height": 102
    },
    "colab_type": "code",
    "id": "Pa8nAOj_lFG_",
    "outputId": "76a2aa7e-cdff-46b4-aab0-65c25e50b47d"
   },
   "outputs": [],
   "source": [
    "# Mapping a dataframe to the entityset to form the parent entity\n",
    "adultentities.entity_from_dataframe(entity_id = 'Parent Data', dataframe = adultData, index = 'parentID')"
   ]
  },
  {
   "cell_type": "code",
   "execution_count": null,
   "metadata": {
    "colab": {
     "base_uri": "https://localhost:8080/",
     "height": 187
    },
    "colab_type": "code",
    "id": "xJsgsrN1l4gh",
    "outputId": "7bdd39a2-81a8-462d-83da-55bf9f44e04c"
   },
   "outputs": [],
   "source": [
    "# Mapping to parent entity and setting the relationship\n",
    "adultentities.normalize_entity(base_entity_id='Parent Data', new_entity_id='education', index = 'education-num', \n",
    "additional_variables = ['education'])\n",
    "\n",
    "adultentities.normalize_entity(base_entity_id='Parent Data', new_entity_id='Workclass', index = 'workId', \n",
    "additional_variables = ['workclass'])\n",
    "\n",
    "adultentities.normalize_entity(base_entity_id='Parent Data', new_entity_id='Occupation', index = 'occuId', \n",
    "additional_variables = ['occupation'])\n"
   ]
  },
  {
   "cell_type": "markdown",
   "metadata": {
    "colab_type": "text",
    "id": "EW86TseKi3kr"
   },
   "source": [
    "**Feature Engineering**"
   ]
  },
  {
   "cell_type": "code",
   "execution_count": null,
   "metadata": {
    "colab": {},
    "colab_type": "code",
    "id": "t5XfGri_r6Nd"
   },
   "outputs": [],
   "source": [
    "# Creating aggregation and transformation primitives\n",
    "aggPrimitives=[\n",
    "        'std', 'min', 'max', 'mean', \n",
    "         'last', 'count'\n",
    "        \n",
    "]\n",
    "tranPrimitives=[\n",
    "        'percentile', \n",
    "         'subtract', 'divide']"
   ]
  },
  {
   "cell_type": "code",
   "execution_count": null,
   "metadata": {
    "colab": {
     "base_uri": "https://localhost:8080/",
     "height": 51
    },
    "colab_type": "code",
    "id": "EUI6ExwAsliv",
    "outputId": "81f1d7c1-d95a-424e-c951-74f0fce6e71b"
   },
   "outputs": [],
   "source": [
    "# Defining the new set of features\n",
    "feature_set, feature_names = ft.dfs(entityset=adultentities, \n",
    "target_entity = 'Parent Data',\n",
    "agg_primitives=aggPrimitives,\n",
    "trans_primitives=tranPrimitives, \n",
    "max_depth = 2, \n",
    "verbose = 1, \n",
    "n_jobs = 1)"
   ]
  },
  {
   "cell_type": "code",
   "execution_count": null,
   "metadata": {
    "colab": {},
    "colab_type": "code",
    "id": "Qbepc1BX0jR6"
   },
   "outputs": [],
   "source": [
    "# Reindexing the feature_set\n",
    "feature_set = feature_set.reindex(index=adultData['parentID'])\n",
    "feature_set = feature_set.reset_index()"
   ]
  },
  {
   "cell_type": "code",
   "execution_count": null,
   "metadata": {
    "colab": {
     "base_uri": "https://localhost:8080/",
     "height": 34
    },
    "colab_type": "code",
    "id": "ysbe6Sz4tlSG",
    "outputId": "3b816a3d-18e6-432e-833f-2728a019b8ec"
   },
   "outputs": [],
   "source": [
    "# Displaying the feature set \n",
    "feature_set.shape"
   ]
  },
  {
   "cell_type": "markdown",
   "metadata": {
    "colab_type": "text",
    "id": "gAbP-lin0PBc"
   },
   "source": [
    "**Cleaning na values and infinity values**"
   ]
  },
  {
   "cell_type": "code",
   "execution_count": null,
   "metadata": {
    "colab": {},
    "colab_type": "code",
    "id": "oPivNx2c1Cl0"
   },
   "outputs": [],
   "source": [
    "# Dropping all Ids\n",
    "X = feature_set[feature_set.columns[~feature_set.columns.str.contains(\n",
    "    'parentID|education-num|workId|occuId')]]\n"
   ]
  },
  {
   "cell_type": "code",
   "execution_count": null,
   "metadata": {
    "colab": {},
    "colab_type": "code",
    "id": "YdKpHnli0Nuw"
   },
   "outputs": [],
   "source": [
    "# Replacing all columns with infinity with nan\n",
    "X = X.replace([np.inf, -np.inf], np.nan)\n",
    "\n"
   ]
  },
  {
   "cell_type": "code",
   "execution_count": null,
   "metadata": {
    "colab": {
     "base_uri": "https://localhost:8080/",
     "height": 34
    },
    "colab_type": "code",
    "id": "Iohw3k3A0NUt",
    "outputId": "023c08b0-1b6f-4b9b-f8fe-39eb29a9e7d8"
   },
   "outputs": [],
   "source": [
    "# Dropping all columns with nan\n",
    "X = X.dropna(axis=1, how='any')\n",
    "X.shape"
   ]
  },
  {
   "cell_type": "markdown",
   "metadata": {
    "colab_type": "text",
    "id": "olsjNOmS28xB"
   },
   "source": [
    "**Modelling phase**"
   ]
  },
  {
   "cell_type": "code",
   "execution_count": null,
   "metadata": {
    "colab": {},
    "colab_type": "code",
    "id": "xiUAOlEG0M6q"
   },
   "outputs": [],
   "source": [
    "# Splitting train and test sets\n",
    "from sklearn.model_selection import train_test_split\n",
    "\n",
    "# Splitting the data into train and test sets\n",
    "X_train, X_test, y_train, y_test = train_test_split(X, Y, test_size=0.3, random_state=123)"
   ]
  },
  {
   "cell_type": "code",
   "execution_count": null,
   "metadata": {
    "colab": {},
    "colab_type": "code",
    "id": "b91XD0qK3J2n"
   },
   "outputs": [],
   "source": [
    "# Creating the preprocessing pipeline\n",
    "from sklearn.pipeline import Pipeline\n",
    "from sklearn.preprocessing import StandardScaler, OneHotEncoder\n",
    "\n",
    "categorical_transformer = Pipeline(steps=[('onehot', OneHotEncoder(handle_unknown='ignore'))])\n",
    "\n",
    "numeric_transformer = Pipeline(steps=[('scaler', StandardScaler())])\n",
    "\n",
    "numeric_features = X.select_dtypes(include=['int64', 'float64']).columns\n",
    "categorical_features = X.select_dtypes(include=['object']).columns\n",
    "\n",
    "from sklearn.compose import ColumnTransformer\n",
    "preprocessor = ColumnTransformer(\n",
    "    transformers=[\n",
    "        ('num', numeric_transformer, numeric_features),\n",
    "        ('cat', categorical_transformer, categorical_features)])"
   ]
  },
  {
   "cell_type": "code",
   "execution_count": null,
   "metadata": {
    "colab": {
     "base_uri": "https://localhost:8080/",
     "height": 122
    },
    "colab_type": "code",
    "id": "DLzG98T13Sq7",
    "outputId": "990433ef-915a-43a6-9149-5c15ccb3ac0f"
   },
   "outputs": [],
   "source": [
    "# Creating the estimator function and fitting the training set\n",
    "estimator = Pipeline(steps=[('preprocessor', preprocessor),                      \n",
    "                           ('classifier',LogisticRegression(random_state=123))])\n",
    "estimator.fit(X_train, y_train)  \n",
    "print(\"model score: %.2f\" % estimator.score(X_test, y_test)) "
   ]
  },
  {
   "cell_type": "code",
   "execution_count": null,
   "metadata": {
    "colab": {},
    "colab_type": "code",
    "id": "6Fa_KNSv37hj"
   },
   "outputs": [],
   "source": [
    "# Predicting on the test set\n",
    "pred = estimator.predict(X_test)"
   ]
  },
  {
   "cell_type": "code",
   "execution_count": null,
   "metadata": {
    "colab": {
     "base_uri": "https://localhost:8080/",
     "height": 170
    },
    "colab_type": "code",
    "id": "_lWvNPMl4Eeb",
    "outputId": "22bb03a1-da47-4780-9805-6443a0c9ab29"
   },
   "outputs": [],
   "source": [
    "# Generating the classification report\n",
    "from sklearn.metrics import classification_report\n",
    "\n",
    "print(classification_report(pred,y_test))"
   ]
  }
 ],
 "metadata": {
  "colab": {
   "name": "Activity 17.01: Classification model after automated feature generation",
   "provenance": []
  },
  "kernelspec": {
   "display_name": "Python 3",
   "language": "python",
   "name": "python3"
  },
  "language_info": {
   "codemirror_mode": {
    "name": "ipython",
    "version": 3
   },
   "file_extension": ".py",
   "mimetype": "text/x-python",
   "name": "python",
   "nbconvert_exporter": "python",
   "pygments_lexer": "ipython3",
   "version": "3.8.6"
  }
 },
 "nbformat": 4,
 "nbformat_minor": 1
}
