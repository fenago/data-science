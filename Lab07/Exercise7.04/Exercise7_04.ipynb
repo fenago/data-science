{
  "nbformat": 4,
  "nbformat_minor": 0,
  "metadata": {
    "file_extension": ".py",
    "kernelspec": {
      "display_name": "Python 3",
      "language": "python",
      "name": "python3"
    },
    "language_info": {
      "codemirror_mode": {
        "name": "ipython",
        "version": 3
      },
      "file_extension": ".py",
      "mimetype": "text/x-python",
      "name": "python",
      "nbconvert_exporter": "python",
      "pygments_lexer": "ipython3",
      "version": "3.7.4"
    },
    "mimetype": "text/x-python",
    "name": "python",
    "npconvert_exporter": "python",
    "pygments_lexer": "ipython3",
    "version": 3,
    "colab": {
      "name": "Exercise7.04.ipynb",
      "provenance": []
    }
  },
  "cells": [
    {
      "cell_type": "markdown",
      "metadata": {
        "id": "d3tuu-nXbQI_",
        "colab_type": "text"
      },
      "source": [
        "# 5-Fold Cross Validation"
      ]
    },
    {
      "cell_type": "code",
      "metadata": {
        "id": "OZcXS3CMbQJA",
        "colab_type": "code",
        "colab": {}
      },
      "source": [
        "# import libraries\n",
        "import pandas as pd\n",
        "from sklearn.model_selection import train_test_split"
      ],
      "execution_count": 1,
      "outputs": []
    },
    {
      "cell_type": "code",
      "metadata": {
        "id": "E_pUA2KBbQJJ",
        "colab_type": "code",
        "colab": {
          "base_uri": "https://localhost:8080/",
          "height": 266
        },
        "outputId": "4e4aaae8-77e3-4527-a456-2185519445a4"
      },
      "source": [
        "# data doesn't have headers, so let's create headers\n",
        "_headers = ['buying', 'maint', 'doors', 'persons', 'lug_boot', 'safety', 'car']\n",
        "# read in cars dataset\n",
        "df = pd.read_csv('https://raw.githubusercontent.com/PacktWorkshops/The-Data-Science-Workshop/master/Chapter07/Dataset/car.data', names=_headers, index_col=None)\n",
        "df.info()"
      ],
      "execution_count": 2,
      "outputs": [
        {
          "output_type": "stream",
          "text": [
            "<class 'pandas.core.frame.DataFrame'>\n",
            "RangeIndex: 1728 entries, 0 to 1727\n",
            "Data columns (total 7 columns):\n",
            " #   Column    Non-Null Count  Dtype \n",
            "---  ------    --------------  ----- \n",
            " 0   buying    1728 non-null   object\n",
            " 1   maint     1728 non-null   object\n",
            " 2   doors     1728 non-null   object\n",
            " 3   persons   1728 non-null   object\n",
            " 4   lug_boot  1728 non-null   object\n",
            " 5   safety    1728 non-null   object\n",
            " 6   car       1728 non-null   object\n",
            "dtypes: object(7)\n",
            "memory usage: 94.6+ KB\n"
          ],
          "name": "stdout"
        }
      ]
    },
    {
      "cell_type": "code",
      "metadata": {
        "id": "l0vTXFTxbQJR",
        "colab_type": "code",
        "colab": {}
      },
      "source": [
        "#split the data into 80% for training and 20% for evaluation\n",
        "training_df, eval_df = train_test_split(df, train_size=0.8, random_state=1)"
      ],
      "execution_count": 3,
      "outputs": []
    },
    {
      "cell_type": "code",
      "metadata": {
        "id": "IoLYxyNIbQJX",
        "colab_type": "code",
        "colab": {
          "base_uri": "https://localhost:8080/",
          "height": 194
        },
        "outputId": "7fb4eed4-cba5-493d-c901-947895b41e8c"
      },
      "source": [
        "training_df.head()"
      ],
      "execution_count": 4,
      "outputs": [
        {
          "output_type": "execute_result",
          "data": {
            "text/html": [
              "<div>\n",
              "<style scoped>\n",
              "    .dataframe tbody tr th:only-of-type {\n",
              "        vertical-align: middle;\n",
              "    }\n",
              "\n",
              "    .dataframe tbody tr th {\n",
              "        vertical-align: top;\n",
              "    }\n",
              "\n",
              "    .dataframe thead th {\n",
              "        text-align: right;\n",
              "    }\n",
              "</style>\n",
              "<table border=\"1\" class=\"dataframe\">\n",
              "  <thead>\n",
              "    <tr style=\"text-align: right;\">\n",
              "      <th></th>\n",
              "      <th>buying</th>\n",
              "      <th>maint</th>\n",
              "      <th>doors</th>\n",
              "      <th>persons</th>\n",
              "      <th>lug_boot</th>\n",
              "      <th>safety</th>\n",
              "      <th>car</th>\n",
              "    </tr>\n",
              "  </thead>\n",
              "  <tbody>\n",
              "    <tr>\n",
              "      <th>1579</th>\n",
              "      <td>low</td>\n",
              "      <td>med</td>\n",
              "      <td>4</td>\n",
              "      <td>4</td>\n",
              "      <td>med</td>\n",
              "      <td>med</td>\n",
              "      <td>good</td>\n",
              "    </tr>\n",
              "    <tr>\n",
              "      <th>634</th>\n",
              "      <td>high</td>\n",
              "      <td>high</td>\n",
              "      <td>5more</td>\n",
              "      <td>4</td>\n",
              "      <td>med</td>\n",
              "      <td>med</td>\n",
              "      <td>acc</td>\n",
              "    </tr>\n",
              "    <tr>\n",
              "      <th>299</th>\n",
              "      <td>vhigh</td>\n",
              "      <td>med</td>\n",
              "      <td>5more</td>\n",
              "      <td>2</td>\n",
              "      <td>small</td>\n",
              "      <td>high</td>\n",
              "      <td>unacc</td>\n",
              "    </tr>\n",
              "    <tr>\n",
              "      <th>1085</th>\n",
              "      <td>med</td>\n",
              "      <td>med</td>\n",
              "      <td>2</td>\n",
              "      <td>2</td>\n",
              "      <td>med</td>\n",
              "      <td>high</td>\n",
              "      <td>unacc</td>\n",
              "    </tr>\n",
              "    <tr>\n",
              "      <th>1659</th>\n",
              "      <td>low</td>\n",
              "      <td>low</td>\n",
              "      <td>3</td>\n",
              "      <td>4</td>\n",
              "      <td>med</td>\n",
              "      <td>low</td>\n",
              "      <td>unacc</td>\n",
              "    </tr>\n",
              "  </tbody>\n",
              "</table>\n",
              "</div>"
            ],
            "text/plain": [
              "     buying maint  doors persons lug_boot safety    car\n",
              "1579    low   med      4       4      med    med   good\n",
              "634    high  high  5more       4      med    med    acc\n",
              "299   vhigh   med  5more       2    small   high  unacc\n",
              "1085    med   med      2       2      med   high  unacc\n",
              "1659    low   low      3       4      med    low  unacc"
            ]
          },
          "metadata": {
            "tags": []
          },
          "execution_count": 4
        }
      ]
    },
    {
      "cell_type": "code",
      "metadata": {
        "id": "IyoSMML6bQJd",
        "colab_type": "code",
        "colab": {
          "base_uri": "https://localhost:8080/",
          "height": 194
        },
        "outputId": "02d748bf-8d12-4352-dc57-6152b855b763"
      },
      "source": [
        "eval_df.head()"
      ],
      "execution_count": 5,
      "outputs": [
        {
          "output_type": "execute_result",
          "data": {
            "text/html": [
              "<div>\n",
              "<style scoped>\n",
              "    .dataframe tbody tr th:only-of-type {\n",
              "        vertical-align: middle;\n",
              "    }\n",
              "\n",
              "    .dataframe tbody tr th {\n",
              "        vertical-align: top;\n",
              "    }\n",
              "\n",
              "    .dataframe thead th {\n",
              "        text-align: right;\n",
              "    }\n",
              "</style>\n",
              "<table border=\"1\" class=\"dataframe\">\n",
              "  <thead>\n",
              "    <tr style=\"text-align: right;\">\n",
              "      <th></th>\n",
              "      <th>buying</th>\n",
              "      <th>maint</th>\n",
              "      <th>doors</th>\n",
              "      <th>persons</th>\n",
              "      <th>lug_boot</th>\n",
              "      <th>safety</th>\n",
              "      <th>car</th>\n",
              "    </tr>\n",
              "  </thead>\n",
              "  <tbody>\n",
              "    <tr>\n",
              "      <th>1233</th>\n",
              "      <td>med</td>\n",
              "      <td>low</td>\n",
              "      <td>3</td>\n",
              "      <td>more</td>\n",
              "      <td>small</td>\n",
              "      <td>low</td>\n",
              "      <td>unacc</td>\n",
              "    </tr>\n",
              "    <tr>\n",
              "      <th>592</th>\n",
              "      <td>high</td>\n",
              "      <td>high</td>\n",
              "      <td>3</td>\n",
              "      <td>more</td>\n",
              "      <td>big</td>\n",
              "      <td>med</td>\n",
              "      <td>acc</td>\n",
              "    </tr>\n",
              "    <tr>\n",
              "      <th>625</th>\n",
              "      <td>high</td>\n",
              "      <td>high</td>\n",
              "      <td>5more</td>\n",
              "      <td>2</td>\n",
              "      <td>med</td>\n",
              "      <td>med</td>\n",
              "      <td>unacc</td>\n",
              "    </tr>\n",
              "    <tr>\n",
              "      <th>1546</th>\n",
              "      <td>low</td>\n",
              "      <td>med</td>\n",
              "      <td>3</td>\n",
              "      <td>2</td>\n",
              "      <td>big</td>\n",
              "      <td>med</td>\n",
              "      <td>unacc</td>\n",
              "    </tr>\n",
              "    <tr>\n",
              "      <th>730</th>\n",
              "      <td>high</td>\n",
              "      <td>med</td>\n",
              "      <td>5more</td>\n",
              "      <td>2</td>\n",
              "      <td>small</td>\n",
              "      <td>med</td>\n",
              "      <td>unacc</td>\n",
              "    </tr>\n",
              "  </tbody>\n",
              "</table>\n",
              "</div>"
            ],
            "text/plain": [
              "     buying maint  doors persons lug_boot safety    car\n",
              "1233    med   low      3    more    small    low  unacc\n",
              "592    high  high      3    more      big    med    acc\n",
              "625    high  high  5more       2      med    med  unacc\n",
              "1546    low   med      3       2      big    med  unacc\n",
              "730    high   med  5more       2    small    med  unacc"
            ]
          },
          "metadata": {
            "tags": []
          },
          "execution_count": 5
        }
      ]
    },
    {
      "cell_type": "markdown",
      "metadata": {
        "id": "B5kBfeZZbQJk",
        "colab_type": "text"
      },
      "source": [
        "## KFold"
      ]
    },
    {
      "cell_type": "code",
      "metadata": {
        "id": "KlKnqGdebQJl",
        "colab_type": "code",
        "colab": {}
      },
      "source": [
        "from sklearn.model_selection import KFold"
      ],
      "execution_count": 6,
      "outputs": []
    },
    {
      "cell_type": "code",
      "metadata": {
        "id": "8Q0HLrEjbQJq",
        "colab_type": "code",
        "colab": {}
      },
      "source": [
        "n_splits = 5"
      ],
      "execution_count": 7,
      "outputs": []
    },
    {
      "cell_type": "code",
      "metadata": {
        "id": "XVr1kaHPbQJw",
        "colab_type": "code",
        "colab": {}
      },
      "source": [
        "#create an instance of KFold\n",
        "_kf = KFold(n_splits=n_splits)"
      ],
      "execution_count": 8,
      "outputs": []
    },
    {
      "cell_type": "code",
      "metadata": {
        "id": "3T1UfHi5bQJz",
        "colab_type": "code",
        "colab": {}
      },
      "source": [
        "#create splits as _indices\n",
        "_indices = _kf.split(df)"
      ],
      "execution_count": 9,
      "outputs": []
    },
    {
      "cell_type": "code",
      "metadata": {
        "id": "Bx52vDyMbQJ5",
        "colab_type": "code",
        "colab": {}
      },
      "source": [
        "# create lists to hold training and validation DataFrames\n",
        "_t, _v = [], []"
      ],
      "execution_count": 10,
      "outputs": []
    },
    {
      "cell_type": "code",
      "metadata": {
        "id": "WmyBGmL8bQJ8",
        "colab_type": "code",
        "colab": {}
      },
      "source": [
        "#iterate over _indices\n",
        "for i in range(n_splits):\n",
        "    train_idx, val_idx = next(_indices)\n",
        "    _train_df = df.drop(val_idx)\n",
        "    _t.append(_train_df)\n",
        "    _val_df = df.drop(train_idx)\n",
        "    _v.append(_val_df)"
      ],
      "execution_count": 11,
      "outputs": []
    },
    {
      "cell_type": "code",
      "metadata": {
        "id": "zdhxalisbQKA",
        "colab_type": "code",
        "colab": {
          "base_uri": "https://localhost:8080/",
          "height": 1000
        },
        "outputId": "0a58a9dd-0e3c-4d8a-9133-e9587c89a3f1"
      },
      "source": [
        "for d in _t:\n",
        "    print(d.info())"
      ],
      "execution_count": 12,
      "outputs": [
        {
          "output_type": "stream",
          "text": [
            "<class 'pandas.core.frame.DataFrame'>\n",
            "Int64Index: 1382 entries, 346 to 1727\n",
            "Data columns (total 7 columns):\n",
            " #   Column    Non-Null Count  Dtype \n",
            "---  ------    --------------  ----- \n",
            " 0   buying    1382 non-null   object\n",
            " 1   maint     1382 non-null   object\n",
            " 2   doors     1382 non-null   object\n",
            " 3   persons   1382 non-null   object\n",
            " 4   lug_boot  1382 non-null   object\n",
            " 5   safety    1382 non-null   object\n",
            " 6   car       1382 non-null   object\n",
            "dtypes: object(7)\n",
            "memory usage: 86.4+ KB\n",
            "None\n",
            "<class 'pandas.core.frame.DataFrame'>\n",
            "Int64Index: 1382 entries, 0 to 1727\n",
            "Data columns (total 7 columns):\n",
            " #   Column    Non-Null Count  Dtype \n",
            "---  ------    --------------  ----- \n",
            " 0   buying    1382 non-null   object\n",
            " 1   maint     1382 non-null   object\n",
            " 2   doors     1382 non-null   object\n",
            " 3   persons   1382 non-null   object\n",
            " 4   lug_boot  1382 non-null   object\n",
            " 5   safety    1382 non-null   object\n",
            " 6   car       1382 non-null   object\n",
            "dtypes: object(7)\n",
            "memory usage: 86.4+ KB\n",
            "None\n",
            "<class 'pandas.core.frame.DataFrame'>\n",
            "Int64Index: 1382 entries, 0 to 1727\n",
            "Data columns (total 7 columns):\n",
            " #   Column    Non-Null Count  Dtype \n",
            "---  ------    --------------  ----- \n",
            " 0   buying    1382 non-null   object\n",
            " 1   maint     1382 non-null   object\n",
            " 2   doors     1382 non-null   object\n",
            " 3   persons   1382 non-null   object\n",
            " 4   lug_boot  1382 non-null   object\n",
            " 5   safety    1382 non-null   object\n",
            " 6   car       1382 non-null   object\n",
            "dtypes: object(7)\n",
            "memory usage: 86.4+ KB\n",
            "None\n",
            "<class 'pandas.core.frame.DataFrame'>\n",
            "Int64Index: 1383 entries, 0 to 1727\n",
            "Data columns (total 7 columns):\n",
            " #   Column    Non-Null Count  Dtype \n",
            "---  ------    --------------  ----- \n",
            " 0   buying    1383 non-null   object\n",
            " 1   maint     1383 non-null   object\n",
            " 2   doors     1383 non-null   object\n",
            " 3   persons   1383 non-null   object\n",
            " 4   lug_boot  1383 non-null   object\n",
            " 5   safety    1383 non-null   object\n",
            " 6   car       1383 non-null   object\n",
            "dtypes: object(7)\n",
            "memory usage: 86.4+ KB\n",
            "None\n",
            "<class 'pandas.core.frame.DataFrame'>\n",
            "Int64Index: 1383 entries, 0 to 1382\n",
            "Data columns (total 7 columns):\n",
            " #   Column    Non-Null Count  Dtype \n",
            "---  ------    --------------  ----- \n",
            " 0   buying    1383 non-null   object\n",
            " 1   maint     1383 non-null   object\n",
            " 2   doors     1383 non-null   object\n",
            " 3   persons   1383 non-null   object\n",
            " 4   lug_boot  1383 non-null   object\n",
            " 5   safety    1383 non-null   object\n",
            " 6   car       1383 non-null   object\n",
            "dtypes: object(7)\n",
            "memory usage: 86.4+ KB\n",
            "None\n"
          ],
          "name": "stdout"
        }
      ]
    },
    {
      "cell_type": "code",
      "metadata": {
        "id": "zlisAq67bQKE",
        "colab_type": "code",
        "colab": {
          "base_uri": "https://localhost:8080/",
          "height": 1000
        },
        "outputId": "65aaac45-3721-46c0-eb88-6fc6f8662d64"
      },
      "source": [
        "for d in _v:\n",
        "    print(d.info())"
      ],
      "execution_count": 13,
      "outputs": [
        {
          "output_type": "stream",
          "text": [
            "<class 'pandas.core.frame.DataFrame'>\n",
            "Int64Index: 346 entries, 0 to 345\n",
            "Data columns (total 7 columns):\n",
            " #   Column    Non-Null Count  Dtype \n",
            "---  ------    --------------  ----- \n",
            " 0   buying    346 non-null    object\n",
            " 1   maint     346 non-null    object\n",
            " 2   doors     346 non-null    object\n",
            " 3   persons   346 non-null    object\n",
            " 4   lug_boot  346 non-null    object\n",
            " 5   safety    346 non-null    object\n",
            " 6   car       346 non-null    object\n",
            "dtypes: object(7)\n",
            "memory usage: 21.6+ KB\n",
            "None\n",
            "<class 'pandas.core.frame.DataFrame'>\n",
            "Int64Index: 346 entries, 346 to 691\n",
            "Data columns (total 7 columns):\n",
            " #   Column    Non-Null Count  Dtype \n",
            "---  ------    --------------  ----- \n",
            " 0   buying    346 non-null    object\n",
            " 1   maint     346 non-null    object\n",
            " 2   doors     346 non-null    object\n",
            " 3   persons   346 non-null    object\n",
            " 4   lug_boot  346 non-null    object\n",
            " 5   safety    346 non-null    object\n",
            " 6   car       346 non-null    object\n",
            "dtypes: object(7)\n",
            "memory usage: 21.6+ KB\n",
            "None\n",
            "<class 'pandas.core.frame.DataFrame'>\n",
            "Int64Index: 346 entries, 692 to 1037\n",
            "Data columns (total 7 columns):\n",
            " #   Column    Non-Null Count  Dtype \n",
            "---  ------    --------------  ----- \n",
            " 0   buying    346 non-null    object\n",
            " 1   maint     346 non-null    object\n",
            " 2   doors     346 non-null    object\n",
            " 3   persons   346 non-null    object\n",
            " 4   lug_boot  346 non-null    object\n",
            " 5   safety    346 non-null    object\n",
            " 6   car       346 non-null    object\n",
            "dtypes: object(7)\n",
            "memory usage: 21.6+ KB\n",
            "None\n",
            "<class 'pandas.core.frame.DataFrame'>\n",
            "Int64Index: 345 entries, 1038 to 1382\n",
            "Data columns (total 7 columns):\n",
            " #   Column    Non-Null Count  Dtype \n",
            "---  ------    --------------  ----- \n",
            " 0   buying    345 non-null    object\n",
            " 1   maint     345 non-null    object\n",
            " 2   doors     345 non-null    object\n",
            " 3   persons   345 non-null    object\n",
            " 4   lug_boot  345 non-null    object\n",
            " 5   safety    345 non-null    object\n",
            " 6   car       345 non-null    object\n",
            "dtypes: object(7)\n",
            "memory usage: 21.6+ KB\n",
            "None\n",
            "<class 'pandas.core.frame.DataFrame'>\n",
            "Int64Index: 345 entries, 1383 to 1727\n",
            "Data columns (total 7 columns):\n",
            " #   Column    Non-Null Count  Dtype \n",
            "---  ------    --------------  ----- \n",
            " 0   buying    345 non-null    object\n",
            " 1   maint     345 non-null    object\n",
            " 2   doors     345 non-null    object\n",
            " 3   persons   345 non-null    object\n",
            " 4   lug_boot  345 non-null    object\n",
            " 5   safety    345 non-null    object\n",
            " 6   car       345 non-null    object\n",
            "dtypes: object(7)\n",
            "memory usage: 21.6+ KB\n",
            "None\n"
          ],
          "name": "stdout"
        }
      ]
    },
    {
      "cell_type": "code",
      "metadata": {
        "id": "iQK3oFtDbQKK",
        "colab_type": "code",
        "colab": {}
      },
      "source": [
        ""
      ],
      "execution_count": 13,
      "outputs": []
    }
  ]
}