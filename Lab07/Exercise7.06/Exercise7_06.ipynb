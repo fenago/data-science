{
 "cells": [
  {
   "cell_type": "markdown",
   "metadata": {
    "colab_type": "text",
    "id": "5xFdJOUdp0MU"
   },
   "source": [
    "# LogisticRegression with Cross Validation"
   ]
  },
  {
   "cell_type": "code",
   "execution_count": null,
   "metadata": {
    "colab": {},
    "colab_type": "code",
    "id": "XSdueLS5p0MW"
   },
   "outputs": [],
   "source": [
    "# import libraries\n",
    "import pandas as pd\n",
    "from sklearn.model_selection import train_test_split"
   ]
  },
  {
   "cell_type": "code",
   "execution_count": null,
   "metadata": {
    "colab": {
     "base_uri": "https://localhost:8080/",
     "height": 266
    },
    "colab_type": "code",
    "id": "cNaDu6p-p0Mb",
    "outputId": "f904e5e9-98bf-4aa2-f825-fc073f8109bd"
   },
   "outputs": [],
   "source": [
    "# data doesn't have headers, so let's create headers\n",
    "_headers = ['buying', 'maint', 'doors', 'persons', 'lug_boot', 'safety', 'car']\n",
    "# read in cars dataset\n",
    "df = pd.read_csv('https://raw.githubusercontent.com/PacktWorkshops/The-Data-Science-Workshop/master/Chapter07/Dataset/car.data', names=_headers, index_col=None)\n",
    "df.info()"
   ]
  },
  {
   "cell_type": "code",
   "execution_count": null,
   "metadata": {
    "colab": {
     "base_uri": "https://localhost:8080/",
     "height": 214
    },
    "colab_type": "code",
    "id": "m9t1Uegtp0Mg",
    "outputId": "ea41c775-130b-4acb-c299-e545bb5fdc78"
   },
   "outputs": [],
   "source": [
    "# encode categorical variables\n",
    "_df = pd.get_dummies(df, columns=['buying', 'maint', 'doors', 'persons', 'lug_boot', 'safety'])\n",
    "_df.head()"
   ]
  },
  {
   "cell_type": "code",
   "execution_count": null,
   "metadata": {
    "colab": {},
    "colab_type": "code",
    "id": "EMETiFK4p0Mk"
   },
   "outputs": [],
   "source": [
    "# separate features and labels DataFrames\n",
    "features = _df.drop(['car'], axis=1).values\n",
    "labels = _df[['car']].values"
   ]
  },
  {
   "cell_type": "code",
   "execution_count": null,
   "metadata": {
    "colab": {},
    "colab_type": "code",
    "id": "_uICHT5Np0Mr"
   },
   "outputs": [],
   "source": [
    "from sklearn.linear_model import LogisticRegressionCV"
   ]
  },
  {
   "cell_type": "code",
   "execution_count": null,
   "metadata": {
    "colab": {},
    "colab_type": "code",
    "id": "rrOws1nap0Mu"
   },
   "outputs": [],
   "source": [
    "model = LogisticRegressionCV(max_iter=2000, multi_class='auto', cv=5)"
   ]
  },
  {
   "cell_type": "code",
   "execution_count": null,
   "metadata": {
    "colab": {
     "base_uri": "https://localhost:8080/",
     "height": 106
    },
    "colab_type": "code",
    "id": "lhpjvrKzp0My",
    "outputId": "fcc92880-4dbf-4424-f8ba-ebc0c102e24a"
   },
   "outputs": [],
   "source": [
    "model.fit(features, labels.ravel())"
   ]
  },
  {
   "cell_type": "code",
   "execution_count": null,
   "metadata": {
    "colab": {
     "base_uri": "https://localhost:8080/",
     "height": 35
    },
    "colab_type": "code",
    "id": "IIy9tvVEp0M2",
    "outputId": "c66b57c9-9bbc-48dc-96e7-464944a2199e"
   },
   "outputs": [],
   "source": [
    "print(model.score(features, labels.ravel()))"
   ]
  }
 ],
 "metadata": {
  "colab": {
   "name": "Exercise7.06.ipynb",
   "provenance": []
  },
  "file_extension": ".py",
  "kernelspec": {
   "display_name": "Python 3",
   "language": "python",
   "name": "python3"
  },
  "language_info": {
   "codemirror_mode": {
    "name": "ipython",
    "version": 3
   },
   "file_extension": ".py",
   "mimetype": "text/x-python",
   "name": "python",
   "nbconvert_exporter": "python",
   "pygments_lexer": "ipython3",
   "version": "3.8.6"
  },
  "mimetype": "text/x-python",
  "name": "python",
  "npconvert_exporter": "python",
  "pygments_lexer": "ipython3",
  "version": 3
 },
 "nbformat": 4,
 "nbformat_minor": 1
}
